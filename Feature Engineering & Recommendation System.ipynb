{
  "cells": [
    {
      "cell_type": "code",
      "source": [
        "pip install kaggle"
      ],
      "metadata": {
        "colab": {
          "base_uri": "https://localhost:8080/"
        },
        "id": "4EhMS2wqFuco",
        "outputId": "07c5025a-f7f4-4385-f33d-3fb0285c2ef6"
      },
      "id": "4EhMS2wqFuco",
      "execution_count": 1,
      "outputs": [
        {
          "output_type": "stream",
          "name": "stdout",
          "text": [
            "Requirement already satisfied: kaggle in /usr/local/lib/python3.7/dist-packages (1.5.12)\n",
            "Requirement already satisfied: certifi in /usr/local/lib/python3.7/dist-packages (from kaggle) (2021.10.8)\n",
            "Requirement already satisfied: six>=1.10 in /usr/local/lib/python3.7/dist-packages (from kaggle) (1.15.0)\n",
            "Requirement already satisfied: tqdm in /usr/local/lib/python3.7/dist-packages (from kaggle) (4.64.0)\n",
            "Requirement already satisfied: requests in /usr/local/lib/python3.7/dist-packages (from kaggle) (2.23.0)\n",
            "Requirement already satisfied: urllib3 in /usr/local/lib/python3.7/dist-packages (from kaggle) (1.24.3)\n",
            "Requirement already satisfied: python-dateutil in /usr/local/lib/python3.7/dist-packages (from kaggle) (2.8.2)\n",
            "Requirement already satisfied: python-slugify in /usr/local/lib/python3.7/dist-packages (from kaggle) (6.1.1)\n",
            "Requirement already satisfied: text-unidecode>=1.3 in /usr/local/lib/python3.7/dist-packages (from python-slugify->kaggle) (1.3)\n",
            "Requirement already satisfied: chardet<4,>=3.0.2 in /usr/local/lib/python3.7/dist-packages (from requests->kaggle) (3.0.4)\n",
            "Requirement already satisfied: idna<3,>=2.5 in /usr/local/lib/python3.7/dist-packages (from requests->kaggle) (2.10)\n"
          ]
        }
      ]
    },
    {
      "cell_type": "code",
      "source": [
        "!mkdir ~/.kaggle"
      ],
      "metadata": {
        "id": "qEKY5DzmFyOG"
      },
      "id": "qEKY5DzmFyOG",
      "execution_count": 2,
      "outputs": []
    },
    {
      "cell_type": "code",
      "source": [
        "! cp kaggle.json ~/.kaggle/"
      ],
      "metadata": {
        "id": "VYuJIYYCF8Wd"
      },
      "id": "VYuJIYYCF8Wd",
      "execution_count": 3,
      "outputs": []
    },
    {
      "cell_type": "code",
      "source": [
        "! chmod 600 ~/.kaggle/kaggle.json"
      ],
      "metadata": {
        "id": "_NdfY_5dF8Qh"
      },
      "id": "_NdfY_5dF8Qh",
      "execution_count": 4,
      "outputs": []
    },
    {
      "cell_type": "code",
      "source": [
        "! kaggle datasets download -d olistbr/brazilian-ecommerce"
      ],
      "metadata": {
        "colab": {
          "base_uri": "https://localhost:8080/"
        },
        "id": "nfSPM2NPFyGQ",
        "outputId": "0e58200e-2ff0-45c3-de11-4166862d97c3"
      },
      "id": "nfSPM2NPFyGQ",
      "execution_count": 5,
      "outputs": [
        {
          "output_type": "stream",
          "name": "stdout",
          "text": [
            "Downloading brazilian-ecommerce.zip to /content\n",
            " 66% 28.0M/42.6M [00:00<00:00, 150MB/s] \n",
            "100% 42.6M/42.6M [00:00<00:00, 119MB/s]\n"
          ]
        }
      ]
    },
    {
      "cell_type": "code",
      "source": [
        "! unzip /content/brazilian-ecommerce.zip"
      ],
      "metadata": {
        "colab": {
          "base_uri": "https://localhost:8080/"
        },
        "id": "TDrktyCtFxrb",
        "outputId": "b306f4f1-c770-43e5-c6b1-30b572c8cca4"
      },
      "id": "TDrktyCtFxrb",
      "execution_count": 6,
      "outputs": [
        {
          "output_type": "stream",
          "name": "stdout",
          "text": [
            "Archive:  /content/brazilian-ecommerce.zip\n",
            "  inflating: olist_customers_dataset.csv  \n",
            "  inflating: olist_geolocation_dataset.csv  \n",
            "  inflating: olist_order_items_dataset.csv  \n",
            "  inflating: olist_order_payments_dataset.csv  \n",
            "  inflating: olist_order_reviews_dataset.csv  \n",
            "  inflating: olist_orders_dataset.csv  \n",
            "  inflating: olist_products_dataset.csv  \n",
            "  inflating: olist_sellers_dataset.csv  \n",
            "  inflating: product_category_name_translation.csv  \n"
          ]
        }
      ]
    },
    {
      "cell_type": "code",
      "execution_count": 168,
      "id": "2b810d6d",
      "metadata": {
        "id": "2b810d6d"
      },
      "outputs": [],
      "source": [
        "import pandas as pd\n",
        "import numpy as np\n",
        "import matplotlib.pyplot as plt\n",
        "import seaborn as sns\n",
        "from functools import reduce\n",
        "import datetime\n",
        "from scipy import sparse\n",
        "import scipy.sparse\n",
        "from sklearn.cluster import KMeans"
      ]
    },
    {
      "cell_type": "code",
      "execution_count": 293,
      "id": "490ccd49",
      "metadata": {
        "id": "490ccd49"
      },
      "outputs": [],
      "source": [
        "customersDF = pd.read_csv(\"/content/olist_customers_dataset.csv\")\n",
        "sellersDF = pd.read_csv(\"/content/olist_sellers_dataset.csv\")\n",
        "order_reviewsDF = pd.read_csv(\"/content/olist_order_reviews_dataset.csv\") \n",
        "ordersDF = pd.read_csv(\"/content/olist_orders_dataset.csv\", parse_dates=['order_purchase_timestamp','order_approved_at', 'order_estimated_delivery_date', 'order_delivered_customer_date','order_delivered_carrier_date'])\n",
        "productsDF = pd.read_csv(\"/content/olist_products_dataset.csv\")\n",
        "product_category_name_translation = pd.read_csv(\"/content/product_category_name_translation.csv\") \n",
        "order_itemsDF = pd.read_csv(\"/content/olist_order_items_dataset.csv\",parse_dates=['shipping_limit_date'])\n",
        "geolocationDF = pd.read_csv(\"/content/olist_geolocation_dataset.csv\")\n",
        "order_paymentsDF = pd.read_csv(\"/content/olist_order_payments_dataset.csv\") "
      ]
    },
    {
      "cell_type": "markdown",
      "id": "48fc9534",
      "metadata": {
        "id": "48fc9534"
      },
      "source": [
        "### Order Reviews DataSet"
      ]
    },
    {
      "cell_type": "code",
      "execution_count": 294,
      "id": "29e26f6a",
      "metadata": {
        "id": "29e26f6a"
      },
      "outputs": [],
      "source": [
        "## replace missing data with an appropriate label in order reviews data\n",
        "order_reviewsDF[\"review_comment_title\"] = order_reviewsDF[\"review_comment_title\"].replace(np.nan, \"no title\")\n",
        "order_reviewsDF[\"review_comment_message\"] = order_reviewsDF[\"review_comment_message\"].replace(np.nan,\"no comment given\")"
      ]
    },
    {
      "cell_type": "code",
      "execution_count": 295,
      "id": "196703fe",
      "metadata": {
        "id": "196703fe"
      },
      "outputs": [],
      "source": [
        "## converting datetime columns to the right format\n",
        "order_reviewsDF[\"review_creation_date\"] = pd.to_datetime(order_reviewsDF[\"review_creation_date\"])\n",
        "order_reviewsDF[\"review_answer_timestamp\"] = pd.to_datetime(order_reviewsDF[\"review_answer_timestamp\"])"
      ]
    },
    {
      "cell_type": "code",
      "execution_count": 296,
      "id": "c33e0f17",
      "metadata": {
        "id": "c33e0f17"
      },
      "outputs": [],
      "source": [
        "## changing all the the text to lowercase letter\n",
        "order_reviewsDF[\"review_comment_title\"] = order_reviewsDF[\"review_comment_title\"].str.lower()\n",
        "order_reviewsDF[\"review_comment_message\"] = order_reviewsDF[\"review_comment_message\"].str.lower()"
      ]
    },
    {
      "cell_type": "code",
      "execution_count": 297,
      "id": "78d81c9d",
      "metadata": {
        "id": "78d81c9d",
        "outputId": "c8596022-c1d5-4063-b8d9-6c8cc18e4f36",
        "colab": {
          "base_uri": "https://localhost:8080/",
          "height": 305
        }
      },
      "outputs": [
        {
          "output_type": "execute_result",
          "data": {
            "text/plain": [
              "                          review_id                          order_id  \\\n",
              "0  7bc2406110b926393aa56f80a40eba40  73fc7af87114b39712e6da79b0a377eb   \n",
              "1  80e641a11e56f04c1ad469d5645fdfde  a548910a1c6147796b98fdf73dbeba33   \n",
              "2  228ce5500dc1d8e020d8d1322874b6f0  f9e4b658b201a9f2ecdecbb34bed034b   \n",
              "3  e64fb393e7b32834bb789ff8bb30750e  658677c97b385a9be170737859d3511b   \n",
              "4  f7c4243c7fe1938f181bec41a392bdeb  8e6bfb81e283fa7e4f11123a3fb894f1   \n",
              "\n",
              "   review_score review_comment_title  \\\n",
              "0             4             no title   \n",
              "1             5             no title   \n",
              "2             5             no title   \n",
              "3             5             no title   \n",
              "4             5             no title   \n",
              "\n",
              "                              review_comment_message review_creation_date  \\\n",
              "0                                   no comment given           2018-01-18   \n",
              "1                                   no comment given           2018-03-10   \n",
              "2                                   no comment given           2018-02-17   \n",
              "3              recebi bem antes do prazo estipulado.           2017-04-21   \n",
              "4  parabéns lojas lannister adorei comprar pela i...           2018-03-01   \n",
              "\n",
              "  review_answer_timestamp  \n",
              "0     2018-01-18 21:46:59  \n",
              "1     2018-03-11 03:05:13  \n",
              "2     2018-02-18 14:36:24  \n",
              "3     2017-04-21 22:02:06  \n",
              "4     2018-03-02 10:26:53  "
            ],
            "text/html": [
              "\n",
              "  <div id=\"df-4572e181-b0f2-4364-9039-47b31e66f989\">\n",
              "    <div class=\"colab-df-container\">\n",
              "      <div>\n",
              "<style scoped>\n",
              "    .dataframe tbody tr th:only-of-type {\n",
              "        vertical-align: middle;\n",
              "    }\n",
              "\n",
              "    .dataframe tbody tr th {\n",
              "        vertical-align: top;\n",
              "    }\n",
              "\n",
              "    .dataframe thead th {\n",
              "        text-align: right;\n",
              "    }\n",
              "</style>\n",
              "<table border=\"1\" class=\"dataframe\">\n",
              "  <thead>\n",
              "    <tr style=\"text-align: right;\">\n",
              "      <th></th>\n",
              "      <th>review_id</th>\n",
              "      <th>order_id</th>\n",
              "      <th>review_score</th>\n",
              "      <th>review_comment_title</th>\n",
              "      <th>review_comment_message</th>\n",
              "      <th>review_creation_date</th>\n",
              "      <th>review_answer_timestamp</th>\n",
              "    </tr>\n",
              "  </thead>\n",
              "  <tbody>\n",
              "    <tr>\n",
              "      <th>0</th>\n",
              "      <td>7bc2406110b926393aa56f80a40eba40</td>\n",
              "      <td>73fc7af87114b39712e6da79b0a377eb</td>\n",
              "      <td>4</td>\n",
              "      <td>no title</td>\n",
              "      <td>no comment given</td>\n",
              "      <td>2018-01-18</td>\n",
              "      <td>2018-01-18 21:46:59</td>\n",
              "    </tr>\n",
              "    <tr>\n",
              "      <th>1</th>\n",
              "      <td>80e641a11e56f04c1ad469d5645fdfde</td>\n",
              "      <td>a548910a1c6147796b98fdf73dbeba33</td>\n",
              "      <td>5</td>\n",
              "      <td>no title</td>\n",
              "      <td>no comment given</td>\n",
              "      <td>2018-03-10</td>\n",
              "      <td>2018-03-11 03:05:13</td>\n",
              "    </tr>\n",
              "    <tr>\n",
              "      <th>2</th>\n",
              "      <td>228ce5500dc1d8e020d8d1322874b6f0</td>\n",
              "      <td>f9e4b658b201a9f2ecdecbb34bed034b</td>\n",
              "      <td>5</td>\n",
              "      <td>no title</td>\n",
              "      <td>no comment given</td>\n",
              "      <td>2018-02-17</td>\n",
              "      <td>2018-02-18 14:36:24</td>\n",
              "    </tr>\n",
              "    <tr>\n",
              "      <th>3</th>\n",
              "      <td>e64fb393e7b32834bb789ff8bb30750e</td>\n",
              "      <td>658677c97b385a9be170737859d3511b</td>\n",
              "      <td>5</td>\n",
              "      <td>no title</td>\n",
              "      <td>recebi bem antes do prazo estipulado.</td>\n",
              "      <td>2017-04-21</td>\n",
              "      <td>2017-04-21 22:02:06</td>\n",
              "    </tr>\n",
              "    <tr>\n",
              "      <th>4</th>\n",
              "      <td>f7c4243c7fe1938f181bec41a392bdeb</td>\n",
              "      <td>8e6bfb81e283fa7e4f11123a3fb894f1</td>\n",
              "      <td>5</td>\n",
              "      <td>no title</td>\n",
              "      <td>parabéns lojas lannister adorei comprar pela i...</td>\n",
              "      <td>2018-03-01</td>\n",
              "      <td>2018-03-02 10:26:53</td>\n",
              "    </tr>\n",
              "  </tbody>\n",
              "</table>\n",
              "</div>\n",
              "      <button class=\"colab-df-convert\" onclick=\"convertToInteractive('df-4572e181-b0f2-4364-9039-47b31e66f989')\"\n",
              "              title=\"Convert this dataframe to an interactive table.\"\n",
              "              style=\"display:none;\">\n",
              "        \n",
              "  <svg xmlns=\"http://www.w3.org/2000/svg\" height=\"24px\"viewBox=\"0 0 24 24\"\n",
              "       width=\"24px\">\n",
              "    <path d=\"M0 0h24v24H0V0z\" fill=\"none\"/>\n",
              "    <path d=\"M18.56 5.44l.94 2.06.94-2.06 2.06-.94-2.06-.94-.94-2.06-.94 2.06-2.06.94zm-11 1L8.5 8.5l.94-2.06 2.06-.94-2.06-.94L8.5 2.5l-.94 2.06-2.06.94zm10 10l.94 2.06.94-2.06 2.06-.94-2.06-.94-.94-2.06-.94 2.06-2.06.94z\"/><path d=\"M17.41 7.96l-1.37-1.37c-.4-.4-.92-.59-1.43-.59-.52 0-1.04.2-1.43.59L10.3 9.45l-7.72 7.72c-.78.78-.78 2.05 0 2.83L4 21.41c.39.39.9.59 1.41.59.51 0 1.02-.2 1.41-.59l7.78-7.78 2.81-2.81c.8-.78.8-2.07 0-2.86zM5.41 20L4 18.59l7.72-7.72 1.47 1.35L5.41 20z\"/>\n",
              "  </svg>\n",
              "      </button>\n",
              "      \n",
              "  <style>\n",
              "    .colab-df-container {\n",
              "      display:flex;\n",
              "      flex-wrap:wrap;\n",
              "      gap: 12px;\n",
              "    }\n",
              "\n",
              "    .colab-df-convert {\n",
              "      background-color: #E8F0FE;\n",
              "      border: none;\n",
              "      border-radius: 50%;\n",
              "      cursor: pointer;\n",
              "      display: none;\n",
              "      fill: #1967D2;\n",
              "      height: 32px;\n",
              "      padding: 0 0 0 0;\n",
              "      width: 32px;\n",
              "    }\n",
              "\n",
              "    .colab-df-convert:hover {\n",
              "      background-color: #E2EBFA;\n",
              "      box-shadow: 0px 1px 2px rgba(60, 64, 67, 0.3), 0px 1px 3px 1px rgba(60, 64, 67, 0.15);\n",
              "      fill: #174EA6;\n",
              "    }\n",
              "\n",
              "    [theme=dark] .colab-df-convert {\n",
              "      background-color: #3B4455;\n",
              "      fill: #D2E3FC;\n",
              "    }\n",
              "\n",
              "    [theme=dark] .colab-df-convert:hover {\n",
              "      background-color: #434B5C;\n",
              "      box-shadow: 0px 1px 3px 1px rgba(0, 0, 0, 0.15);\n",
              "      filter: drop-shadow(0px 1px 2px rgba(0, 0, 0, 0.3));\n",
              "      fill: #FFFFFF;\n",
              "    }\n",
              "  </style>\n",
              "\n",
              "      <script>\n",
              "        const buttonEl =\n",
              "          document.querySelector('#df-4572e181-b0f2-4364-9039-47b31e66f989 button.colab-df-convert');\n",
              "        buttonEl.style.display =\n",
              "          google.colab.kernel.accessAllowed ? 'block' : 'none';\n",
              "\n",
              "        async function convertToInteractive(key) {\n",
              "          const element = document.querySelector('#df-4572e181-b0f2-4364-9039-47b31e66f989');\n",
              "          const dataTable =\n",
              "            await google.colab.kernel.invokeFunction('convertToInteractive',\n",
              "                                                     [key], {});\n",
              "          if (!dataTable) return;\n",
              "\n",
              "          const docLinkHtml = 'Like what you see? Visit the ' +\n",
              "            '<a target=\"_blank\" href=https://colab.research.google.com/notebooks/data_table.ipynb>data table notebook</a>'\n",
              "            + ' to learn more about interactive tables.';\n",
              "          element.innerHTML = '';\n",
              "          dataTable['output_type'] = 'display_data';\n",
              "          await google.colab.output.renderOutput(dataTable, element);\n",
              "          const docLink = document.createElement('div');\n",
              "          docLink.innerHTML = docLinkHtml;\n",
              "          element.appendChild(docLink);\n",
              "        }\n",
              "      </script>\n",
              "    </div>\n",
              "  </div>\n",
              "  "
            ]
          },
          "metadata": {},
          "execution_count": 297
        }
      ],
      "source": [
        "order_reviewsDF.head()"
      ]
    },
    {
      "cell_type": "markdown",
      "id": "98552519",
      "metadata": {
        "id": "98552519"
      },
      "source": [
        "### Orders DataSet"
      ]
    },
    {
      "cell_type": "code",
      "execution_count": 298,
      "id": "3d9bdde7",
      "metadata": {
        "id": "3d9bdde7"
      },
      "outputs": [],
      "source": [
        "## dropping Nan values and cancelled orders\n",
        "ordersDF.dropna(inplace = True)\n",
        "ordersDF.drop(ordersDF[ordersDF.order_status == \"canceled\"].index, inplace = True)\n",
        "ordersDF.reset_index(drop = True, inplace = True)"
      ]
    },
    {
      "cell_type": "markdown",
      "id": "c4866db8",
      "metadata": {
        "id": "c4866db8"
      },
      "source": [
        "### Products DataSet"
      ]
    },
    {
      "cell_type": "code",
      "execution_count": 299,
      "id": "e5eecbb4",
      "metadata": {
        "id": "e5eecbb4"
      },
      "outputs": [],
      "source": [
        "## removing products with no description\n",
        "productsDF.dropna(inplace = True)\n",
        "productsDF.reset_index(drop = True, inplace = True)"
      ]
    },
    {
      "cell_type": "code",
      "execution_count": 300,
      "id": "23125b14",
      "metadata": {
        "id": "23125b14"
      },
      "outputs": [],
      "source": [
        "## getting the translation of the product category name using the translationDF\n",
        "product_category_name_translation = product_category_name_translation.set_index(\"product_category_name\")\n",
        "product_category_name_translation = product_category_name_translation.to_dict('dict')\n",
        "productsDF[\"product_category_name\"] = productsDF[\"product_category_name\"].replace(product_category_name_translation[\"product_category_name_english\"])"
      ]
    },
    {
      "cell_type": "code",
      "execution_count": 301,
      "id": "75c30f0d",
      "metadata": {
        "id": "75c30f0d",
        "outputId": "f1b9072e-c20c-40ba-8b99-1bb1672982a3",
        "colab": {
          "base_uri": "https://localhost:8080/",
          "height": 270
        }
      },
      "outputs": [
        {
          "output_type": "execute_result",
          "data": {
            "text/plain": [
              "                         product_id product_category_name  \\\n",
              "0  1e9e8ef04dbcff4541ed26657ea517e5             perfumery   \n",
              "1  3aa071139cb16b67ca9e5dea641aaa2f                   art   \n",
              "2  96bd76ec8810374ed1b65e291975717f        sports_leisure   \n",
              "3  cef67bcfe19066a932b7673e239eb23d                  baby   \n",
              "4  9dc1a7de274444849c219cff195d0b71            housewares   \n",
              "\n",
              "   product_name_lenght  product_description_lenght  product_photos_qty  \\\n",
              "0                 40.0                       287.0                 1.0   \n",
              "1                 44.0                       276.0                 1.0   \n",
              "2                 46.0                       250.0                 1.0   \n",
              "3                 27.0                       261.0                 1.0   \n",
              "4                 37.0                       402.0                 4.0   \n",
              "\n",
              "   product_weight_g  product_length_cm  product_height_cm  product_width_cm  \n",
              "0             225.0               16.0               10.0              14.0  \n",
              "1            1000.0               30.0               18.0              20.0  \n",
              "2             154.0               18.0                9.0              15.0  \n",
              "3             371.0               26.0                4.0              26.0  \n",
              "4             625.0               20.0               17.0              13.0  "
            ],
            "text/html": [
              "\n",
              "  <div id=\"df-c9e4229b-e531-4229-8d18-181213c0e8a3\">\n",
              "    <div class=\"colab-df-container\">\n",
              "      <div>\n",
              "<style scoped>\n",
              "    .dataframe tbody tr th:only-of-type {\n",
              "        vertical-align: middle;\n",
              "    }\n",
              "\n",
              "    .dataframe tbody tr th {\n",
              "        vertical-align: top;\n",
              "    }\n",
              "\n",
              "    .dataframe thead th {\n",
              "        text-align: right;\n",
              "    }\n",
              "</style>\n",
              "<table border=\"1\" class=\"dataframe\">\n",
              "  <thead>\n",
              "    <tr style=\"text-align: right;\">\n",
              "      <th></th>\n",
              "      <th>product_id</th>\n",
              "      <th>product_category_name</th>\n",
              "      <th>product_name_lenght</th>\n",
              "      <th>product_description_lenght</th>\n",
              "      <th>product_photos_qty</th>\n",
              "      <th>product_weight_g</th>\n",
              "      <th>product_length_cm</th>\n",
              "      <th>product_height_cm</th>\n",
              "      <th>product_width_cm</th>\n",
              "    </tr>\n",
              "  </thead>\n",
              "  <tbody>\n",
              "    <tr>\n",
              "      <th>0</th>\n",
              "      <td>1e9e8ef04dbcff4541ed26657ea517e5</td>\n",
              "      <td>perfumery</td>\n",
              "      <td>40.0</td>\n",
              "      <td>287.0</td>\n",
              "      <td>1.0</td>\n",
              "      <td>225.0</td>\n",
              "      <td>16.0</td>\n",
              "      <td>10.0</td>\n",
              "      <td>14.0</td>\n",
              "    </tr>\n",
              "    <tr>\n",
              "      <th>1</th>\n",
              "      <td>3aa071139cb16b67ca9e5dea641aaa2f</td>\n",
              "      <td>art</td>\n",
              "      <td>44.0</td>\n",
              "      <td>276.0</td>\n",
              "      <td>1.0</td>\n",
              "      <td>1000.0</td>\n",
              "      <td>30.0</td>\n",
              "      <td>18.0</td>\n",
              "      <td>20.0</td>\n",
              "    </tr>\n",
              "    <tr>\n",
              "      <th>2</th>\n",
              "      <td>96bd76ec8810374ed1b65e291975717f</td>\n",
              "      <td>sports_leisure</td>\n",
              "      <td>46.0</td>\n",
              "      <td>250.0</td>\n",
              "      <td>1.0</td>\n",
              "      <td>154.0</td>\n",
              "      <td>18.0</td>\n",
              "      <td>9.0</td>\n",
              "      <td>15.0</td>\n",
              "    </tr>\n",
              "    <tr>\n",
              "      <th>3</th>\n",
              "      <td>cef67bcfe19066a932b7673e239eb23d</td>\n",
              "      <td>baby</td>\n",
              "      <td>27.0</td>\n",
              "      <td>261.0</td>\n",
              "      <td>1.0</td>\n",
              "      <td>371.0</td>\n",
              "      <td>26.0</td>\n",
              "      <td>4.0</td>\n",
              "      <td>26.0</td>\n",
              "    </tr>\n",
              "    <tr>\n",
              "      <th>4</th>\n",
              "      <td>9dc1a7de274444849c219cff195d0b71</td>\n",
              "      <td>housewares</td>\n",
              "      <td>37.0</td>\n",
              "      <td>402.0</td>\n",
              "      <td>4.0</td>\n",
              "      <td>625.0</td>\n",
              "      <td>20.0</td>\n",
              "      <td>17.0</td>\n",
              "      <td>13.0</td>\n",
              "    </tr>\n",
              "  </tbody>\n",
              "</table>\n",
              "</div>\n",
              "      <button class=\"colab-df-convert\" onclick=\"convertToInteractive('df-c9e4229b-e531-4229-8d18-181213c0e8a3')\"\n",
              "              title=\"Convert this dataframe to an interactive table.\"\n",
              "              style=\"display:none;\">\n",
              "        \n",
              "  <svg xmlns=\"http://www.w3.org/2000/svg\" height=\"24px\"viewBox=\"0 0 24 24\"\n",
              "       width=\"24px\">\n",
              "    <path d=\"M0 0h24v24H0V0z\" fill=\"none\"/>\n",
              "    <path d=\"M18.56 5.44l.94 2.06.94-2.06 2.06-.94-2.06-.94-.94-2.06-.94 2.06-2.06.94zm-11 1L8.5 8.5l.94-2.06 2.06-.94-2.06-.94L8.5 2.5l-.94 2.06-2.06.94zm10 10l.94 2.06.94-2.06 2.06-.94-2.06-.94-.94-2.06-.94 2.06-2.06.94z\"/><path d=\"M17.41 7.96l-1.37-1.37c-.4-.4-.92-.59-1.43-.59-.52 0-1.04.2-1.43.59L10.3 9.45l-7.72 7.72c-.78.78-.78 2.05 0 2.83L4 21.41c.39.39.9.59 1.41.59.51 0 1.02-.2 1.41-.59l7.78-7.78 2.81-2.81c.8-.78.8-2.07 0-2.86zM5.41 20L4 18.59l7.72-7.72 1.47 1.35L5.41 20z\"/>\n",
              "  </svg>\n",
              "      </button>\n",
              "      \n",
              "  <style>\n",
              "    .colab-df-container {\n",
              "      display:flex;\n",
              "      flex-wrap:wrap;\n",
              "      gap: 12px;\n",
              "    }\n",
              "\n",
              "    .colab-df-convert {\n",
              "      background-color: #E8F0FE;\n",
              "      border: none;\n",
              "      border-radius: 50%;\n",
              "      cursor: pointer;\n",
              "      display: none;\n",
              "      fill: #1967D2;\n",
              "      height: 32px;\n",
              "      padding: 0 0 0 0;\n",
              "      width: 32px;\n",
              "    }\n",
              "\n",
              "    .colab-df-convert:hover {\n",
              "      background-color: #E2EBFA;\n",
              "      box-shadow: 0px 1px 2px rgba(60, 64, 67, 0.3), 0px 1px 3px 1px rgba(60, 64, 67, 0.15);\n",
              "      fill: #174EA6;\n",
              "    }\n",
              "\n",
              "    [theme=dark] .colab-df-convert {\n",
              "      background-color: #3B4455;\n",
              "      fill: #D2E3FC;\n",
              "    }\n",
              "\n",
              "    [theme=dark] .colab-df-convert:hover {\n",
              "      background-color: #434B5C;\n",
              "      box-shadow: 0px 1px 3px 1px rgba(0, 0, 0, 0.15);\n",
              "      filter: drop-shadow(0px 1px 2px rgba(0, 0, 0, 0.3));\n",
              "      fill: #FFFFFF;\n",
              "    }\n",
              "  </style>\n",
              "\n",
              "      <script>\n",
              "        const buttonEl =\n",
              "          document.querySelector('#df-c9e4229b-e531-4229-8d18-181213c0e8a3 button.colab-df-convert');\n",
              "        buttonEl.style.display =\n",
              "          google.colab.kernel.accessAllowed ? 'block' : 'none';\n",
              "\n",
              "        async function convertToInteractive(key) {\n",
              "          const element = document.querySelector('#df-c9e4229b-e531-4229-8d18-181213c0e8a3');\n",
              "          const dataTable =\n",
              "            await google.colab.kernel.invokeFunction('convertToInteractive',\n",
              "                                                     [key], {});\n",
              "          if (!dataTable) return;\n",
              "\n",
              "          const docLinkHtml = 'Like what you see? Visit the ' +\n",
              "            '<a target=\"_blank\" href=https://colab.research.google.com/notebooks/data_table.ipynb>data table notebook</a>'\n",
              "            + ' to learn more about interactive tables.';\n",
              "          element.innerHTML = '';\n",
              "          dataTable['output_type'] = 'display_data';\n",
              "          await google.colab.output.renderOutput(dataTable, element);\n",
              "          const docLink = document.createElement('div');\n",
              "          docLink.innerHTML = docLinkHtml;\n",
              "          element.appendChild(docLink);\n",
              "        }\n",
              "      </script>\n",
              "    </div>\n",
              "  </div>\n",
              "  "
            ]
          },
          "metadata": {},
          "execution_count": 301
        }
      ],
      "source": [
        "productsDF.head()"
      ]
    },
    {
      "cell_type": "markdown",
      "id": "c13e1fa9",
      "metadata": {
        "id": "c13e1fa9"
      },
      "source": [
        "### Geolocation DataSet"
      ]
    },
    {
      "cell_type": "code",
      "execution_count": 302,
      "id": "19a855c1",
      "metadata": {
        "id": "19a855c1",
        "outputId": "901a2833-0d0a-465f-d7cc-384e36eb0b95",
        "colab": {
          "base_uri": "https://localhost:8080/"
        }
      },
      "outputs": [
        {
          "output_type": "execute_result",
          "data": {
            "text/plain": [
              "(1000163, 5)"
            ]
          },
          "metadata": {},
          "execution_count": 302
        }
      ],
      "source": [
        "geolocationDF.shape"
      ]
    },
    {
      "cell_type": "code",
      "execution_count": 303,
      "id": "6c5475fc",
      "metadata": {
        "id": "6c5475fc",
        "outputId": "40d0c5f2-5ab4-4b9e-dc3a-59ab3bfcfd1e",
        "colab": {
          "base_uri": "https://localhost:8080/"
        }
      },
      "outputs": [
        {
          "output_type": "execute_result",
          "data": {
            "text/plain": [
              "19015"
            ]
          },
          "metadata": {},
          "execution_count": 303
        }
      ],
      "source": [
        "geolocationDF.geolocation_zip_code_prefix.nunique()"
      ]
    },
    {
      "cell_type": "code",
      "execution_count": 304,
      "id": "48635f7d",
      "metadata": {
        "id": "48635f7d"
      },
      "outputs": [],
      "source": [
        "## location data seems to have many duplicates with very little lat and lng variations between each. \n",
        "## Keeping only the first of each zip code will help avoid merge issues later on\n",
        "geolocationDF.drop_duplicates(subset = ['geolocation_zip_code_prefix'], keep = 'first', inplace = True)"
      ]
    },
    {
      "cell_type": "markdown",
      "id": "3353e7f8",
      "metadata": {
        "id": "3353e7f8"
      },
      "source": [
        "### Creating dataframes containing seller and customer information which will help in creating the data in the format we need to build a recommendation engine"
      ]
    },
    {
      "cell_type": "markdown",
      "id": "70a17d02",
      "metadata": {
        "id": "70a17d02"
      },
      "source": [
        "#### To properly analyze customer ratings and seller influences we combine dataframes related to their respective content."
      ]
    },
    {
      "cell_type": "code",
      "execution_count": 305,
      "id": "748f3aa1",
      "metadata": {
        "id": "748f3aa1",
        "outputId": "3861a399-f2a0-461f-d5b1-6a915adbf111",
        "colab": {
          "base_uri": "https://localhost:8080/"
        }
      },
      "outputs": [
        {
          "output_type": "stream",
          "name": "stderr",
          "text": [
            "/usr/local/lib/python3.7/dist-packages/ipykernel_launcher.py:7: FutureWarning: In a future version of pandas all arguments of DataFrame.drop except for the argument 'labels' will be keyword-only\n",
            "  import sys\n",
            "/usr/local/lib/python3.7/dist-packages/ipykernel_launcher.py:10: FutureWarning: In a future version of pandas all arguments of DataFrame.drop except for the argument 'labels' will be keyword-only\n",
            "  # Remove the CWD from sys.path while we load stuff.\n"
          ]
        }
      ],
      "source": [
        "customer_purchases = reduce(lambda left,right: pd.merge(left,right, how = 'inner', on=\"order_id\"), [ordersDF, order_itemsDF, order_reviewsDF])\n",
        "\n",
        "## drop duplicate rows based on all columns except the one's related to the reviews\n",
        "customer_purchases.drop_duplicates(keep = 'first',subset=customer_purchases.columns.difference(['review_id', 'review_answer_timestamp', 'review_creation_date']),inplace=True)\n",
        "\n",
        "## dropping columns related to delivery and order status\n",
        "customer_purchases.drop(['order_approved_at', 'order_delivered_carrier_date', 'order_status'], 1, inplace=True)\n",
        "\n",
        "## adding customers geolocation information to customer_purchases df and dropping columns that are not required\n",
        "customer_info = pd.merge(pd.merge(customer_purchases, customersDF, on = 'customer_id'), geolocationDF,left_on ='customer_zip_code_prefix', right_on = 'geolocation_zip_code_prefix').drop(['geolocation_zip_code_prefix', 'geolocation_city', 'geolocation_state'], 1).reset_index(drop=True)\n",
        "\n",
        "# merging product info to get the product_category name from productsDF\n",
        "customer_info = customer_info.merge(productsDF, on = 'product_id')"
      ]
    },
    {
      "cell_type": "code",
      "execution_count": 306,
      "id": "b29351be",
      "metadata": {
        "id": "b29351be",
        "outputId": "145cffcb-a447-4bcf-f162-bb6b45d07329",
        "colab": {
          "base_uri": "https://localhost:8080/",
          "height": 299
        }
      },
      "outputs": [
        {
          "output_type": "execute_result",
          "data": {
            "text/plain": [
              "                           order_id                       customer_id  \\\n",
              "0  e481f51cbdc54678b7cc49136f2d6af7  9ef432eb6251297304e76186b10a928d   \n",
              "1  bfc39df4f36c3693ff3b63fcbea9e90a  53904ddbea91e1e92b2b3f1d09a7af86   \n",
              "2  128e10d95713541c87cd1a2e48201934  a20e8105f23924cd00833fd87daa0831   \n",
              "3  0e7e841ddf8f8f2de2bad69267ecfbcf  26c7ac168e1433912a51b924fbd34d34   \n",
              "4  70b35acffdf851e782ebf6fbc35eb620  8e8ee9b08afb49b080d193f98b0505af   \n",
              "\n",
              "  order_purchase_timestamp order_delivered_customer_date  \\\n",
              "0      2017-10-02 10:56:33           2017-10-10 21:25:13   \n",
              "1      2017-10-23 23:26:46           2017-11-07 18:04:59   \n",
              "2      2017-08-15 18:29:31           2017-08-18 14:44:43   \n",
              "3      2017-08-02 18:24:47           2017-08-07 18:30:01   \n",
              "4      2018-03-22 17:23:21           2018-03-25 17:22:41   \n",
              "\n",
              "  order_estimated_delivery_date  order_item_id  \\\n",
              "0                    2017-10-18              1   \n",
              "1                    2017-11-13              1   \n",
              "2                    2017-08-28              1   \n",
              "3                    2017-08-15              1   \n",
              "4                    2018-04-04              1   \n",
              "\n",
              "                         product_id                         seller_id  \\\n",
              "0  87285b34884572647811a353c7ac498a  3504c0cb71d7fa48d967e0e4c94d59d9   \n",
              "1  87285b34884572647811a353c7ac498a  3504c0cb71d7fa48d967e0e4c94d59d9   \n",
              "2  87285b34884572647811a353c7ac498a  3504c0cb71d7fa48d967e0e4c94d59d9   \n",
              "3  87285b34884572647811a353c7ac498a  3504c0cb71d7fa48d967e0e4c94d59d9   \n",
              "4  6cc44821f36f3156c782da72dd634e47  da8622b14eb17ae2831f4ac5b9dab84a   \n",
              "\n",
              "  shipping_limit_date  price  ...  geolocation_lat geolocation_lng  \\\n",
              "0 2017-10-06 11:07:15  29.99  ...       -23.574809      -46.587471   \n",
              "1 2017-10-31 02:14:11  29.99  ...       -27.536913      -48.509018   \n",
              "2 2017-08-21 20:05:16  29.99  ...       -23.565578      -46.534603   \n",
              "3 2017-08-08 18:37:31  29.99  ...       -23.543295      -46.630743   \n",
              "4 2018-03-28 18:05:36  99.90  ...       -23.574809      -46.587471   \n",
              "\n",
              "   product_category_name product_name_lenght product_description_lenght  \\\n",
              "0             housewares                40.0                      268.0   \n",
              "1             housewares                40.0                      268.0   \n",
              "2             housewares                40.0                      268.0   \n",
              "3             housewares                40.0                      268.0   \n",
              "4         bed_bath_table                55.0                      273.0   \n",
              "\n",
              "  product_photos_qty product_weight_g product_length_cm  product_height_cm  \\\n",
              "0                4.0            500.0              19.0                8.0   \n",
              "1                4.0            500.0              19.0                8.0   \n",
              "2                4.0            500.0              19.0                8.0   \n",
              "3                4.0            500.0              19.0                8.0   \n",
              "4                1.0           1050.0              38.0               10.0   \n",
              "\n",
              "  product_width_cm  \n",
              "0             13.0  \n",
              "1             13.0  \n",
              "2             13.0  \n",
              "3             13.0  \n",
              "4             38.0  \n",
              "\n",
              "[5 rows x 31 columns]"
            ],
            "text/html": [
              "\n",
              "  <div id=\"df-8854799a-deb0-4dfc-9ffb-9c0f99cd338a\">\n",
              "    <div class=\"colab-df-container\">\n",
              "      <div>\n",
              "<style scoped>\n",
              "    .dataframe tbody tr th:only-of-type {\n",
              "        vertical-align: middle;\n",
              "    }\n",
              "\n",
              "    .dataframe tbody tr th {\n",
              "        vertical-align: top;\n",
              "    }\n",
              "\n",
              "    .dataframe thead th {\n",
              "        text-align: right;\n",
              "    }\n",
              "</style>\n",
              "<table border=\"1\" class=\"dataframe\">\n",
              "  <thead>\n",
              "    <tr style=\"text-align: right;\">\n",
              "      <th></th>\n",
              "      <th>order_id</th>\n",
              "      <th>customer_id</th>\n",
              "      <th>order_purchase_timestamp</th>\n",
              "      <th>order_delivered_customer_date</th>\n",
              "      <th>order_estimated_delivery_date</th>\n",
              "      <th>order_item_id</th>\n",
              "      <th>product_id</th>\n",
              "      <th>seller_id</th>\n",
              "      <th>shipping_limit_date</th>\n",
              "      <th>price</th>\n",
              "      <th>...</th>\n",
              "      <th>geolocation_lat</th>\n",
              "      <th>geolocation_lng</th>\n",
              "      <th>product_category_name</th>\n",
              "      <th>product_name_lenght</th>\n",
              "      <th>product_description_lenght</th>\n",
              "      <th>product_photos_qty</th>\n",
              "      <th>product_weight_g</th>\n",
              "      <th>product_length_cm</th>\n",
              "      <th>product_height_cm</th>\n",
              "      <th>product_width_cm</th>\n",
              "    </tr>\n",
              "  </thead>\n",
              "  <tbody>\n",
              "    <tr>\n",
              "      <th>0</th>\n",
              "      <td>e481f51cbdc54678b7cc49136f2d6af7</td>\n",
              "      <td>9ef432eb6251297304e76186b10a928d</td>\n",
              "      <td>2017-10-02 10:56:33</td>\n",
              "      <td>2017-10-10 21:25:13</td>\n",
              "      <td>2017-10-18</td>\n",
              "      <td>1</td>\n",
              "      <td>87285b34884572647811a353c7ac498a</td>\n",
              "      <td>3504c0cb71d7fa48d967e0e4c94d59d9</td>\n",
              "      <td>2017-10-06 11:07:15</td>\n",
              "      <td>29.99</td>\n",
              "      <td>...</td>\n",
              "      <td>-23.574809</td>\n",
              "      <td>-46.587471</td>\n",
              "      <td>housewares</td>\n",
              "      <td>40.0</td>\n",
              "      <td>268.0</td>\n",
              "      <td>4.0</td>\n",
              "      <td>500.0</td>\n",
              "      <td>19.0</td>\n",
              "      <td>8.0</td>\n",
              "      <td>13.0</td>\n",
              "    </tr>\n",
              "    <tr>\n",
              "      <th>1</th>\n",
              "      <td>bfc39df4f36c3693ff3b63fcbea9e90a</td>\n",
              "      <td>53904ddbea91e1e92b2b3f1d09a7af86</td>\n",
              "      <td>2017-10-23 23:26:46</td>\n",
              "      <td>2017-11-07 18:04:59</td>\n",
              "      <td>2017-11-13</td>\n",
              "      <td>1</td>\n",
              "      <td>87285b34884572647811a353c7ac498a</td>\n",
              "      <td>3504c0cb71d7fa48d967e0e4c94d59d9</td>\n",
              "      <td>2017-10-31 02:14:11</td>\n",
              "      <td>29.99</td>\n",
              "      <td>...</td>\n",
              "      <td>-27.536913</td>\n",
              "      <td>-48.509018</td>\n",
              "      <td>housewares</td>\n",
              "      <td>40.0</td>\n",
              "      <td>268.0</td>\n",
              "      <td>4.0</td>\n",
              "      <td>500.0</td>\n",
              "      <td>19.0</td>\n",
              "      <td>8.0</td>\n",
              "      <td>13.0</td>\n",
              "    </tr>\n",
              "    <tr>\n",
              "      <th>2</th>\n",
              "      <td>128e10d95713541c87cd1a2e48201934</td>\n",
              "      <td>a20e8105f23924cd00833fd87daa0831</td>\n",
              "      <td>2017-08-15 18:29:31</td>\n",
              "      <td>2017-08-18 14:44:43</td>\n",
              "      <td>2017-08-28</td>\n",
              "      <td>1</td>\n",
              "      <td>87285b34884572647811a353c7ac498a</td>\n",
              "      <td>3504c0cb71d7fa48d967e0e4c94d59d9</td>\n",
              "      <td>2017-08-21 20:05:16</td>\n",
              "      <td>29.99</td>\n",
              "      <td>...</td>\n",
              "      <td>-23.565578</td>\n",
              "      <td>-46.534603</td>\n",
              "      <td>housewares</td>\n",
              "      <td>40.0</td>\n",
              "      <td>268.0</td>\n",
              "      <td>4.0</td>\n",
              "      <td>500.0</td>\n",
              "      <td>19.0</td>\n",
              "      <td>8.0</td>\n",
              "      <td>13.0</td>\n",
              "    </tr>\n",
              "    <tr>\n",
              "      <th>3</th>\n",
              "      <td>0e7e841ddf8f8f2de2bad69267ecfbcf</td>\n",
              "      <td>26c7ac168e1433912a51b924fbd34d34</td>\n",
              "      <td>2017-08-02 18:24:47</td>\n",
              "      <td>2017-08-07 18:30:01</td>\n",
              "      <td>2017-08-15</td>\n",
              "      <td>1</td>\n",
              "      <td>87285b34884572647811a353c7ac498a</td>\n",
              "      <td>3504c0cb71d7fa48d967e0e4c94d59d9</td>\n",
              "      <td>2017-08-08 18:37:31</td>\n",
              "      <td>29.99</td>\n",
              "      <td>...</td>\n",
              "      <td>-23.543295</td>\n",
              "      <td>-46.630743</td>\n",
              "      <td>housewares</td>\n",
              "      <td>40.0</td>\n",
              "      <td>268.0</td>\n",
              "      <td>4.0</td>\n",
              "      <td>500.0</td>\n",
              "      <td>19.0</td>\n",
              "      <td>8.0</td>\n",
              "      <td>13.0</td>\n",
              "    </tr>\n",
              "    <tr>\n",
              "      <th>4</th>\n",
              "      <td>70b35acffdf851e782ebf6fbc35eb620</td>\n",
              "      <td>8e8ee9b08afb49b080d193f98b0505af</td>\n",
              "      <td>2018-03-22 17:23:21</td>\n",
              "      <td>2018-03-25 17:22:41</td>\n",
              "      <td>2018-04-04</td>\n",
              "      <td>1</td>\n",
              "      <td>6cc44821f36f3156c782da72dd634e47</td>\n",
              "      <td>da8622b14eb17ae2831f4ac5b9dab84a</td>\n",
              "      <td>2018-03-28 18:05:36</td>\n",
              "      <td>99.90</td>\n",
              "      <td>...</td>\n",
              "      <td>-23.574809</td>\n",
              "      <td>-46.587471</td>\n",
              "      <td>bed_bath_table</td>\n",
              "      <td>55.0</td>\n",
              "      <td>273.0</td>\n",
              "      <td>1.0</td>\n",
              "      <td>1050.0</td>\n",
              "      <td>38.0</td>\n",
              "      <td>10.0</td>\n",
              "      <td>38.0</td>\n",
              "    </tr>\n",
              "  </tbody>\n",
              "</table>\n",
              "<p>5 rows × 31 columns</p>\n",
              "</div>\n",
              "      <button class=\"colab-df-convert\" onclick=\"convertToInteractive('df-8854799a-deb0-4dfc-9ffb-9c0f99cd338a')\"\n",
              "              title=\"Convert this dataframe to an interactive table.\"\n",
              "              style=\"display:none;\">\n",
              "        \n",
              "  <svg xmlns=\"http://www.w3.org/2000/svg\" height=\"24px\"viewBox=\"0 0 24 24\"\n",
              "       width=\"24px\">\n",
              "    <path d=\"M0 0h24v24H0V0z\" fill=\"none\"/>\n",
              "    <path d=\"M18.56 5.44l.94 2.06.94-2.06 2.06-.94-2.06-.94-.94-2.06-.94 2.06-2.06.94zm-11 1L8.5 8.5l.94-2.06 2.06-.94-2.06-.94L8.5 2.5l-.94 2.06-2.06.94zm10 10l.94 2.06.94-2.06 2.06-.94-2.06-.94-.94-2.06-.94 2.06-2.06.94z\"/><path d=\"M17.41 7.96l-1.37-1.37c-.4-.4-.92-.59-1.43-.59-.52 0-1.04.2-1.43.59L10.3 9.45l-7.72 7.72c-.78.78-.78 2.05 0 2.83L4 21.41c.39.39.9.59 1.41.59.51 0 1.02-.2 1.41-.59l7.78-7.78 2.81-2.81c.8-.78.8-2.07 0-2.86zM5.41 20L4 18.59l7.72-7.72 1.47 1.35L5.41 20z\"/>\n",
              "  </svg>\n",
              "      </button>\n",
              "      \n",
              "  <style>\n",
              "    .colab-df-container {\n",
              "      display:flex;\n",
              "      flex-wrap:wrap;\n",
              "      gap: 12px;\n",
              "    }\n",
              "\n",
              "    .colab-df-convert {\n",
              "      background-color: #E8F0FE;\n",
              "      border: none;\n",
              "      border-radius: 50%;\n",
              "      cursor: pointer;\n",
              "      display: none;\n",
              "      fill: #1967D2;\n",
              "      height: 32px;\n",
              "      padding: 0 0 0 0;\n",
              "      width: 32px;\n",
              "    }\n",
              "\n",
              "    .colab-df-convert:hover {\n",
              "      background-color: #E2EBFA;\n",
              "      box-shadow: 0px 1px 2px rgba(60, 64, 67, 0.3), 0px 1px 3px 1px rgba(60, 64, 67, 0.15);\n",
              "      fill: #174EA6;\n",
              "    }\n",
              "\n",
              "    [theme=dark] .colab-df-convert {\n",
              "      background-color: #3B4455;\n",
              "      fill: #D2E3FC;\n",
              "    }\n",
              "\n",
              "    [theme=dark] .colab-df-convert:hover {\n",
              "      background-color: #434B5C;\n",
              "      box-shadow: 0px 1px 3px 1px rgba(0, 0, 0, 0.15);\n",
              "      filter: drop-shadow(0px 1px 2px rgba(0, 0, 0, 0.3));\n",
              "      fill: #FFFFFF;\n",
              "    }\n",
              "  </style>\n",
              "\n",
              "      <script>\n",
              "        const buttonEl =\n",
              "          document.querySelector('#df-8854799a-deb0-4dfc-9ffb-9c0f99cd338a button.colab-df-convert');\n",
              "        buttonEl.style.display =\n",
              "          google.colab.kernel.accessAllowed ? 'block' : 'none';\n",
              "\n",
              "        async function convertToInteractive(key) {\n",
              "          const element = document.querySelector('#df-8854799a-deb0-4dfc-9ffb-9c0f99cd338a');\n",
              "          const dataTable =\n",
              "            await google.colab.kernel.invokeFunction('convertToInteractive',\n",
              "                                                     [key], {});\n",
              "          if (!dataTable) return;\n",
              "\n",
              "          const docLinkHtml = 'Like what you see? Visit the ' +\n",
              "            '<a target=\"_blank\" href=https://colab.research.google.com/notebooks/data_table.ipynb>data table notebook</a>'\n",
              "            + ' to learn more about interactive tables.';\n",
              "          element.innerHTML = '';\n",
              "          dataTable['output_type'] = 'display_data';\n",
              "          await google.colab.output.renderOutput(dataTable, element);\n",
              "          const docLink = document.createElement('div');\n",
              "          docLink.innerHTML = docLinkHtml;\n",
              "          element.appendChild(docLink);\n",
              "        }\n",
              "      </script>\n",
              "    </div>\n",
              "  </div>\n",
              "  "
            ]
          },
          "metadata": {},
          "execution_count": 306
        }
      ],
      "source": [
        "customer_info.head()"
      ]
    },
    {
      "cell_type": "code",
      "execution_count": 307,
      "id": "ddc92abd",
      "metadata": {
        "id": "ddc92abd",
        "outputId": "c5cf9f93-ae19-4d4f-ca5e-fb62195f48e7",
        "colab": {
          "base_uri": "https://localhost:8080/"
        }
      },
      "outputs": [
        {
          "output_type": "stream",
          "name": "stderr",
          "text": [
            "/usr/local/lib/python3.7/dist-packages/ipykernel_launcher.py:5: FutureWarning: In a future version of pandas all arguments of DataFrame.drop except for the argument 'labels' will be keyword-only\n",
            "  \"\"\"\n"
          ]
        }
      ],
      "source": [
        "## merge dataframes together that give us seller information\n",
        "seller_info = pd.merge(pd.merge(pd.merge(pd.merge(order_itemsDF,sellersDF, on = 'seller_id'),productsDF, on = 'product_id'),order_reviewsDF, on = 'order_id'),geolocationDF, how = 'inner', left_on ='seller_zip_code_prefix',right_on = 'geolocation_zip_code_prefix')\n",
        "\n",
        "# drop redundant and unnecessary columns\n",
        "seller_info.drop(['geolocation_zip_code_prefix', 'geolocation_city', 'geolocation_state', 'freight_value'], 1, inplace=True)\n",
        "seller_info.reset_index(drop=True, inplace=True)"
      ]
    },
    {
      "cell_type": "code",
      "execution_count": 308,
      "id": "7b621362",
      "metadata": {
        "id": "7b621362"
      },
      "outputs": [],
      "source": [
        "seller_info.drop_duplicates(keep = \"first\", subset=seller_info.columns.difference(['review_id', 'review_answer_timestamp', 'review_creation_date']),inplace=True)"
      ]
    },
    {
      "cell_type": "code",
      "execution_count": 309,
      "id": "c6bdab69",
      "metadata": {
        "id": "c6bdab69",
        "outputId": "e97cbf13-bcb3-492b-c3f5-16c6a4315b57",
        "colab": {
          "base_uri": "https://localhost:8080/",
          "height": 334
        }
      },
      "outputs": [
        {
          "output_type": "execute_result",
          "data": {
            "text/plain": [
              "                           order_id  order_item_id  \\\n",
              "0  00010242fe8c5a6d1ba2dd792cb16214              1   \n",
              "1  130898c0987d1801452a8ed92a670612              1   \n",
              "2  532ed5e14e24ae1f0d735b91524b98b9              1   \n",
              "3  6f8c31653edb8c83e1a739408b5ff750              1   \n",
              "4  7d19f4ef4d04461989632411b7e588b9              1   \n",
              "\n",
              "                         product_id                         seller_id  \\\n",
              "0  4244733e06e7ecb4970a6e2683c13e61  48436dade18ac8b2bce089ec2a041202   \n",
              "1  4244733e06e7ecb4970a6e2683c13e61  48436dade18ac8b2bce089ec2a041202   \n",
              "2  4244733e06e7ecb4970a6e2683c13e61  48436dade18ac8b2bce089ec2a041202   \n",
              "3  4244733e06e7ecb4970a6e2683c13e61  48436dade18ac8b2bce089ec2a041202   \n",
              "4  4244733e06e7ecb4970a6e2683c13e61  48436dade18ac8b2bce089ec2a041202   \n",
              "\n",
              "  shipping_limit_date  price  seller_zip_code_prefix    seller_city  \\\n",
              "0 2017-09-19 09:45:35   58.9                   27277  volta redonda   \n",
              "1 2017-07-05 02:44:11   55.9                   27277  volta redonda   \n",
              "2 2018-05-23 10:56:25   64.9                   27277  volta redonda   \n",
              "3 2017-08-07 18:55:08   58.9                   27277  volta redonda   \n",
              "4 2017-08-16 22:05:11   58.9                   27277  volta redonda   \n",
              "\n",
              "  seller_state product_category_name  ...  product_height_cm  \\\n",
              "0           SP            cool_stuff  ...                9.0   \n",
              "1           SP            cool_stuff  ...                9.0   \n",
              "2           SP            cool_stuff  ...                9.0   \n",
              "3           SP            cool_stuff  ...                9.0   \n",
              "4           SP            cool_stuff  ...                9.0   \n",
              "\n",
              "   product_width_cm                         review_id  review_score  \\\n",
              "0              14.0  97ca439bc427b48bc1cd7177abe71365             5   \n",
              "1              14.0  b11cba360bbe71410c291b764753d37f             5   \n",
              "2              14.0  af01c4017c5ab46df6cc810e069e654a             4   \n",
              "3              14.0  8304ff37d8b16b57086fa283fe0c44f8             5   \n",
              "4              14.0  426f43a82185969503fb3c86241a9535             5   \n",
              "\n",
              "   review_comment_title                             review_comment_message  \\\n",
              "0              no title     perfeito, produto entregue antes do combinado.   \n",
              "1              no title  lannister como sempre, entregou certinho e den...   \n",
              "2       super recomendo                              carrinho muito bonito   \n",
              "3              no title                                   no comment given   \n",
              "4              no title                                   no comment given   \n",
              "\n",
              "   review_creation_date review_answer_timestamp  geolocation_lat  \\\n",
              "0            2017-09-21     2017-09-22 10:57:03       -22.498183   \n",
              "1            2017-07-14     2017-07-17 12:50:07       -22.498183   \n",
              "2            2018-06-05     2018-06-06 21:41:12       -22.498183   \n",
              "3            2017-08-10     2017-08-13 03:35:17       -22.498183   \n",
              "4            2017-08-25     2017-08-28 00:51:18       -22.498183   \n",
              "\n",
              "  geolocation_lng  \n",
              "0      -44.123614  \n",
              "1      -44.123614  \n",
              "2      -44.123614  \n",
              "3      -44.123614  \n",
              "4      -44.123614  \n",
              "\n",
              "[5 rows x 25 columns]"
            ],
            "text/html": [
              "\n",
              "  <div id=\"df-6edb19d1-f188-4ae7-9009-b2a3077bdbcb\">\n",
              "    <div class=\"colab-df-container\">\n",
              "      <div>\n",
              "<style scoped>\n",
              "    .dataframe tbody tr th:only-of-type {\n",
              "        vertical-align: middle;\n",
              "    }\n",
              "\n",
              "    .dataframe tbody tr th {\n",
              "        vertical-align: top;\n",
              "    }\n",
              "\n",
              "    .dataframe thead th {\n",
              "        text-align: right;\n",
              "    }\n",
              "</style>\n",
              "<table border=\"1\" class=\"dataframe\">\n",
              "  <thead>\n",
              "    <tr style=\"text-align: right;\">\n",
              "      <th></th>\n",
              "      <th>order_id</th>\n",
              "      <th>order_item_id</th>\n",
              "      <th>product_id</th>\n",
              "      <th>seller_id</th>\n",
              "      <th>shipping_limit_date</th>\n",
              "      <th>price</th>\n",
              "      <th>seller_zip_code_prefix</th>\n",
              "      <th>seller_city</th>\n",
              "      <th>seller_state</th>\n",
              "      <th>product_category_name</th>\n",
              "      <th>...</th>\n",
              "      <th>product_height_cm</th>\n",
              "      <th>product_width_cm</th>\n",
              "      <th>review_id</th>\n",
              "      <th>review_score</th>\n",
              "      <th>review_comment_title</th>\n",
              "      <th>review_comment_message</th>\n",
              "      <th>review_creation_date</th>\n",
              "      <th>review_answer_timestamp</th>\n",
              "      <th>geolocation_lat</th>\n",
              "      <th>geolocation_lng</th>\n",
              "    </tr>\n",
              "  </thead>\n",
              "  <tbody>\n",
              "    <tr>\n",
              "      <th>0</th>\n",
              "      <td>00010242fe8c5a6d1ba2dd792cb16214</td>\n",
              "      <td>1</td>\n",
              "      <td>4244733e06e7ecb4970a6e2683c13e61</td>\n",
              "      <td>48436dade18ac8b2bce089ec2a041202</td>\n",
              "      <td>2017-09-19 09:45:35</td>\n",
              "      <td>58.9</td>\n",
              "      <td>27277</td>\n",
              "      <td>volta redonda</td>\n",
              "      <td>SP</td>\n",
              "      <td>cool_stuff</td>\n",
              "      <td>...</td>\n",
              "      <td>9.0</td>\n",
              "      <td>14.0</td>\n",
              "      <td>97ca439bc427b48bc1cd7177abe71365</td>\n",
              "      <td>5</td>\n",
              "      <td>no title</td>\n",
              "      <td>perfeito, produto entregue antes do combinado.</td>\n",
              "      <td>2017-09-21</td>\n",
              "      <td>2017-09-22 10:57:03</td>\n",
              "      <td>-22.498183</td>\n",
              "      <td>-44.123614</td>\n",
              "    </tr>\n",
              "    <tr>\n",
              "      <th>1</th>\n",
              "      <td>130898c0987d1801452a8ed92a670612</td>\n",
              "      <td>1</td>\n",
              "      <td>4244733e06e7ecb4970a6e2683c13e61</td>\n",
              "      <td>48436dade18ac8b2bce089ec2a041202</td>\n",
              "      <td>2017-07-05 02:44:11</td>\n",
              "      <td>55.9</td>\n",
              "      <td>27277</td>\n",
              "      <td>volta redonda</td>\n",
              "      <td>SP</td>\n",
              "      <td>cool_stuff</td>\n",
              "      <td>...</td>\n",
              "      <td>9.0</td>\n",
              "      <td>14.0</td>\n",
              "      <td>b11cba360bbe71410c291b764753d37f</td>\n",
              "      <td>5</td>\n",
              "      <td>no title</td>\n",
              "      <td>lannister como sempre, entregou certinho e den...</td>\n",
              "      <td>2017-07-14</td>\n",
              "      <td>2017-07-17 12:50:07</td>\n",
              "      <td>-22.498183</td>\n",
              "      <td>-44.123614</td>\n",
              "    </tr>\n",
              "    <tr>\n",
              "      <th>2</th>\n",
              "      <td>532ed5e14e24ae1f0d735b91524b98b9</td>\n",
              "      <td>1</td>\n",
              "      <td>4244733e06e7ecb4970a6e2683c13e61</td>\n",
              "      <td>48436dade18ac8b2bce089ec2a041202</td>\n",
              "      <td>2018-05-23 10:56:25</td>\n",
              "      <td>64.9</td>\n",
              "      <td>27277</td>\n",
              "      <td>volta redonda</td>\n",
              "      <td>SP</td>\n",
              "      <td>cool_stuff</td>\n",
              "      <td>...</td>\n",
              "      <td>9.0</td>\n",
              "      <td>14.0</td>\n",
              "      <td>af01c4017c5ab46df6cc810e069e654a</td>\n",
              "      <td>4</td>\n",
              "      <td>super recomendo</td>\n",
              "      <td>carrinho muito bonito</td>\n",
              "      <td>2018-06-05</td>\n",
              "      <td>2018-06-06 21:41:12</td>\n",
              "      <td>-22.498183</td>\n",
              "      <td>-44.123614</td>\n",
              "    </tr>\n",
              "    <tr>\n",
              "      <th>3</th>\n",
              "      <td>6f8c31653edb8c83e1a739408b5ff750</td>\n",
              "      <td>1</td>\n",
              "      <td>4244733e06e7ecb4970a6e2683c13e61</td>\n",
              "      <td>48436dade18ac8b2bce089ec2a041202</td>\n",
              "      <td>2017-08-07 18:55:08</td>\n",
              "      <td>58.9</td>\n",
              "      <td>27277</td>\n",
              "      <td>volta redonda</td>\n",
              "      <td>SP</td>\n",
              "      <td>cool_stuff</td>\n",
              "      <td>...</td>\n",
              "      <td>9.0</td>\n",
              "      <td>14.0</td>\n",
              "      <td>8304ff37d8b16b57086fa283fe0c44f8</td>\n",
              "      <td>5</td>\n",
              "      <td>no title</td>\n",
              "      <td>no comment given</td>\n",
              "      <td>2017-08-10</td>\n",
              "      <td>2017-08-13 03:35:17</td>\n",
              "      <td>-22.498183</td>\n",
              "      <td>-44.123614</td>\n",
              "    </tr>\n",
              "    <tr>\n",
              "      <th>4</th>\n",
              "      <td>7d19f4ef4d04461989632411b7e588b9</td>\n",
              "      <td>1</td>\n",
              "      <td>4244733e06e7ecb4970a6e2683c13e61</td>\n",
              "      <td>48436dade18ac8b2bce089ec2a041202</td>\n",
              "      <td>2017-08-16 22:05:11</td>\n",
              "      <td>58.9</td>\n",
              "      <td>27277</td>\n",
              "      <td>volta redonda</td>\n",
              "      <td>SP</td>\n",
              "      <td>cool_stuff</td>\n",
              "      <td>...</td>\n",
              "      <td>9.0</td>\n",
              "      <td>14.0</td>\n",
              "      <td>426f43a82185969503fb3c86241a9535</td>\n",
              "      <td>5</td>\n",
              "      <td>no title</td>\n",
              "      <td>no comment given</td>\n",
              "      <td>2017-08-25</td>\n",
              "      <td>2017-08-28 00:51:18</td>\n",
              "      <td>-22.498183</td>\n",
              "      <td>-44.123614</td>\n",
              "    </tr>\n",
              "  </tbody>\n",
              "</table>\n",
              "<p>5 rows × 25 columns</p>\n",
              "</div>\n",
              "      <button class=\"colab-df-convert\" onclick=\"convertToInteractive('df-6edb19d1-f188-4ae7-9009-b2a3077bdbcb')\"\n",
              "              title=\"Convert this dataframe to an interactive table.\"\n",
              "              style=\"display:none;\">\n",
              "        \n",
              "  <svg xmlns=\"http://www.w3.org/2000/svg\" height=\"24px\"viewBox=\"0 0 24 24\"\n",
              "       width=\"24px\">\n",
              "    <path d=\"M0 0h24v24H0V0z\" fill=\"none\"/>\n",
              "    <path d=\"M18.56 5.44l.94 2.06.94-2.06 2.06-.94-2.06-.94-.94-2.06-.94 2.06-2.06.94zm-11 1L8.5 8.5l.94-2.06 2.06-.94-2.06-.94L8.5 2.5l-.94 2.06-2.06.94zm10 10l.94 2.06.94-2.06 2.06-.94-2.06-.94-.94-2.06-.94 2.06-2.06.94z\"/><path d=\"M17.41 7.96l-1.37-1.37c-.4-.4-.92-.59-1.43-.59-.52 0-1.04.2-1.43.59L10.3 9.45l-7.72 7.72c-.78.78-.78 2.05 0 2.83L4 21.41c.39.39.9.59 1.41.59.51 0 1.02-.2 1.41-.59l7.78-7.78 2.81-2.81c.8-.78.8-2.07 0-2.86zM5.41 20L4 18.59l7.72-7.72 1.47 1.35L5.41 20z\"/>\n",
              "  </svg>\n",
              "      </button>\n",
              "      \n",
              "  <style>\n",
              "    .colab-df-container {\n",
              "      display:flex;\n",
              "      flex-wrap:wrap;\n",
              "      gap: 12px;\n",
              "    }\n",
              "\n",
              "    .colab-df-convert {\n",
              "      background-color: #E8F0FE;\n",
              "      border: none;\n",
              "      border-radius: 50%;\n",
              "      cursor: pointer;\n",
              "      display: none;\n",
              "      fill: #1967D2;\n",
              "      height: 32px;\n",
              "      padding: 0 0 0 0;\n",
              "      width: 32px;\n",
              "    }\n",
              "\n",
              "    .colab-df-convert:hover {\n",
              "      background-color: #E2EBFA;\n",
              "      box-shadow: 0px 1px 2px rgba(60, 64, 67, 0.3), 0px 1px 3px 1px rgba(60, 64, 67, 0.15);\n",
              "      fill: #174EA6;\n",
              "    }\n",
              "\n",
              "    [theme=dark] .colab-df-convert {\n",
              "      background-color: #3B4455;\n",
              "      fill: #D2E3FC;\n",
              "    }\n",
              "\n",
              "    [theme=dark] .colab-df-convert:hover {\n",
              "      background-color: #434B5C;\n",
              "      box-shadow: 0px 1px 3px 1px rgba(0, 0, 0, 0.15);\n",
              "      filter: drop-shadow(0px 1px 2px rgba(0, 0, 0, 0.3));\n",
              "      fill: #FFFFFF;\n",
              "    }\n",
              "  </style>\n",
              "\n",
              "      <script>\n",
              "        const buttonEl =\n",
              "          document.querySelector('#df-6edb19d1-f188-4ae7-9009-b2a3077bdbcb button.colab-df-convert');\n",
              "        buttonEl.style.display =\n",
              "          google.colab.kernel.accessAllowed ? 'block' : 'none';\n",
              "\n",
              "        async function convertToInteractive(key) {\n",
              "          const element = document.querySelector('#df-6edb19d1-f188-4ae7-9009-b2a3077bdbcb');\n",
              "          const dataTable =\n",
              "            await google.colab.kernel.invokeFunction('convertToInteractive',\n",
              "                                                     [key], {});\n",
              "          if (!dataTable) return;\n",
              "\n",
              "          const docLinkHtml = 'Like what you see? Visit the ' +\n",
              "            '<a target=\"_blank\" href=https://colab.research.google.com/notebooks/data_table.ipynb>data table notebook</a>'\n",
              "            + ' to learn more about interactive tables.';\n",
              "          element.innerHTML = '';\n",
              "          dataTable['output_type'] = 'display_data';\n",
              "          await google.colab.output.renderOutput(dataTable, element);\n",
              "          const docLink = document.createElement('div');\n",
              "          docLink.innerHTML = docLinkHtml;\n",
              "          element.appendChild(docLink);\n",
              "        }\n",
              "      </script>\n",
              "    </div>\n",
              "  </div>\n",
              "  "
            ]
          },
          "metadata": {},
          "execution_count": 309
        }
      ],
      "source": [
        "seller_info.head()"
      ]
    },
    {
      "cell_type": "code",
      "execution_count": 310,
      "id": "9d1ab28e",
      "metadata": {
        "id": "9d1ab28e"
      },
      "outputs": [],
      "source": [
        "# only looking at the common orders in the two data frames\n",
        "sellers_data = seller_info[seller_info.order_id.isin(customer_info.order_id)]\n",
        "customers_data = customer_info[customer_info.order_id.isin(seller_info.order_id)]"
      ]
    },
    {
      "cell_type": "code",
      "execution_count": 311,
      "id": "e1982a48",
      "metadata": {
        "id": "e1982a48"
      },
      "outputs": [],
      "source": [
        "## dropping entries where product category name is NULL\n",
        "sellers_data = sellers_data.dropna(subset = ['product_category_name']).reset_index(drop=True)\n",
        "customers_data = customers_data.dropna(subset=['product_category_name']).reset_index(drop=True)"
      ]
    },
    {
      "cell_type": "code",
      "execution_count": 312,
      "id": "4bd6dbeb",
      "metadata": {
        "id": "4bd6dbeb",
        "outputId": "0600e366-b344-4276-f47e-efbde95dc893",
        "colab": {
          "base_uri": "https://localhost:8080/"
        }
      },
      "outputs": [
        {
          "output_type": "stream",
          "name": "stdout",
          "text": [
            "<class 'pandas.core.frame.DataFrame'>\n",
            "RangeIndex: 107668 entries, 0 to 107667\n",
            "Data columns (total 31 columns):\n",
            " #   Column                         Non-Null Count   Dtype         \n",
            "---  ------                         --------------   -----         \n",
            " 0   order_id                       107668 non-null  object        \n",
            " 1   customer_id                    107668 non-null  object        \n",
            " 2   order_purchase_timestamp       107668 non-null  datetime64[ns]\n",
            " 3   order_delivered_customer_date  107668 non-null  datetime64[ns]\n",
            " 4   order_estimated_delivery_date  107668 non-null  datetime64[ns]\n",
            " 5   order_item_id                  107668 non-null  int64         \n",
            " 6   product_id                     107668 non-null  object        \n",
            " 7   seller_id                      107668 non-null  object        \n",
            " 8   shipping_limit_date            107668 non-null  datetime64[ns]\n",
            " 9   price                          107668 non-null  float64       \n",
            " 10  freight_value                  107668 non-null  float64       \n",
            " 11  review_id                      107668 non-null  object        \n",
            " 12  review_score                   107668 non-null  int64         \n",
            " 13  review_comment_title           107668 non-null  object        \n",
            " 14  review_comment_message         107668 non-null  object        \n",
            " 15  review_creation_date           107668 non-null  datetime64[ns]\n",
            " 16  review_answer_timestamp        107668 non-null  datetime64[ns]\n",
            " 17  customer_unique_id             107668 non-null  object        \n",
            " 18  customer_zip_code_prefix       107668 non-null  int64         \n",
            " 19  customer_city                  107668 non-null  object        \n",
            " 20  customer_state                 107668 non-null  object        \n",
            " 21  geolocation_lat                107668 non-null  float64       \n",
            " 22  geolocation_lng                107668 non-null  float64       \n",
            " 23  product_category_name          107668 non-null  object        \n",
            " 24  product_name_lenght            107668 non-null  float64       \n",
            " 25  product_description_lenght     107668 non-null  float64       \n",
            " 26  product_photos_qty             107668 non-null  float64       \n",
            " 27  product_weight_g               107668 non-null  float64       \n",
            " 28  product_length_cm              107668 non-null  float64       \n",
            " 29  product_height_cm              107668 non-null  float64       \n",
            " 30  product_width_cm               107668 non-null  float64       \n",
            "dtypes: datetime64[ns](6), float64(11), int64(3), object(11)\n",
            "memory usage: 25.5+ MB\n"
          ]
        }
      ],
      "source": [
        "customers_data.info()"
      ]
    },
    {
      "cell_type": "code",
      "execution_count": 313,
      "id": "6ffbbdf6",
      "metadata": {
        "id": "6ffbbdf6",
        "outputId": "e8951cf0-5d5a-4f5f-f11d-f6ca98994e4d",
        "colab": {
          "base_uri": "https://localhost:8080/"
        }
      },
      "outputs": [
        {
          "output_type": "stream",
          "name": "stdout",
          "text": [
            "<class 'pandas.core.frame.DataFrame'>\n",
            "RangeIndex: 107664 entries, 0 to 107663\n",
            "Data columns (total 25 columns):\n",
            " #   Column                      Non-Null Count   Dtype         \n",
            "---  ------                      --------------   -----         \n",
            " 0   order_id                    107664 non-null  object        \n",
            " 1   order_item_id               107664 non-null  int64         \n",
            " 2   product_id                  107664 non-null  object        \n",
            " 3   seller_id                   107664 non-null  object        \n",
            " 4   shipping_limit_date         107664 non-null  datetime64[ns]\n",
            " 5   price                       107664 non-null  float64       \n",
            " 6   seller_zip_code_prefix      107664 non-null  int64         \n",
            " 7   seller_city                 107664 non-null  object        \n",
            " 8   seller_state                107664 non-null  object        \n",
            " 9   product_category_name       107664 non-null  object        \n",
            " 10  product_name_lenght         107664 non-null  float64       \n",
            " 11  product_description_lenght  107664 non-null  float64       \n",
            " 12  product_photos_qty          107664 non-null  float64       \n",
            " 13  product_weight_g            107664 non-null  float64       \n",
            " 14  product_length_cm           107664 non-null  float64       \n",
            " 15  product_height_cm           107664 non-null  float64       \n",
            " 16  product_width_cm            107664 non-null  float64       \n",
            " 17  review_id                   107664 non-null  object        \n",
            " 18  review_score                107664 non-null  int64         \n",
            " 19  review_comment_title        107664 non-null  object        \n",
            " 20  review_comment_message      107664 non-null  object        \n",
            " 21  review_creation_date        107664 non-null  datetime64[ns]\n",
            " 22  review_answer_timestamp     107664 non-null  datetime64[ns]\n",
            " 23  geolocation_lat             107664 non-null  float64       \n",
            " 24  geolocation_lng             107664 non-null  float64       \n",
            "dtypes: datetime64[ns](3), float64(10), int64(3), object(9)\n",
            "memory usage: 20.5+ MB\n"
          ]
        }
      ],
      "source": [
        "sellers_data.info()"
      ]
    },
    {
      "cell_type": "markdown",
      "id": "aec5c615",
      "metadata": {
        "id": "aec5c615"
      },
      "source": [
        "### now using the above two dataframes we create a master_df which we will be the base data we will use for building the recommendation system and in creating user features using clustering techniques"
      ]
    },
    {
      "cell_type": "code",
      "execution_count": 314,
      "id": "a5e02dfc",
      "metadata": {
        "id": "a5e02dfc"
      },
      "outputs": [],
      "source": [
        "master_df = customers_data.merge(sellers_data[['order_id', 'seller_zip_code_prefix', 'seller_city', 'seller_state']], on ='order_id', ).drop(['order_delivered_customer_date', \n",
        "                                                          'order_estimated_delivery_date', 'shipping_limit_date',\n",
        "                                                         'freight_value', 'review_comment_title', 'review_creation_date', \n",
        "                                                          'review_answer_timestamp', 'geolocation_lat', 'geolocation_lng',\n",
        "                                                         'product_name_lenght', 'product_description_lenght', 'product_length_cm',\n",
        "                                                          'product_height_cm', 'product_width_cm', 'review_id'], axis=1)"
      ]
    },
    {
      "cell_type": "code",
      "execution_count": 315,
      "id": "4e66b5f6",
      "metadata": {
        "id": "4e66b5f6",
        "outputId": "b960d0e6-741b-4d99-e6e7-346a4685f99c",
        "colab": {
          "base_uri": "https://localhost:8080/"
        }
      },
      "outputs": [
        {
          "output_type": "stream",
          "name": "stdout",
          "text": [
            "<class 'pandas.core.frame.DataFrame'>\n",
            "Int64Index: 151090 entries, 0 to 151089\n",
            "Data columns (total 19 columns):\n",
            " #   Column                    Non-Null Count   Dtype         \n",
            "---  ------                    --------------   -----         \n",
            " 0   order_id                  151090 non-null  object        \n",
            " 1   customer_id               151090 non-null  object        \n",
            " 2   order_purchase_timestamp  151090 non-null  datetime64[ns]\n",
            " 3   order_item_id             151090 non-null  int64         \n",
            " 4   product_id                151090 non-null  object        \n",
            " 5   seller_id                 151090 non-null  object        \n",
            " 6   price                     151090 non-null  float64       \n",
            " 7   review_score              151090 non-null  int64         \n",
            " 8   review_comment_message    151090 non-null  object        \n",
            " 9   customer_unique_id        151090 non-null  object        \n",
            " 10  customer_zip_code_prefix  151090 non-null  int64         \n",
            " 11  customer_city             151090 non-null  object        \n",
            " 12  customer_state            151090 non-null  object        \n",
            " 13  product_category_name     151090 non-null  object        \n",
            " 14  product_photos_qty        151090 non-null  float64       \n",
            " 15  product_weight_g          151090 non-null  float64       \n",
            " 16  seller_zip_code_prefix    151090 non-null  int64         \n",
            " 17  seller_city               151090 non-null  object        \n",
            " 18  seller_state              151090 non-null  object        \n",
            "dtypes: datetime64[ns](1), float64(3), int64(4), object(11)\n",
            "memory usage: 23.1+ MB\n"
          ]
        }
      ],
      "source": [
        "master_df.info()"
      ]
    },
    {
      "cell_type": "markdown",
      "id": "8b0d3b48",
      "metadata": {
        "id": "8b0d3b48"
      },
      "source": [
        "### We will extract information about each product and user from the master_df."
      ]
    },
    {
      "cell_type": "code",
      "execution_count": 316,
      "id": "77037f6a",
      "metadata": {
        "id": "77037f6a"
      },
      "outputs": [],
      "source": [
        "user_item = master_df[['customer_id', 'customer_unique_id', 'product_id', 'review_score', 'order_purchase_timestamp']]\n",
        "user_features = master_df[['customer_unique_id', 'customer_city', 'customer_state']]\n",
        "item_features = master_df[['customer_unique_id','product_id', 'customer_id', 'product_category_name', 'seller_id', 'review_score', \n",
        "                          'review_comment_message', 'seller_city', 'seller_state', 'price', 'order_id', 'order_item_id']]"
      ]
    },
    {
      "cell_type": "code",
      "execution_count": 317,
      "id": "42ee4253",
      "metadata": {
        "id": "42ee4253"
      },
      "outputs": [],
      "source": [
        "item_features = item_features.drop_duplicates(['customer_id','order_id', 'order_item_id']).reset_index(drop=True)"
      ]
    },
    {
      "cell_type": "markdown",
      "id": "511780c3",
      "metadata": {
        "id": "511780c3"
      },
      "source": [
        "### Now we create some aggregated columns to improve upon the product features"
      ]
    },
    {
      "cell_type": "code",
      "execution_count": 318,
      "id": "c36a3a4f",
      "metadata": {
        "id": "c36a3a4f"
      },
      "outputs": [],
      "source": [
        "# to avoid counting a review comment labeled 'no comment given', we will convert them back to NAN\n",
        "item_features['review_comment_message'] = item_features.review_comment_message.replace('no comment given', np.nan)\n",
        "\n",
        "# create average review score column \n",
        "item_features['avg_product_score'] = item_features['review_score'].groupby(item_features['product_id']).transform('mean')\n",
        "\n",
        "# create average review score column \n",
        "item_features['avg_seller_score'] = item_features['review_score'].groupby(item_features['seller_id']).transform('mean')\n",
        "\n",
        "# create the number of comments column\n",
        "item_features['num_comments'] = item_features['review_comment_message'].groupby(item_features['product_id']).transform('count')\n",
        "\n",
        "# create the number of reviews column\n",
        "item_features['num_reviews'] = item_features['review_score'].groupby(item_features['product_id']).transform('count')\n",
        "\n",
        "# create average price column\n",
        "item_features['avg_price'] = item_features[['price']].groupby(item_features['product_id']).transform('mean')\n",
        "\n",
        "# Create product_count column for the rating\n",
        "item_features['product_count'] = item_features['product_id'].groupby(item_features['customer_unique_id']).transform('count')"
      ]
    },
    {
      "cell_type": "markdown",
      "id": "66586e1b",
      "metadata": {
        "id": "66586e1b"
      },
      "source": [
        "### ****************************** clustering code starts *****************************************************************"
      ]
    },
    {
      "cell_type": "markdown",
      "id": "24379316",
      "metadata": {
        "id": "24379316"
      },
      "source": [
        "### For our model to perform well we look for common features among users and try to cluster them."
      ]
    },
    {
      "cell_type": "code",
      "execution_count": 319,
      "id": "fefadca8",
      "metadata": {
        "id": "fefadca8"
      },
      "outputs": [],
      "source": [
        "master_df = master_df.drop_duplicates(['order_id', 'order_item_id']).dropna().reset_index(drop=True)"
      ]
    },
    {
      "cell_type": "code",
      "execution_count": 320,
      "id": "99e07fa5",
      "metadata": {
        "id": "99e07fa5",
        "outputId": "80ae7353-47c4-4fcb-ecc5-fd993f3df985",
        "colab": {
          "base_uri": "https://localhost:8080/"
        }
      },
      "outputs": [
        {
          "output_type": "execute_result",
          "data": {
            "text/plain": [
              "bed_bath_table              10803\n",
              "health_beauty                9375\n",
              "sports_leisure               8359\n",
              "furniture_decor              8057\n",
              "computers_accessories        7586\n",
              "housewares                   6738\n",
              "watches_gifts                5791\n",
              "telephony                    4374\n",
              "garden_tools                 4228\n",
              "auto                         4089\n",
              "toys                         3964\n",
              "cool_stuff                   3643\n",
              "perfumery                    3314\n",
              "baby                         2949\n",
              "electronics                  2617\n",
              "stationery                   2438\n",
              "fashion_bags_accessories     1968\n",
              "pet_shop                     1894\n",
              "office_furniture             1648\n",
              "consoles_games               1075\n",
              "Name: product_category_name, dtype: int64"
            ]
          },
          "metadata": {},
          "execution_count": 320
        }
      ],
      "source": [
        "master_df.product_category_name.value_counts()[:20]"
      ]
    },
    {
      "cell_type": "code",
      "execution_count": 321,
      "id": "e4f3a7c9",
      "metadata": {
        "id": "e4f3a7c9"
      },
      "outputs": [],
      "source": [
        "item_features_new = master_df[['customer_unique_id', 'customer_id','product_id', 'order_id', 'product_category_name', 'order_item_id', 'seller_id', 'review_score', \n",
        "                          'review_comment_message', 'seller_city', 'seller_state', 'price']]"
      ]
    },
    {
      "cell_type": "code",
      "execution_count": 322,
      "id": "77147c5a",
      "metadata": {
        "id": "77147c5a",
        "outputId": "4ccd62de-83a2-4b10-8ef7-6ead74d8a88c",
        "colab": {
          "base_uri": "https://localhost:8080/"
        }
      },
      "outputs": [
        {
          "output_type": "stream",
          "name": "stderr",
          "text": [
            "/usr/local/lib/python3.7/dist-packages/ipykernel_launcher.py:2: SettingWithCopyWarning: \n",
            "A value is trying to be set on a copy of a slice from a DataFrame.\n",
            "Try using .loc[row_indexer,col_indexer] = value instead\n",
            "\n",
            "See the caveats in the documentation: https://pandas.pydata.org/pandas-docs/stable/user_guide/indexing.html#returning-a-view-versus-a-copy\n",
            "  \n"
          ]
        }
      ],
      "source": [
        "# Create product_count column for the rating\n",
        "item_features_new['product_category_count'] = item_features_new[['product_category_name', 'customer_unique_id', 'order_item_id']]\\\n",
        "                                                            .groupby(['customer_unique_id', 'product_category_name'])['order_item_id']\\\n",
        "                                                            .transform('count')"
      ]
    },
    {
      "cell_type": "code",
      "execution_count": 323,
      "id": "e8c88aca",
      "metadata": {
        "id": "e8c88aca"
      },
      "outputs": [],
      "source": [
        "## creating user product interactions\n",
        "user_to_product_category = item_features_new[['product_category_name', 'customer_unique_id', 'product_category_count']]\\\n",
        "                                        .sort_values(by='customer_unique_id')\\\n",
        "                                        .reset_index(drop=True)\n",
        "user_to_product_category['product_count'] = 1\n",
        "user_to_product_category = user_to_product_category.drop(['product_category_count'], axis=1)"
      ]
    },
    {
      "cell_type": "code",
      "execution_count": 324,
      "id": "0a10af02",
      "metadata": {
        "id": "0a10af02"
      },
      "outputs": [],
      "source": [
        "## creating a list of users and items\n",
        "user_list = np.sort(user_to_product_category[\"customer_unique_id\"].unique())\n",
        "item_list =  user_to_product_category[\"product_category_name\"].unique()"
      ]
    },
    {
      "cell_type": "code",
      "execution_count": 325,
      "id": "bd6ba582",
      "metadata": {
        "id": "bd6ba582"
      },
      "outputs": [],
      "source": [
        "## defining a funtion to create mappings for user id and item id\n",
        "def id_mappings(user_list, item_list):\n",
        "    user_to_index_mapping = {}\n",
        "    index_to_user_mapping = {}\n",
        "    for user_index, user_id in enumerate(user_list):\n",
        "        user_to_index_mapping[user_id] = user_index\n",
        "        index_to_user_mapping[user_index] = user_id\n",
        "        \n",
        "    item_to_index_mapping = {}\n",
        "    index_to_item_mapping = {}\n",
        "    for item_index, item_id in enumerate(item_list):\n",
        "        item_to_index_mapping[item_id] = item_index\n",
        "        index_to_item_mapping[item_index] = item_id\n",
        "        \n",
        "\n",
        "    return user_to_index_mapping, index_to_user_mapping,item_to_index_mapping, index_to_item_mapping"
      ]
    },
    {
      "cell_type": "code",
      "execution_count": 326,
      "id": "e389110d",
      "metadata": {
        "id": "e389110d"
      },
      "outputs": [],
      "source": [
        "def get_interaction_matrix(df, df_column_as_row, df_column_as_col, df_column_as_value, row_indexing_map, \n",
        "                          col_indexing_map):\n",
        "    \n",
        "    row = df[df_column_as_row].apply(lambda x: row_indexing_map[x]).values\n",
        "    col = df[df_column_as_col].apply(lambda x: col_indexing_map[x]).values\n",
        "    value = df[df_column_as_value].values\n",
        "    \n",
        "    return sparse.coo_matrix((value, (row, col)), shape = (len(row_indexing_map), len(col_indexing_map)))"
      ]
    },
    {
      "cell_type": "code",
      "execution_count": 327,
      "id": "268f2534",
      "metadata": {
        "id": "268f2534"
      },
      "outputs": [],
      "source": [
        "user_to_index_mapping, index_to_user_mapping,item_to_index_mapping, index_to_item_mapping = id_mappings(user_list, item_list)"
      ]
    },
    {
      "cell_type": "code",
      "execution_count": 328,
      "id": "80c33bb3",
      "metadata": {
        "id": "80c33bb3"
      },
      "outputs": [],
      "source": [
        "user_to_product_category_interaction = get_interaction_matrix(user_to_product_category, \"customer_unique_id\", \n",
        "                                                           \"product_category_name\", \"product_count\", \n",
        "                                                           user_to_index_mapping, item_to_index_mapping)"
      ]
    },
    {
      "cell_type": "code",
      "execution_count": 329,
      "id": "070e3a40",
      "metadata": {
        "id": "070e3a40"
      },
      "outputs": [],
      "source": [
        "product_category_to_user_interaction = get_interaction_matrix(user_to_product_category, \"product_category_name\", \n",
        "                                                             \"customer_unique_id\", \"product_count\",\n",
        "                                                             item_to_index_mapping, user_to_index_mapping)"
      ]
    },
    {
      "cell_type": "markdown",
      "id": "b8be6daf",
      "metadata": {
        "id": "b8be6daf"
      },
      "source": [
        "### now we use k means to perform clustering"
      ]
    },
    {
      "cell_type": "code",
      "execution_count": 330,
      "id": "40dbf862",
      "metadata": {
        "id": "40dbf862"
      },
      "outputs": [],
      "source": [
        "data1 = pd.DataFrame(user_to_product_category_interaction.todense())\n",
        "x_cols = data1.values\n",
        "k_values = range(2, 20)\n",
        "inertias = []\n",
        "\n",
        "for k in k_values:\n",
        "    # create a KMeans instance with k clusters\n",
        "    kmeans = KMeans(n_clusters = k, random_state=42)\n",
        "    # fit model to samples\n",
        "    kmeans.fit(x_cols)\n",
        "    # append the inertia to the list of inertias\n",
        "    inertias.append(kmeans.inertia_)"
      ]
    },
    {
      "cell_type": "code",
      "execution_count": 331,
      "id": "5f4f08f7",
      "metadata": {
        "id": "5f4f08f7",
        "outputId": "6f879b0b-96b1-4b85-989c-98fd75e61168",
        "colab": {
          "base_uri": "https://localhost:8080/",
          "height": 590
        }
      },
      "outputs": [
        {
          "output_type": "display_data",
          "data": {
            "text/plain": [
              "<Figure size 1080x1080 with 1 Axes>"
            ],
            "image/png": "[encoded data removed]"
          },
          "metadata": {}
        }
      ],
      "source": [
        "fig, axs = plt.subplots(1, 1, figsize=(15,15))\n",
        "sns.set(font_scale = 2)\n",
        "sns.lineplot(x=k_values,y=inertias,color=\"skyblue\", ax=axs)\n",
        "axs.set_xlabel(\"K\")\n",
        "axs.set_ylabel(\"Intertia\")\n",
        "plt.show()"
      ]
    },
    {
      "cell_type": "code",
      "execution_count": 332,
      "id": "83a54fe4",
      "metadata": {
        "scrolled": false,
        "id": "83a54fe4",
        "outputId": "4d816113-0035-4c11-b09a-f05bd688a315",
        "colab": {
          "base_uri": "https://localhost:8080/",
          "height": 654
        }
      },
      "outputs": [
        {
          "output_type": "stream",
          "name": "stderr",
          "text": [
            "/usr/local/lib/python3.7/dist-packages/seaborn/_decorators.py:43: FutureWarning: Pass the following variables as keyword args: x, y. From version 0.12, the only valid positional argument will be `data`, and passing other arguments without an explicit keyword will result in an error or misinterpretation.\n",
            "  FutureWarning\n"
          ]
        },
        {
          "output_type": "display_data",
          "data": {
            "text/plain": [
              "<Figure size 1080x1080 with 1 Axes>"
            ],
            "image/png": "[encoded data removed]"
          },
          "metadata": {}
        }
      ],
      "source": [
        "# create a KMeans instance with k clusters\n",
        "model = KMeans(n_clusters = 15, random_state=42)\n",
        "# fit model to samples\n",
        "model.fit(x_cols)\n",
        "labels = model.predict(x_cols)\n",
        "clusters, npoints = np.unique(labels, return_counts=True)\n",
        "fig, axs = plt.subplots(1, 1, figsize=(15,15))\n",
        "sns.set(font_scale = 2)\n",
        "sns.barplot(clusters,npoints,color=\"skyblue\", ax=axs)\n",
        "axs.set_xlabel(\"Clusters\")\n",
        "axs.set_ylabel(\"Count\")\n",
        "plt.show()"
      ]
    },
    {
      "cell_type": "code",
      "execution_count": 333,
      "id": "b48fd9ef",
      "metadata": {
        "id": "b48fd9ef"
      },
      "outputs": [],
      "source": [
        "labels = pd.DataFrame({'cluster_id': labels})\n",
        "data1.index.name = 'customer_unique_id'\n",
        "data1 = data1.reset_index()"
      ]
    },
    {
      "cell_type": "code",
      "execution_count": 334,
      "id": "d301add2",
      "metadata": {
        "id": "d301add2"
      },
      "outputs": [],
      "source": [
        "df = pd.concat([data1.customer_unique_id,labels], axis=1, sort=False)"
      ]
    },
    {
      "cell_type": "code",
      "execution_count": 335,
      "id": "94ea2405",
      "metadata": {
        "id": "94ea2405"
      },
      "outputs": [],
      "source": [
        "df[\"customer_unique_id\"] = index_to_user_mapping.values()"
      ]
    },
    {
      "cell_type": "code",
      "execution_count": 336,
      "id": "69d4c891",
      "metadata": {
        "id": "69d4c891",
        "outputId": "3165139d-185b-4757-d9f5-15bf7a9e52a2",
        "colab": {
          "base_uri": "https://localhost:8080/",
          "height": 206
        }
      },
      "outputs": [
        {
          "output_type": "execute_result",
          "data": {
            "text/plain": [
              "                 customer_unique_id  cluster_id\n",
              "0  0000366f3b9a7992bf8c76cfdf3221e2           2\n",
              "1  0000b849f77a49e4a4ce2b2a4ca5be3f           5\n",
              "2  0000f46a3911fa3c0805444483337064           0\n",
              "3  0000f6ccb0745a6a4b88665a16c9f078           8\n",
              "4  0004aac84e0df4da2b147fca70cf8255           8"
            ],
            "text/html": [
              "\n",
              "  <div id=\"df-d9167521-55de-4158-a7bf-7cb1617b1f82\">\n",
              "    <div class=\"colab-df-container\">\n",
              "      <div>\n",
              "<style scoped>\n",
              "    .dataframe tbody tr th:only-of-type {\n",
              "        vertical-align: middle;\n",
              "    }\n",
              "\n",
              "    .dataframe tbody tr th {\n",
              "        vertical-align: top;\n",
              "    }\n",
              "\n",
              "    .dataframe thead th {\n",
              "        text-align: right;\n",
              "    }\n",
              "</style>\n",
              "<table border=\"1\" class=\"dataframe\">\n",
              "  <thead>\n",
              "    <tr style=\"text-align: right;\">\n",
              "      <th></th>\n",
              "      <th>customer_unique_id</th>\n",
              "      <th>cluster_id</th>\n",
              "    </tr>\n",
              "  </thead>\n",
              "  <tbody>\n",
              "    <tr>\n",
              "      <th>0</th>\n",
              "      <td>0000366f3b9a7992bf8c76cfdf3221e2</td>\n",
              "      <td>2</td>\n",
              "    </tr>\n",
              "    <tr>\n",
              "      <th>1</th>\n",
              "      <td>0000b849f77a49e4a4ce2b2a4ca5be3f</td>\n",
              "      <td>5</td>\n",
              "    </tr>\n",
              "    <tr>\n",
              "      <th>2</th>\n",
              "      <td>0000f46a3911fa3c0805444483337064</td>\n",
              "      <td>0</td>\n",
              "    </tr>\n",
              "    <tr>\n",
              "      <th>3</th>\n",
              "      <td>0000f6ccb0745a6a4b88665a16c9f078</td>\n",
              "      <td>8</td>\n",
              "    </tr>\n",
              "    <tr>\n",
              "      <th>4</th>\n",
              "      <td>0004aac84e0df4da2b147fca70cf8255</td>\n",
              "      <td>8</td>\n",
              "    </tr>\n",
              "  </tbody>\n",
              "</table>\n",
              "</div>\n",
              "      <button class=\"colab-df-convert\" onclick=\"convertToInteractive('df-d9167521-55de-4158-a7bf-7cb1617b1f82')\"\n",
              "              title=\"Convert this dataframe to an interactive table.\"\n",
              "              style=\"display:none;\">\n",
              "        \n",
              "  <svg xmlns=\"http://www.w3.org/2000/svg\" height=\"24px\"viewBox=\"0 0 24 24\"\n",
              "       width=\"24px\">\n",
              "    <path d=\"M0 0h24v24H0V0z\" fill=\"none\"/>\n",
              "    <path d=\"M18.56 5.44l.94 2.06.94-2.06 2.06-.94-2.06-.94-.94-2.06-.94 2.06-2.06.94zm-11 1L8.5 8.5l.94-2.06 2.06-.94-2.06-.94L8.5 2.5l-.94 2.06-2.06.94zm10 10l.94 2.06.94-2.06 2.06-.94-2.06-.94-.94-2.06-.94 2.06-2.06.94z\"/><path d=\"M17.41 7.96l-1.37-1.37c-.4-.4-.92-.59-1.43-.59-.52 0-1.04.2-1.43.59L10.3 9.45l-7.72 7.72c-.78.78-.78 2.05 0 2.83L4 21.41c.39.39.9.59 1.41.59.51 0 1.02-.2 1.41-.59l7.78-7.78 2.81-2.81c.8-.78.8-2.07 0-2.86zM5.41 20L4 18.59l7.72-7.72 1.47 1.35L5.41 20z\"/>\n",
              "  </svg>\n",
              "      </button>\n",
              "      \n",
              "  <style>\n",
              "    .colab-df-container {\n",
              "      display:flex;\n",
              "      flex-wrap:wrap;\n",
              "      gap: 12px;\n",
              "    }\n",
              "\n",
              "    .colab-df-convert {\n",
              "      background-color: #E8F0FE;\n",
              "      border: none;\n",
              "      border-radius: 50%;\n",
              "      cursor: pointer;\n",
              "      display: none;\n",
              "      fill: #1967D2;\n",
              "      height: 32px;\n",
              "      padding: 0 0 0 0;\n",
              "      width: 32px;\n",
              "    }\n",
              "\n",
              "    .colab-df-convert:hover {\n",
              "      background-color: #E2EBFA;\n",
              "      box-shadow: 0px 1px 2px rgba(60, 64, 67, 0.3), 0px 1px 3px 1px rgba(60, 64, 67, 0.15);\n",
              "      fill: #174EA6;\n",
              "    }\n",
              "\n",
              "    [theme=dark] .colab-df-convert {\n",
              "      background-color: #3B4455;\n",
              "      fill: #D2E3FC;\n",
              "    }\n",
              "\n",
              "    [theme=dark] .colab-df-convert:hover {\n",
              "      background-color: #434B5C;\n",
              "      box-shadow: 0px 1px 3px 1px rgba(0, 0, 0, 0.15);\n",
              "      filter: drop-shadow(0px 1px 2px rgba(0, 0, 0, 0.3));\n",
              "      fill: #FFFFFF;\n",
              "    }\n",
              "  </style>\n",
              "\n",
              "      <script>\n",
              "        const buttonEl =\n",
              "          document.querySelector('#df-d9167521-55de-4158-a7bf-7cb1617b1f82 button.colab-df-convert');\n",
              "        buttonEl.style.display =\n",
              "          google.colab.kernel.accessAllowed ? 'block' : 'none';\n",
              "\n",
              "        async function convertToInteractive(key) {\n",
              "          const element = document.querySelector('#df-d9167521-55de-4158-a7bf-7cb1617b1f82');\n",
              "          const dataTable =\n",
              "            await google.colab.kernel.invokeFunction('convertToInteractive',\n",
              "                                                     [key], {});\n",
              "          if (!dataTable) return;\n",
              "\n",
              "          const docLinkHtml = 'Like what you see? Visit the ' +\n",
              "            '<a target=\"_blank\" href=https://colab.research.google.com/notebooks/data_table.ipynb>data table notebook</a>'\n",
              "            + ' to learn more about interactive tables.';\n",
              "          element.innerHTML = '';\n",
              "          dataTable['output_type'] = 'display_data';\n",
              "          await google.colab.output.renderOutput(dataTable, element);\n",
              "          const docLink = document.createElement('div');\n",
              "          docLink.innerHTML = docLinkHtml;\n",
              "          element.appendChild(docLink);\n",
              "        }\n",
              "      </script>\n",
              "    </div>\n",
              "  </div>\n",
              "  "
            ]
          },
          "metadata": {},
          "execution_count": 336
        }
      ],
      "source": [
        "df.head()"
      ]
    },
    {
      "cell_type": "code",
      "execution_count": 337,
      "id": "5b770648",
      "metadata": {
        "id": "5b770648"
      },
      "outputs": [],
      "source": [
        "item_features_clustered = item_features_new.merge(df, on = 'customer_unique_id')"
      ]
    },
    {
      "cell_type": "markdown",
      "id": "10d9b382",
      "metadata": {
        "id": "10d9b382"
      },
      "source": [
        "### ************************************** end of clustering code ******************************************************"
      ]
    },
    {
      "cell_type": "markdown",
      "id": "e41a07b2",
      "metadata": {
        "id": "e41a07b2"
      },
      "source": [
        "### Transform columns in items_features df to improve the performance of  distance based algorithms"
      ]
    },
    {
      "cell_type": "code",
      "execution_count": 338,
      "id": "dfd651f2",
      "metadata": {
        "id": "dfd651f2"
      },
      "outputs": [],
      "source": [
        "item_features['log_avg_price'] = np.log1p(item_features['avg_price'])\n",
        "item_features['log_num_reviews'] = np.log1p(item_features['num_reviews'])\n",
        "item_features['log_num_comments'] = np.log1p(item_features['num_comments'])\n",
        "# use cut to group the same number of reviews in each section\n",
        "item_features['num_reviews_binned'] = pd.cut(item_features['log_num_reviews'], 7, duplicates = 'drop')\n",
        "item_features['num_comments_binned'] = pd.cut(item_features['log_num_comments'], 6, duplicates = 'drop')\n",
        "\n",
        "item_features['avg_product_reviews_binned'] = pd.cut(item_features['avg_product_score'], 4, duplicates = 'drop')\n",
        "item_features['avg_seller_reviews_binned'] = pd.cut(item_features['avg_seller_score'], 4, duplicates = 'drop')\n",
        "\n",
        "item_features['avg_price_binned'] = pd.qcut(item_features['avg_price'], 4, duplicates = 'drop')\n",
        "item_features = item_features.sort_values('customer_unique_id').reset_index(drop=True)\n",
        "\n",
        "cols = ['num_reviews_binned', 'num_comments_binned','avg_product_reviews_binned','avg_seller_reviews_binned', 'avg_price_binned']\n",
        "for col in cols:\n",
        "    item_features[col] = item_features[col].astype(str)"
      ]
    },
    {
      "cell_type": "code",
      "execution_count": 339,
      "id": "7d6b6ce4",
      "metadata": {
        "id": "7d6b6ce4",
        "outputId": "509b7723-15d0-4779-fd8b-6120dfaf80f0",
        "colab": {
          "base_uri": "https://localhost:8080/",
          "height": 334
        }
      },
      "outputs": [
        {
          "output_type": "execute_result",
          "data": {
            "text/plain": [
              "                 customer_unique_id                        product_id  \\\n",
              "0  0000366f3b9a7992bf8c76cfdf3221e2  372645c7439f9661fbbacfd129aa92ec   \n",
              "1  0000b849f77a49e4a4ce2b2a4ca5be3f  5099f7000472b634fea8304448d20825   \n",
              "2  0000f46a3911fa3c0805444483337064  64b488de448a5324c4134ea39c28a34b   \n",
              "3  0000f6ccb0745a6a4b88665a16c9f078  2345a354a6f2033609bbf62bf5be9ef6   \n",
              "4  0004aac84e0df4da2b147fca70cf8255  c72e18b3fe2739b8d24ebf3102450f37   \n",
              "\n",
              "                        customer_id product_category_name  \\\n",
              "0  fadbb3709178fc513abc1b2670aa1ad2        bed_bath_table   \n",
              "1  4cb282e167ae9234755102258dd52ee8         health_beauty   \n",
              "2  9b3932a6253894a02c1df9d19004239f            stationery   \n",
              "3  914991f0c02ef0843c0e7010c819d642             telephony   \n",
              "4  47227568b10f5f58a524a75507e6992c             telephony   \n",
              "\n",
              "                          seller_id  review_score  \\\n",
              "0  da8622b14eb17ae2831f4ac5b9dab84a             5   \n",
              "1  138dbe45fc62f1e244378131a6801526             4   \n",
              "2  3d871de0142ce09b7081e2b9d1733cb1             3   \n",
              "3  ef506c96320abeedfb894c34db06f478             4   \n",
              "4  70a12e78e608ac31179aea7f8422044b             5   \n",
              "\n",
              "                              review_comment_message           seller_city  \\\n",
              "0  adorei a cortina, ficou linda na minha sala, e...            piracicaba   \n",
              "1                                                NaN             sao paulo   \n",
              "2                                                NaN  campo limpo paulista   \n",
              "3                                       bom vendedor             sao paulo   \n",
              "4                                                NaN               jacarei   \n",
              "\n",
              "  seller_state   price  ...   avg_price  product_count  log_avg_price  \\\n",
              "0           SP  129.90  ...  109.382759              1       4.703954   \n",
              "1           SP   18.90  ...   19.042857              1       2.997873   \n",
              "2           SP   69.00  ...   73.000000              1       4.304065   \n",
              "3           SP   25.99  ...   27.990000              1       3.366951   \n",
              "4           SP  180.00  ...  180.000000              1       5.198497   \n",
              "\n",
              "   log_num_reviews  log_num_comments  num_reviews_binned  num_comments_binned  \\\n",
              "0         3.401197          2.397895      (3.073, 3.866]       (1.813, 2.719]   \n",
              "1         2.079442          0.693147       (1.486, 2.28]    (-0.00544, 0.906]   \n",
              "2         1.791759          1.098612       (1.486, 2.28]       (0.906, 1.813]   \n",
              "3         1.386294          1.098612      (0.688, 1.486]       (0.906, 1.813]   \n",
              "4         0.693147          0.000000      (0.688, 1.486]    (-0.00544, 0.906]   \n",
              "\n",
              "   avg_product_reviews_binned  avg_seller_reviews_binned  avg_price_binned  \n",
              "0                  (4.0, 5.0]                 (4.0, 5.0]     (74.9, 135.0]  \n",
              "1                  (4.0, 5.0]                 (3.0, 4.0]     (0.849, 39.9]  \n",
              "2                  (4.0, 5.0]                 (4.0, 5.0]      (39.9, 74.9]  \n",
              "3                  (4.0, 5.0]                 (3.0, 4.0]     (0.849, 39.9]  \n",
              "4                  (4.0, 5.0]                 (3.0, 4.0]   (135.0, 6735.0]  \n",
              "\n",
              "[5 rows x 26 columns]"
            ],
            "text/html": [
              "\n",
              "  <div id=\"df-3320f62c-b6e0-426f-b0ab-140ac5401ace\">\n",
              "    <div class=\"colab-df-container\">\n",
              "      <div>\n",
              "<style scoped>\n",
              "    .dataframe tbody tr th:only-of-type {\n",
              "        vertical-align: middle;\n",
              "    }\n",
              "\n",
              "    .dataframe tbody tr th {\n",
              "        vertical-align: top;\n",
              "    }\n",
              "\n",
              "    .dataframe thead th {\n",
              "        text-align: right;\n",
              "    }\n",
              "</style>\n",
              "<table border=\"1\" class=\"dataframe\">\n",
              "  <thead>\n",
              "    <tr style=\"text-align: right;\">\n",
              "      <th></th>\n",
              "      <th>customer_unique_id</th>\n",
              "      <th>product_id</th>\n",
              "      <th>customer_id</th>\n",
              "      <th>product_category_name</th>\n",
              "      <th>seller_id</th>\n",
              "      <th>review_score</th>\n",
              "      <th>review_comment_message</th>\n",
              "      <th>seller_city</th>\n",
              "      <th>seller_state</th>\n",
              "      <th>price</th>\n",
              "      <th>...</th>\n",
              "      <th>avg_price</th>\n",
              "      <th>product_count</th>\n",
              "      <th>log_avg_price</th>\n",
              "      <th>log_num_reviews</th>\n",
              "      <th>log_num_comments</th>\n",
              "      <th>num_reviews_binned</th>\n",
              "      <th>num_comments_binned</th>\n",
              "      <th>avg_product_reviews_binned</th>\n",
              "      <th>avg_seller_reviews_binned</th>\n",
              "      <th>avg_price_binned</th>\n",
              "    </tr>\n",
              "  </thead>\n",
              "  <tbody>\n",
              "    <tr>\n",
              "      <th>0</th>\n",
              "      <td>0000366f3b9a7992bf8c76cfdf3221e2</td>\n",
              "      <td>372645c7439f9661fbbacfd129aa92ec</td>\n",
              "      <td>fadbb3709178fc513abc1b2670aa1ad2</td>\n",
              "      <td>bed_bath_table</td>\n",
              "      <td>da8622b14eb17ae2831f4ac5b9dab84a</td>\n",
              "      <td>5</td>\n",
              "      <td>adorei a cortina, ficou linda na minha sala, e...</td>\n",
              "      <td>piracicaba</td>\n",
              "      <td>SP</td>\n",
              "      <td>129.90</td>\n",
              "      <td>...</td>\n",
              "      <td>109.382759</td>\n",
              "      <td>1</td>\n",
              "      <td>4.703954</td>\n",
              "      <td>3.401197</td>\n",
              "      <td>2.397895</td>\n",
              "      <td>(3.073, 3.866]</td>\n",
              "      <td>(1.813, 2.719]</td>\n",
              "      <td>(4.0, 5.0]</td>\n",
              "      <td>(4.0, 5.0]</td>\n",
              "      <td>(74.9, 135.0]</td>\n",
              "    </tr>\n",
              "    <tr>\n",
              "      <th>1</th>\n",
              "      <td>0000b849f77a49e4a4ce2b2a4ca5be3f</td>\n",
              "      <td>5099f7000472b634fea8304448d20825</td>\n",
              "      <td>4cb282e167ae9234755102258dd52ee8</td>\n",
              "      <td>health_beauty</td>\n",
              "      <td>138dbe45fc62f1e244378131a6801526</td>\n",
              "      <td>4</td>\n",
              "      <td>NaN</td>\n",
              "      <td>sao paulo</td>\n",
              "      <td>SP</td>\n",
              "      <td>18.90</td>\n",
              "      <td>...</td>\n",
              "      <td>19.042857</td>\n",
              "      <td>1</td>\n",
              "      <td>2.997873</td>\n",
              "      <td>2.079442</td>\n",
              "      <td>0.693147</td>\n",
              "      <td>(1.486, 2.28]</td>\n",
              "      <td>(-0.00544, 0.906]</td>\n",
              "      <td>(4.0, 5.0]</td>\n",
              "      <td>(3.0, 4.0]</td>\n",
              "      <td>(0.849, 39.9]</td>\n",
              "    </tr>\n",
              "    <tr>\n",
              "      <th>2</th>\n",
              "      <td>0000f46a3911fa3c0805444483337064</td>\n",
              "      <td>64b488de448a5324c4134ea39c28a34b</td>\n",
              "      <td>9b3932a6253894a02c1df9d19004239f</td>\n",
              "      <td>stationery</td>\n",
              "      <td>3d871de0142ce09b7081e2b9d1733cb1</td>\n",
              "      <td>3</td>\n",
              "      <td>NaN</td>\n",
              "      <td>campo limpo paulista</td>\n",
              "      <td>SP</td>\n",
              "      <td>69.00</td>\n",
              "      <td>...</td>\n",
              "      <td>73.000000</td>\n",
              "      <td>1</td>\n",
              "      <td>4.304065</td>\n",
              "      <td>1.791759</td>\n",
              "      <td>1.098612</td>\n",
              "      <td>(1.486, 2.28]</td>\n",
              "      <td>(0.906, 1.813]</td>\n",
              "      <td>(4.0, 5.0]</td>\n",
              "      <td>(4.0, 5.0]</td>\n",
              "      <td>(39.9, 74.9]</td>\n",
              "    </tr>\n",
              "    <tr>\n",
              "      <th>3</th>\n",
              "      <td>0000f6ccb0745a6a4b88665a16c9f078</td>\n",
              "      <td>2345a354a6f2033609bbf62bf5be9ef6</td>\n",
              "      <td>914991f0c02ef0843c0e7010c819d642</td>\n",
              "      <td>telephony</td>\n",
              "      <td>ef506c96320abeedfb894c34db06f478</td>\n",
              "      <td>4</td>\n",
              "      <td>bom vendedor</td>\n",
              "      <td>sao paulo</td>\n",
              "      <td>SP</td>\n",
              "      <td>25.99</td>\n",
              "      <td>...</td>\n",
              "      <td>27.990000</td>\n",
              "      <td>1</td>\n",
              "      <td>3.366951</td>\n",
              "      <td>1.386294</td>\n",
              "      <td>1.098612</td>\n",
              "      <td>(0.688, 1.486]</td>\n",
              "      <td>(0.906, 1.813]</td>\n",
              "      <td>(4.0, 5.0]</td>\n",
              "      <td>(3.0, 4.0]</td>\n",
              "      <td>(0.849, 39.9]</td>\n",
              "    </tr>\n",
              "    <tr>\n",
              "      <th>4</th>\n",
              "      <td>0004aac84e0df4da2b147fca70cf8255</td>\n",
              "      <td>c72e18b3fe2739b8d24ebf3102450f37</td>\n",
              "      <td>47227568b10f5f58a524a75507e6992c</td>\n",
              "      <td>telephony</td>\n",
              "      <td>70a12e78e608ac31179aea7f8422044b</td>\n",
              "      <td>5</td>\n",
              "      <td>NaN</td>\n",
              "      <td>jacarei</td>\n",
              "      <td>SP</td>\n",
              "      <td>180.00</td>\n",
              "      <td>...</td>\n",
              "      <td>180.000000</td>\n",
              "      <td>1</td>\n",
              "      <td>5.198497</td>\n",
              "      <td>0.693147</td>\n",
              "      <td>0.000000</td>\n",
              "      <td>(0.688, 1.486]</td>\n",
              "      <td>(-0.00544, 0.906]</td>\n",
              "      <td>(4.0, 5.0]</td>\n",
              "      <td>(3.0, 4.0]</td>\n",
              "      <td>(135.0, 6735.0]</td>\n",
              "    </tr>\n",
              "  </tbody>\n",
              "</table>\n",
              "<p>5 rows × 26 columns</p>\n",
              "</div>\n",
              "      <button class=\"colab-df-convert\" onclick=\"convertToInteractive('df-3320f62c-b6e0-426f-b0ab-140ac5401ace')\"\n",
              "              title=\"Convert this dataframe to an interactive table.\"\n",
              "              style=\"display:none;\">\n",
              "        \n",
              "  <svg xmlns=\"http://www.w3.org/2000/svg\" height=\"24px\"viewBox=\"0 0 24 24\"\n",
              "       width=\"24px\">\n",
              "    <path d=\"M0 0h24v24H0V0z\" fill=\"none\"/>\n",
              "    <path d=\"M18.56 5.44l.94 2.06.94-2.06 2.06-.94-2.06-.94-.94-2.06-.94 2.06-2.06.94zm-11 1L8.5 8.5l.94-2.06 2.06-.94-2.06-.94L8.5 2.5l-.94 2.06-2.06.94zm10 10l.94 2.06.94-2.06 2.06-.94-2.06-.94-.94-2.06-.94 2.06-2.06.94z\"/><path d=\"M17.41 7.96l-1.37-1.37c-.4-.4-.92-.59-1.43-.59-.52 0-1.04.2-1.43.59L10.3 9.45l-7.72 7.72c-.78.78-.78 2.05 0 2.83L4 21.41c.39.39.9.59 1.41.59.51 0 1.02-.2 1.41-.59l7.78-7.78 2.81-2.81c.8-.78.8-2.07 0-2.86zM5.41 20L4 18.59l7.72-7.72 1.47 1.35L5.41 20z\"/>\n",
              "  </svg>\n",
              "      </button>\n",
              "      \n",
              "  <style>\n",
              "    .colab-df-container {\n",
              "      display:flex;\n",
              "      flex-wrap:wrap;\n",
              "      gap: 12px;\n",
              "    }\n",
              "\n",
              "    .colab-df-convert {\n",
              "      background-color: #E8F0FE;\n",
              "      border: none;\n",
              "      border-radius: 50%;\n",
              "      cursor: pointer;\n",
              "      display: none;\n",
              "      fill: #1967D2;\n",
              "      height: 32px;\n",
              "      padding: 0 0 0 0;\n",
              "      width: 32px;\n",
              "    }\n",
              "\n",
              "    .colab-df-convert:hover {\n",
              "      background-color: #E2EBFA;\n",
              "      box-shadow: 0px 1px 2px rgba(60, 64, 67, 0.3), 0px 1px 3px 1px rgba(60, 64, 67, 0.15);\n",
              "      fill: #174EA6;\n",
              "    }\n",
              "\n",
              "    [theme=dark] .colab-df-convert {\n",
              "      background-color: #3B4455;\n",
              "      fill: #D2E3FC;\n",
              "    }\n",
              "\n",
              "    [theme=dark] .colab-df-convert:hover {\n",
              "      background-color: #434B5C;\n",
              "      box-shadow: 0px 1px 3px 1px rgba(0, 0, 0, 0.15);\n",
              "      filter: drop-shadow(0px 1px 2px rgba(0, 0, 0, 0.3));\n",
              "      fill: #FFFFFF;\n",
              "    }\n",
              "  </style>\n",
              "\n",
              "      <script>\n",
              "        const buttonEl =\n",
              "          document.querySelector('#df-3320f62c-b6e0-426f-b0ab-140ac5401ace button.colab-df-convert');\n",
              "        buttonEl.style.display =\n",
              "          google.colab.kernel.accessAllowed ? 'block' : 'none';\n",
              "\n",
              "        async function convertToInteractive(key) {\n",
              "          const element = document.querySelector('#df-3320f62c-b6e0-426f-b0ab-140ac5401ace');\n",
              "          const dataTable =\n",
              "            await google.colab.kernel.invokeFunction('convertToInteractive',\n",
              "                                                     [key], {});\n",
              "          if (!dataTable) return;\n",
              "\n",
              "          const docLinkHtml = 'Like what you see? Visit the ' +\n",
              "            '<a target=\"_blank\" href=https://colab.research.google.com/notebooks/data_table.ipynb>data table notebook</a>'\n",
              "            + ' to learn more about interactive tables.';\n",
              "          element.innerHTML = '';\n",
              "          dataTable['output_type'] = 'display_data';\n",
              "          await google.colab.output.renderOutput(dataTable, element);\n",
              "          const docLink = document.createElement('div');\n",
              "          docLink.innerHTML = docLinkHtml;\n",
              "          element.appendChild(docLink);\n",
              "        }\n",
              "      </script>\n",
              "    </div>\n",
              "  </div>\n",
              "  "
            ]
          },
          "metadata": {},
          "execution_count": 339
        }
      ],
      "source": [
        "item_features.head()"
      ]
    },
    {
      "cell_type": "markdown",
      "id": "b7f9fc00",
      "metadata": {
        "id": "b7f9fc00"
      },
      "source": [
        "### adding the clustered groupings to user features"
      ]
    },
    {
      "cell_type": "code",
      "execution_count": 340,
      "id": "08bc748d",
      "metadata": {
        "id": "08bc748d"
      },
      "outputs": [],
      "source": [
        "user_features = pd.merge(user_features, item_features_clustered[['customer_unique_id', 'cluster_id']], on = 'customer_unique_id', how='left').drop('customer_city', axis=1)"
      ]
    },
    {
      "cell_type": "code",
      "execution_count": 341,
      "id": "c8362777",
      "metadata": {
        "id": "c8362777"
      },
      "outputs": [],
      "source": [
        "## creating the user and item list\n",
        "users =  np.sort(user_item[\"customer_unique_id\"].unique())\n",
        "items = item_features[\"product_id\"].unique()"
      ]
    },
    {
      "cell_type": "markdown",
      "id": "a502233f",
      "metadata": {
        "id": "a502233f"
      },
      "source": [
        "### defining functions to get the item feature list and user feature list"
      ]
    },
    {
      "cell_type": "code",
      "execution_count": 342,
      "id": "13064f79",
      "metadata": {
        "id": "13064f79"
      },
      "outputs": [],
      "source": [
        "def get_item_feature_list(df, product_category_col, seller_col, seller_rating_col, product_rating_col, \n",
        "                          num_comments, num_reviews, avg_price, seller_city, seller_state):\n",
        "    \n",
        "    categories = df[product_category_col]\n",
        "    sellers = df[seller_col]\n",
        "    seller_ratings = df[seller_rating_col]\n",
        "    product_ratings = df[product_rating_col]\n",
        "    num_product_comments = df[num_comments]\n",
        "    num_product_reviews = df[num_reviews]\n",
        "    avg_product_price = df[avg_price]\n",
        "    seller_city = df[seller_city]\n",
        "    seller_state = df[seller_state]\n",
        "    \n",
        "    return pd.concat([categories, sellers, seller_ratings, product_ratings, num_product_comments, \n",
        "                      num_product_reviews, avg_product_price, seller_city, seller_state], ignore_index = True).unique()\n",
        "\n",
        "def get_user_feature_list(df, cluster_id, customer_state):\n",
        "    \n",
        "    customer_state = df[customer_state]\n",
        "    cluster_id = df[cluster_id]\n",
        "    \n",
        "    return pd.concat([cluster_id, customer_state], ignore_index = True).unique()"
      ]
    },
    {
      "cell_type": "code",
      "execution_count": 343,
      "id": "7dfba0f0",
      "metadata": {
        "id": "7dfba0f0"
      },
      "outputs": [],
      "source": [
        "item_features_list = get_item_feature_list(item_features, \"product_category_name\", \"seller_id\", \"avg_seller_reviews_binned\",\n",
        "                                           \"avg_product_reviews_binned\", \"num_comments_binned\", \"num_reviews_binned\", \n",
        "                                           \"avg_price_binned\", \"seller_city\", \"seller_state\")\n",
        "user_features_list = get_user_feature_list(user_features, \"cluster_id\", \"customer_state\")"
      ]
    },
    {
      "cell_type": "markdown",
      "id": "95df75f1",
      "metadata": {
        "id": "95df75f1"
      },
      "source": [
        "### defining the id mappings function below to convert string ID's into numbers for Product, customer and features."
      ]
    },
    {
      "cell_type": "code",
      "execution_count": 344,
      "id": "678d5f17",
      "metadata": {
        "id": "678d5f17"
      },
      "outputs": [],
      "source": [
        "def id_mappings2(user_list, item_list, item_feature_list, user_feature_list):\n",
        "    \"\"\"\n",
        "    \n",
        "    Create id mappings to convert user_id, item_id, and feature_id\n",
        "    \n",
        "    \"\"\"\n",
        "    user_to_index_mapping = {}\n",
        "    index_to_user_mapping = {}\n",
        "    for user_index, user_id in enumerate(user_list):\n",
        "        user_to_index_mapping[user_id] = user_index\n",
        "        index_to_user_mapping[user_index] = user_id\n",
        "        \n",
        "    item_to_index_mapping = {}\n",
        "    index_to_item_mapping = {}\n",
        "    for item_index, item_id in enumerate(item_list):\n",
        "        item_to_index_mapping[item_id] = item_index\n",
        "        index_to_item_mapping[item_index] = item_id\n",
        "        \n",
        "    item_feature_to_index_mapping = {}\n",
        "    index_to_item_feature_mapping = {}\n",
        "    for item_feature_index, item_feature_id in enumerate(item_feature_list):\n",
        "        item_feature_to_index_mapping[item_feature_id] = item_feature_index\n",
        "        index_to_item_feature_mapping[item_feature_index] = item_feature_id\n",
        "\n",
        "    user_feature_to_index_mapping = {}\n",
        "    index_to_user_feature_mapping = {}\n",
        "    for user_feature_index, user_feature_id in enumerate(user_feature_list):\n",
        "        user_feature_to_index_mapping[user_feature_id] = user_feature_index\n",
        "        index_to_user_feature_mapping[user_feature_index] = user_feature_id\n",
        "        \n",
        "        \n",
        "    return user_to_index_mapping, index_to_user_mapping, \\\n",
        "           item_to_index_mapping, index_to_item_mapping, \\\n",
        "           item_feature_to_index_mapping, index_to_item_feature_mapping, \\\n",
        "           user_feature_to_index_mapping, index_to_user_feature_mapping"
      ]
    },
    {
      "cell_type": "code",
      "execution_count": 345,
      "id": "35f84406",
      "metadata": {
        "id": "35f84406"
      },
      "outputs": [],
      "source": [
        "# generate mapping\n",
        "user_to_index_mapping, index_to_user_mapping, \\\n",
        "           item_to_index_mapping, index_to_item_mapping, \\\n",
        "           item_feature_to_index_mapping, index_to_item_feature_mapping, \\\n",
        "           user_feature_to_index_mapping, index_to_user_feature_mapping = id_mappings2(users, items, item_features_list, \n",
        "                                                                            user_features_list)"
      ]
    },
    {
      "cell_type": "code",
      "execution_count": 346,
      "id": "58f2145b",
      "metadata": {
        "id": "58f2145b"
      },
      "outputs": [],
      "source": [
        "product_to_feature = item_features[['product_id', 'product_category_name', 'seller_id', 'num_reviews_binned', \n",
        "                                    'num_comments_binned', 'avg_product_reviews_binned', 'avg_seller_reviews_binned',\n",
        "                                    'avg_price_binned', 'seller_city', 'seller_state']]\n",
        "product_to_feature = product_to_feature.drop_duplicates('product_id').reset_index(drop=True)"
      ]
    },
    {
      "cell_type": "code",
      "execution_count": 347,
      "id": "fd700bba",
      "metadata": {
        "id": "fd700bba"
      },
      "outputs": [],
      "source": [
        "user_to_product_rating = item_features[['customer_unique_id', 'product_id', 'product_count']]\n",
        "user_to_product_rating = user_to_product_rating.sort_values(by='customer_unique_id').reset_index(drop=True)"
      ]
    },
    {
      "cell_type": "markdown",
      "source": [
        "## Model Development"
      ],
      "metadata": {
        "id": "0Ghbbs0qHP7Y"
      },
      "id": "0Ghbbs0qHP7Y"
    },
    {
      "cell_type": "code",
      "source": [
        "pip install lightfm"
      ],
      "metadata": {
        "colab": {
          "base_uri": "https://localhost:8080/"
        },
        "id": "ohmlpr1nHVBa",
        "outputId": "021efb2a-e961-4efc-f100-84f586f32561"
      },
      "id": "ohmlpr1nHVBa",
      "execution_count": 224,
      "outputs": [
        {
          "output_type": "stream",
          "name": "stdout",
          "text": [
            "Requirement already satisfied: lightfm in /usr/local/lib/python3.7/dist-packages (1.16)\n",
            "Requirement already satisfied: requests in /usr/local/lib/python3.7/dist-packages (from lightfm) (2.23.0)\n",
            "Requirement already satisfied: numpy in /usr/local/lib/python3.7/dist-packages (from lightfm) (1.21.6)\n",
            "Requirement already satisfied: scipy>=0.17.0 in /usr/local/lib/python3.7/dist-packages (from lightfm) (1.4.1)\n",
            "Requirement already satisfied: scikit-learn in /usr/local/lib/python3.7/dist-packages (from lightfm) (1.0.2)\n",
            "Requirement already satisfied: chardet<4,>=3.0.2 in /usr/local/lib/python3.7/dist-packages (from requests->lightfm) (3.0.4)\n",
            "Requirement already satisfied: certifi>=2017.4.17 in /usr/local/lib/python3.7/dist-packages (from requests->lightfm) (2021.10.8)\n",
            "Requirement already satisfied: urllib3!=1.25.0,!=1.25.1,<1.26,>=1.21.1 in /usr/local/lib/python3.7/dist-packages (from requests->lightfm) (1.24.3)\n",
            "Requirement already satisfied: idna<3,>=2.5 in /usr/local/lib/python3.7/dist-packages (from requests->lightfm) (2.10)\n",
            "Requirement already satisfied: joblib>=0.11 in /usr/local/lib/python3.7/dist-packages (from scikit-learn->lightfm) (1.1.0)\n",
            "Requirement already satisfied: threadpoolctl>=2.0.0 in /usr/local/lib/python3.7/dist-packages (from scikit-learn->lightfm) (3.1.0)\n"
          ]
        }
      ]
    },
    {
      "cell_type": "code",
      "source": [
        "import time\n",
        "from lightfm import LightFM\n",
        "from lightfm.evaluation import auc_score\n",
        "import random\n",
        "from scipy import sparse\n",
        "from prettytable import PrettyTable\n",
        "import itertools\n",
        "import numpy as np"
      ],
      "metadata": {
        "id": "_7HCSHgTGtQA"
      },
      "id": "_7HCSHgTGtQA",
      "execution_count": 348,
      "outputs": []
    },
    {
      "cell_type": "markdown",
      "source": [
        "### Train Test - Split"
      ],
      "metadata": {
        "id": "vqUWIUWIJ5n7"
      },
      "id": "vqUWIUWIJ5n7"
    },
    {
      "cell_type": "code",
      "source": [
        "np.random.seed(2)\n",
        "\n",
        "#randomly splitting the dataset into train and test\n",
        "rows = np.random.binomial(1, .8, size=len(user_to_product_rating)).astype('bool')\n",
        "\n",
        "#Spliting the dataset and getting train and test data\n",
        "user_to_product_rating_train = user_to_product_rating[rows].reset_index(drop = True)\n",
        "user_to_product_rating_test = user_to_product_rating[~rows].reset_index(drop = True)"
      ],
      "metadata": {
        "id": "af_vYITcJ5NX"
      },
      "id": "af_vYITcJ5NX",
      "execution_count": 349,
      "outputs": []
    },
    {
      "cell_type": "markdown",
      "source": [
        "### Creating Product - Feature df"
      ],
      "metadata": {
        "id": "k6YTvK6yc0r2"
      },
      "id": "k6YTvK6yc0r2"
    },
    {
      "cell_type": "markdown",
      "source": [
        "#### Product df"
      ],
      "metadata": {
        "id": "dgEeMjsBuGYI"
      },
      "id": "dgEeMjsBuGYI"
    },
    {
      "cell_type": "code",
      "source": [
        "#Transposing the dataset and setting product id as index\n",
        "df = product_to_feature.set_index('product_id').T.reset_index(drop = True)"
      ],
      "metadata": {
        "id": "HlXzrUDfKGeC"
      },
      "id": "HlXzrUDfKGeC",
      "execution_count": 284,
      "outputs": []
    },
    {
      "cell_type": "code",
      "source": [
        "cols = list(df.columns)\n",
        "res = []\n",
        "for i in cols:\n",
        "  for j in range(len(product_to_feature.columns) - 1):\n",
        "    res.append(i)"
      ],
      "metadata": {
        "id": "4uDdW-Y7KGbb"
      },
      "id": "4uDdW-Y7KGbb",
      "execution_count": 285,
      "outputs": []
    },
    {
      "cell_type": "code",
      "source": [
        "#Creating empty dataframe having product_id as index\n",
        "features = pd.DataFrame(index = res)\n",
        "features.index.name = 'product_id'\n",
        "\n",
        "# Reseting index\n",
        "features = features.reset_index()\n",
        "\n",
        "#Making an empty column that will store the feature for each product id\n",
        "features['feature'] = \"\""
      ],
      "metadata": {
        "id": "o6p7mERlKGY6"
      },
      "id": "o6p7mERlKGY6",
      "execution_count": 286,
      "outputs": []
    },
    {
      "cell_type": "markdown",
      "source": [
        "#### Feature df"
      ],
      "metadata": {
        "id": "o1VlVzBsuPSu"
      },
      "id": "o1VlVzBsuPSu"
    },
    {
      "cell_type": "code",
      "source": [
        "# Creating a list of features that will be used as feature column in the df\n",
        "featuress = []\n",
        "for i in cols:\n",
        "  for j in range(len(product_to_feature.columns) - 1):\n",
        "    featuress.append(df[i][j])"
      ],
      "metadata": {
        "id": "PoTCFOq7U3ej"
      },
      "id": "PoTCFOq7U3ej",
      "execution_count": 287,
      "outputs": []
    },
    {
      "cell_type": "code",
      "source": [
        "# Assigning the feature column to list that we created above\n",
        "features['feature'] = featuress\n",
        "product_to_feature = features\n",
        "\n",
        "#Creating a new column feature count and setting it to 1 for sparse matrix\n",
        "product_to_feature['feature_count'] = 1"
      ],
      "metadata": {
        "id": "Tj32uW7cKGTH"
      },
      "id": "Tj32uW7cKGTH",
      "execution_count": 350,
      "outputs": []
    },
    {
      "cell_type": "code",
      "source": [
        "product_to_feature.head(10)"
      ],
      "metadata": {
        "colab": {
          "base_uri": "https://localhost:8080/",
          "height": 427
        },
        "id": "juMB-NgRKGP-",
        "outputId": "38e5d71c-523b-4337-fbc7-43ea7ad27dbb"
      },
      "id": "juMB-NgRKGP-",
      "execution_count": 351,
      "outputs": [
        {
          "output_type": "execute_result",
          "data": {
            "text/plain": [
              "                         product_id                           feature  \\\n",
              "0  372645c7439f9661fbbacfd129aa92ec                    bed_bath_table   \n",
              "1  372645c7439f9661fbbacfd129aa92ec  da8622b14eb17ae2831f4ac5b9dab84a   \n",
              "2  372645c7439f9661fbbacfd129aa92ec                    (3.073, 3.866]   \n",
              "3  372645c7439f9661fbbacfd129aa92ec                    (1.813, 2.719]   \n",
              "4  372645c7439f9661fbbacfd129aa92ec                        (4.0, 5.0]   \n",
              "5  372645c7439f9661fbbacfd129aa92ec                        (4.0, 5.0]   \n",
              "6  372645c7439f9661fbbacfd129aa92ec                     (74.9, 135.0]   \n",
              "7  372645c7439f9661fbbacfd129aa92ec                        piracicaba   \n",
              "8  372645c7439f9661fbbacfd129aa92ec                                SP   \n",
              "9  5099f7000472b634fea8304448d20825                     health_beauty   \n",
              "\n",
              "   feature_count  \n",
              "0              1  \n",
              "1              1  \n",
              "2              1  \n",
              "3              1  \n",
              "4              1  \n",
              "5              1  \n",
              "6              1  \n",
              "7              1  \n",
              "8              1  \n",
              "9              1  "
            ],
            "text/html": [
              "\n",
              "  <div id=\"df-4369d0e4-df67-4756-a1c4-a41e35243780\">\n",
              "    <div class=\"colab-df-container\">\n",
              "      <div>\n",
              "<style scoped>\n",
              "    .dataframe tbody tr th:only-of-type {\n",
              "        vertical-align: middle;\n",
              "    }\n",
              "\n",
              "    .dataframe tbody tr th {\n",
              "        vertical-align: top;\n",
              "    }\n",
              "\n",
              "    .dataframe thead th {\n",
              "        text-align: right;\n",
              "    }\n",
              "</style>\n",
              "<table border=\"1\" class=\"dataframe\">\n",
              "  <thead>\n",
              "    <tr style=\"text-align: right;\">\n",
              "      <th></th>\n",
              "      <th>product_id</th>\n",
              "      <th>feature</th>\n",
              "      <th>feature_count</th>\n",
              "    </tr>\n",
              "  </thead>\n",
              "  <tbody>\n",
              "    <tr>\n",
              "      <th>0</th>\n",
              "      <td>372645c7439f9661fbbacfd129aa92ec</td>\n",
              "      <td>bed_bath_table</td>\n",
              "      <td>1</td>\n",
              "    </tr>\n",
              "    <tr>\n",
              "      <th>1</th>\n",
              "      <td>372645c7439f9661fbbacfd129aa92ec</td>\n",
              "      <td>da8622b14eb17ae2831f4ac5b9dab84a</td>\n",
              "      <td>1</td>\n",
              "    </tr>\n",
              "    <tr>\n",
              "      <th>2</th>\n",
              "      <td>372645c7439f9661fbbacfd129aa92ec</td>\n",
              "      <td>(3.073, 3.866]</td>\n",
              "      <td>1</td>\n",
              "    </tr>\n",
              "    <tr>\n",
              "      <th>3</th>\n",
              "      <td>372645c7439f9661fbbacfd129aa92ec</td>\n",
              "      <td>(1.813, 2.719]</td>\n",
              "      <td>1</td>\n",
              "    </tr>\n",
              "    <tr>\n",
              "      <th>4</th>\n",
              "      <td>372645c7439f9661fbbacfd129aa92ec</td>\n",
              "      <td>(4.0, 5.0]</td>\n",
              "      <td>1</td>\n",
              "    </tr>\n",
              "    <tr>\n",
              "      <th>5</th>\n",
              "      <td>372645c7439f9661fbbacfd129aa92ec</td>\n",
              "      <td>(4.0, 5.0]</td>\n",
              "      <td>1</td>\n",
              "    </tr>\n",
              "    <tr>\n",
              "      <th>6</th>\n",
              "      <td>372645c7439f9661fbbacfd129aa92ec</td>\n",
              "      <td>(74.9, 135.0]</td>\n",
              "      <td>1</td>\n",
              "    </tr>\n",
              "    <tr>\n",
              "      <th>7</th>\n",
              "      <td>372645c7439f9661fbbacfd129aa92ec</td>\n",
              "      <td>piracicaba</td>\n",
              "      <td>1</td>\n",
              "    </tr>\n",
              "    <tr>\n",
              "      <th>8</th>\n",
              "      <td>372645c7439f9661fbbacfd129aa92ec</td>\n",
              "      <td>SP</td>\n",
              "      <td>1</td>\n",
              "    </tr>\n",
              "    <tr>\n",
              "      <th>9</th>\n",
              "      <td>5099f7000472b634fea8304448d20825</td>\n",
              "      <td>health_beauty</td>\n",
              "      <td>1</td>\n",
              "    </tr>\n",
              "  </tbody>\n",
              "</table>\n",
              "</div>\n",
              "      <button class=\"colab-df-convert\" onclick=\"convertToInteractive('df-4369d0e4-df67-4756-a1c4-a41e35243780')\"\n",
              "              title=\"Convert this dataframe to an interactive table.\"\n",
              "              style=\"display:none;\">\n",
              "        \n",
              "  <svg xmlns=\"http://www.w3.org/2000/svg\" height=\"24px\"viewBox=\"0 0 24 24\"\n",
              "       width=\"24px\">\n",
              "    <path d=\"M0 0h24v24H0V0z\" fill=\"none\"/>\n",
              "    <path d=\"M18.56 5.44l.94 2.06.94-2.06 2.06-.94-2.06-.94-.94-2.06-.94 2.06-2.06.94zm-11 1L8.5 8.5l.94-2.06 2.06-.94-2.06-.94L8.5 2.5l-.94 2.06-2.06.94zm10 10l.94 2.06.94-2.06 2.06-.94-2.06-.94-.94-2.06-.94 2.06-2.06.94z\"/><path d=\"M17.41 7.96l-1.37-1.37c-.4-.4-.92-.59-1.43-.59-.52 0-1.04.2-1.43.59L10.3 9.45l-7.72 7.72c-.78.78-.78 2.05 0 2.83L4 21.41c.39.39.9.59 1.41.59.51 0 1.02-.2 1.41-.59l7.78-7.78 2.81-2.81c.8-.78.8-2.07 0-2.86zM5.41 20L4 18.59l7.72-7.72 1.47 1.35L5.41 20z\"/>\n",
              "  </svg>\n",
              "      </button>\n",
              "      \n",
              "  <style>\n",
              "    .colab-df-container {\n",
              "      display:flex;\n",
              "      flex-wrap:wrap;\n",
              "      gap: 12px;\n",
              "    }\n",
              "\n",
              "    .colab-df-convert {\n",
              "      background-color: #E8F0FE;\n",
              "      border: none;\n",
              "      border-radius: 50%;\n",
              "      cursor: pointer;\n",
              "      display: none;\n",
              "      fill: #1967D2;\n",
              "      height: 32px;\n",
              "      padding: 0 0 0 0;\n",
              "      width: 32px;\n",
              "    }\n",
              "\n",
              "    .colab-df-convert:hover {\n",
              "      background-color: #E2EBFA;\n",
              "      box-shadow: 0px 1px 2px rgba(60, 64, 67, 0.3), 0px 1px 3px 1px rgba(60, 64, 67, 0.15);\n",
              "      fill: #174EA6;\n",
              "    }\n",
              "\n",
              "    [theme=dark] .colab-df-convert {\n",
              "      background-color: #3B4455;\n",
              "      fill: #D2E3FC;\n",
              "    }\n",
              "\n",
              "    [theme=dark] .colab-df-convert:hover {\n",
              "      background-color: #434B5C;\n",
              "      box-shadow: 0px 1px 3px 1px rgba(0, 0, 0, 0.15);\n",
              "      filter: drop-shadow(0px 1px 2px rgba(0, 0, 0, 0.3));\n",
              "      fill: #FFFFFF;\n",
              "    }\n",
              "  </style>\n",
              "\n",
              "      <script>\n",
              "        const buttonEl =\n",
              "          document.querySelector('#df-4369d0e4-df67-4756-a1c4-a41e35243780 button.colab-df-convert');\n",
              "        buttonEl.style.display =\n",
              "          google.colab.kernel.accessAllowed ? 'block' : 'none';\n",
              "\n",
              "        async function convertToInteractive(key) {\n",
              "          const element = document.querySelector('#df-4369d0e4-df67-4756-a1c4-a41e35243780');\n",
              "          const dataTable =\n",
              "            await google.colab.kernel.invokeFunction('convertToInteractive',\n",
              "                                                     [key], {});\n",
              "          if (!dataTable) return;\n",
              "\n",
              "          const docLinkHtml = 'Like what you see? Visit the ' +\n",
              "            '<a target=\"_blank\" href=https://colab.research.google.com/notebooks/data_table.ipynb>data table notebook</a>'\n",
              "            + ' to learn more about interactive tables.';\n",
              "          element.innerHTML = '';\n",
              "          dataTable['output_type'] = 'display_data';\n",
              "          await google.colab.output.renderOutput(dataTable, element);\n",
              "          const docLink = document.createElement('div');\n",
              "          docLink.innerHTML = docLinkHtml;\n",
              "          element.appendChild(docLink);\n",
              "        }\n",
              "      </script>\n",
              "    </div>\n",
              "  </div>\n",
              "  "
            ]
          },
          "metadata": {},
          "execution_count": 351
        }
      ]
    },
    {
      "cell_type": "markdown",
      "source": [
        "### User to Feature Interaction"
      ],
      "metadata": {
        "id": "lb5WWSnzKV63"
      },
      "id": "lb5WWSnzKV63"
    },
    {
      "cell_type": "code",
      "source": [
        "user_to_feature = user_features.drop_duplicates('customer_unique_id').reset_index(drop = True)"
      ],
      "metadata": {
        "id": "s80RnnYEKGMm"
      },
      "id": "s80RnnYEKGMm",
      "execution_count": 352,
      "outputs": []
    },
    {
      "cell_type": "code",
      "source": [
        "# Transposing product_to_feature for getting features for individual customers\n",
        "df = user_to_feature.set_index('customer_unique_id').T.reset_index(drop = True)"
      ],
      "metadata": {
        "id": "Tv0vj2-SKdCG"
      },
      "id": "Tv0vj2-SKdCG",
      "execution_count": 353,
      "outputs": []
    },
    {
      "cell_type": "code",
      "source": [
        "df.head()"
      ],
      "metadata": {
        "colab": {
          "base_uri": "https://localhost:8080/",
          "height": 205
        },
        "id": "-YuTk9v7Kc_Q",
        "outputId": "6d71e207-76ed-401b-c49b-97c8d489ff7f"
      },
      "id": "-YuTk9v7Kc_Q",
      "execution_count": 354,
      "outputs": [
        {
          "output_type": "execute_result",
          "data": {
            "text/plain": [
              "customer_unique_id 7c396fd4830fd04220f754e42b4e5bff  \\\n",
              "0                                                SP   \n",
              "1                                                13   \n",
              "\n",
              "customer_unique_id e781fdcc107d13d865fc7698711cc572  \\\n",
              "0                                                SC   \n",
              "1                                                 7   \n",
              "\n",
              "customer_unique_id 3a51803cc0d012c3b5dc8b7528cb05f7  \\\n",
              "0                                                SP   \n",
              "1                                                 7   \n",
              "\n",
              "customer_unique_id ef0996a1a279c26e7ecbd737be23d235  \\\n",
              "0                                                SP   \n",
              "1                                                 7   \n",
              "\n",
              "customer_unique_id 8a4002923e801e3120a11070fd31c9e2  \\\n",
              "0                                                SP   \n",
              "1                                                 2   \n",
              "\n",
              "customer_unique_id 0cad1c6c08ef74b3ae7818514c158258  \\\n",
              "0                                                SP   \n",
              "1                                                 2   \n",
              "\n",
              "customer_unique_id eb5c27c09badfe9c053416ca5c3c7c35  \\\n",
              "0                                                SP   \n",
              "1                                                 2   \n",
              "\n",
              "customer_unique_id 6eff1cd9cc7f4dde6e1cbb679e219a50  \\\n",
              "0                                                RJ   \n",
              "1                                                 2   \n",
              "\n",
              "customer_unique_id cc3f5d537772957f90b7f15f1fb70316  \\\n",
              "0                                                SP   \n",
              "1                                                 2   \n",
              "\n",
              "customer_unique_id 87c9eb971f4cfcbefa08cb27b21bc9a7  ...  \\\n",
              "0                                                SP  ...   \n",
              "1                                                 2  ...   \n",
              "\n",
              "customer_unique_id 17cb19c8526583b203e7a3a6c828d3aa  \\\n",
              "0                                                PE   \n",
              "1                                                 5   \n",
              "\n",
              "customer_unique_id 7ce47ba6982b3ce9bee72ab948481f9e  \\\n",
              "0                                                RS   \n",
              "1                                                10   \n",
              "\n",
              "customer_unique_id 79e8da40d2295512051a82eda0663058  \\\n",
              "0                                                AP   \n",
              "1                                                 0   \n",
              "\n",
              "customer_unique_id f9ccc64481a04c1a9886994895b97f03  \\\n",
              "0                                                PB   \n",
              "1                                                10   \n",
              "\n",
              "customer_unique_id f5138d94d7e1085c5219408f32b62529  \\\n",
              "0                                                SP   \n",
              "1                                                 7   \n",
              "\n",
              "customer_unique_id 8b8c8f067a3faaf116211277147a88de  \\\n",
              "0                                                MG   \n",
              "1                                                 3   \n",
              "\n",
              "customer_unique_id 1ef6a1d949703afd7a74347aed3b0503  \\\n",
              "0                                                TO   \n",
              "1                                                 8   \n",
              "\n",
              "customer_unique_id ebc6df639d125e446f07c0e9b1e47b90  \\\n",
              "0                                                MG   \n",
              "1                                                 0   \n",
              "\n",
              "customer_unique_id ed81a42bec90c87578108d2e4c742d20  \\\n",
              "0                                                BA   \n",
              "1                                                10   \n",
              "\n",
              "customer_unique_id a49e8e11e850592fe685ae3c64b40eca  \n",
              "0                                                PR  \n",
              "1                                                 0  \n",
              "\n",
              "[2 rows x 91033 columns]"
            ],
            "text/html": [
              "\n",
              "  <div id=\"df-3c07c179-7914-4dee-9919-c42dcff89dd8\">\n",
              "    <div class=\"colab-df-container\">\n",
              "      <div>\n",
              "<style scoped>\n",
              "    .dataframe tbody tr th:only-of-type {\n",
              "        vertical-align: middle;\n",
              "    }\n",
              "\n",
              "    .dataframe tbody tr th {\n",
              "        vertical-align: top;\n",
              "    }\n",
              "\n",
              "    .dataframe thead th {\n",
              "        text-align: right;\n",
              "    }\n",
              "</style>\n",
              "<table border=\"1\" class=\"dataframe\">\n",
              "  <thead>\n",
              "    <tr style=\"text-align: right;\">\n",
              "      <th>customer_unique_id</th>\n",
              "      <th>7c396fd4830fd04220f754e42b4e5bff</th>\n",
              "      <th>e781fdcc107d13d865fc7698711cc572</th>\n",
              "      <th>3a51803cc0d012c3b5dc8b7528cb05f7</th>\n",
              "      <th>ef0996a1a279c26e7ecbd737be23d235</th>\n",
              "      <th>8a4002923e801e3120a11070fd31c9e2</th>\n",
              "      <th>0cad1c6c08ef74b3ae7818514c158258</th>\n",
              "      <th>eb5c27c09badfe9c053416ca5c3c7c35</th>\n",
              "      <th>6eff1cd9cc7f4dde6e1cbb679e219a50</th>\n",
              "      <th>cc3f5d537772957f90b7f15f1fb70316</th>\n",
              "      <th>87c9eb971f4cfcbefa08cb27b21bc9a7</th>\n",
              "      <th>...</th>\n",
              "      <th>17cb19c8526583b203e7a3a6c828d3aa</th>\n",
              "      <th>7ce47ba6982b3ce9bee72ab948481f9e</th>\n",
              "      <th>79e8da40d2295512051a82eda0663058</th>\n",
              "      <th>f9ccc64481a04c1a9886994895b97f03</th>\n",
              "      <th>f5138d94d7e1085c5219408f32b62529</th>\n",
              "      <th>8b8c8f067a3faaf116211277147a88de</th>\n",
              "      <th>1ef6a1d949703afd7a74347aed3b0503</th>\n",
              "      <th>ebc6df639d125e446f07c0e9b1e47b90</th>\n",
              "      <th>ed81a42bec90c87578108d2e4c742d20</th>\n",
              "      <th>a49e8e11e850592fe685ae3c64b40eca</th>\n",
              "    </tr>\n",
              "  </thead>\n",
              "  <tbody>\n",
              "    <tr>\n",
              "      <th>0</th>\n",
              "      <td>SP</td>\n",
              "      <td>SC</td>\n",
              "      <td>SP</td>\n",
              "      <td>SP</td>\n",
              "      <td>SP</td>\n",
              "      <td>SP</td>\n",
              "      <td>SP</td>\n",
              "      <td>RJ</td>\n",
              "      <td>SP</td>\n",
              "      <td>SP</td>\n",
              "      <td>...</td>\n",
              "      <td>PE</td>\n",
              "      <td>RS</td>\n",
              "      <td>AP</td>\n",
              "      <td>PB</td>\n",
              "      <td>SP</td>\n",
              "      <td>MG</td>\n",
              "      <td>TO</td>\n",
              "      <td>MG</td>\n",
              "      <td>BA</td>\n",
              "      <td>PR</td>\n",
              "    </tr>\n",
              "    <tr>\n",
              "      <th>1</th>\n",
              "      <td>13</td>\n",
              "      <td>7</td>\n",
              "      <td>7</td>\n",
              "      <td>7</td>\n",
              "      <td>2</td>\n",
              "      <td>2</td>\n",
              "      <td>2</td>\n",
              "      <td>2</td>\n",
              "      <td>2</td>\n",
              "      <td>2</td>\n",
              "      <td>...</td>\n",
              "      <td>5</td>\n",
              "      <td>10</td>\n",
              "      <td>0</td>\n",
              "      <td>10</td>\n",
              "      <td>7</td>\n",
              "      <td>3</td>\n",
              "      <td>8</td>\n",
              "      <td>0</td>\n",
              "      <td>10</td>\n",
              "      <td>0</td>\n",
              "    </tr>\n",
              "  </tbody>\n",
              "</table>\n",
              "<p>2 rows × 91033 columns</p>\n",
              "</div>\n",
              "      <button class=\"colab-df-convert\" onclick=\"convertToInteractive('df-3c07c179-7914-4dee-9919-c42dcff89dd8')\"\n",
              "              title=\"Convert this dataframe to an interactive table.\"\n",
              "              style=\"display:none;\">\n",
              "        \n",
              "  <svg xmlns=\"http://www.w3.org/2000/svg\" height=\"24px\"viewBox=\"0 0 24 24\"\n",
              "       width=\"24px\">\n",
              "    <path d=\"M0 0h24v24H0V0z\" fill=\"none\"/>\n",
              "    <path d=\"M18.56 5.44l.94 2.06.94-2.06 2.06-.94-2.06-.94-.94-2.06-.94 2.06-2.06.94zm-11 1L8.5 8.5l.94-2.06 2.06-.94-2.06-.94L8.5 2.5l-.94 2.06-2.06.94zm10 10l.94 2.06.94-2.06 2.06-.94-2.06-.94-.94-2.06-.94 2.06-2.06.94z\"/><path d=\"M17.41 7.96l-1.37-1.37c-.4-.4-.92-.59-1.43-.59-.52 0-1.04.2-1.43.59L10.3 9.45l-7.72 7.72c-.78.78-.78 2.05 0 2.83L4 21.41c.39.39.9.59 1.41.59.51 0 1.02-.2 1.41-.59l7.78-7.78 2.81-2.81c.8-.78.8-2.07 0-2.86zM5.41 20L4 18.59l7.72-7.72 1.47 1.35L5.41 20z\"/>\n",
              "  </svg>\n",
              "      </button>\n",
              "      \n",
              "  <style>\n",
              "    .colab-df-container {\n",
              "      display:flex;\n",
              "      flex-wrap:wrap;\n",
              "      gap: 12px;\n",
              "    }\n",
              "\n",
              "    .colab-df-convert {\n",
              "      background-color: #E8F0FE;\n",
              "      border: none;\n",
              "      border-radius: 50%;\n",
              "      cursor: pointer;\n",
              "      display: none;\n",
              "      fill: #1967D2;\n",
              "      height: 32px;\n",
              "      padding: 0 0 0 0;\n",
              "      width: 32px;\n",
              "    }\n",
              "\n",
              "    .colab-df-convert:hover {\n",
              "      background-color: #E2EBFA;\n",
              "      box-shadow: 0px 1px 2px rgba(60, 64, 67, 0.3), 0px 1px 3px 1px rgba(60, 64, 67, 0.15);\n",
              "      fill: #174EA6;\n",
              "    }\n",
              "\n",
              "    [theme=dark] .colab-df-convert {\n",
              "      background-color: #3B4455;\n",
              "      fill: #D2E3FC;\n",
              "    }\n",
              "\n",
              "    [theme=dark] .colab-df-convert:hover {\n",
              "      background-color: #434B5C;\n",
              "      box-shadow: 0px 1px 3px 1px rgba(0, 0, 0, 0.15);\n",
              "      filter: drop-shadow(0px 1px 2px rgba(0, 0, 0, 0.3));\n",
              "      fill: #FFFFFF;\n",
              "    }\n",
              "  </style>\n",
              "\n",
              "      <script>\n",
              "        const buttonEl =\n",
              "          document.querySelector('#df-3c07c179-7914-4dee-9919-c42dcff89dd8 button.colab-df-convert');\n",
              "        buttonEl.style.display =\n",
              "          google.colab.kernel.accessAllowed ? 'block' : 'none';\n",
              "\n",
              "        async function convertToInteractive(key) {\n",
              "          const element = document.querySelector('#df-3c07c179-7914-4dee-9919-c42dcff89dd8');\n",
              "          const dataTable =\n",
              "            await google.colab.kernel.invokeFunction('convertToInteractive',\n",
              "                                                     [key], {});\n",
              "          if (!dataTable) return;\n",
              "\n",
              "          const docLinkHtml = 'Like what you see? Visit the ' +\n",
              "            '<a target=\"_blank\" href=https://colab.research.google.com/notebooks/data_table.ipynb>data table notebook</a>'\n",
              "            + ' to learn more about interactive tables.';\n",
              "          element.innerHTML = '';\n",
              "          dataTable['output_type'] = 'display_data';\n",
              "          await google.colab.output.renderOutput(dataTable, element);\n",
              "          const docLink = document.createElement('div');\n",
              "          docLink.innerHTML = docLinkHtml;\n",
              "          element.appendChild(docLink);\n",
              "        }\n",
              "      </script>\n",
              "    </div>\n",
              "  </div>\n",
              "  "
            ]
          },
          "metadata": {},
          "execution_count": 354
        }
      ]
    },
    {
      "cell_type": "code",
      "source": [
        "cols = list(df.columns)\n",
        "res = []\n",
        "for i in cols:\n",
        "  for j in range(len(user_to_feature.columns) - 1):\n",
        "    res.append(i)"
      ],
      "metadata": {
        "id": "rGDknwFAY1QF"
      },
      "id": "rGDknwFAY1QF",
      "execution_count": 355,
      "outputs": []
    },
    {
      "cell_type": "code",
      "source": [
        "# Creating empty dataframe that will have the index as product_id \n",
        "user_feature = pd.DataFrame(index = res)\n",
        "user_feature.index.name = 'customer_unique_id'\n",
        "\n",
        "# Reseting index, so that product id becomes columns\n",
        "user_feature = user_feature.reset_index()\n",
        "\n",
        "# Creating Emplty dataframe for user feature\n",
        "user_feature['feature'] = \"\""
      ],
      "metadata": {
        "id": "X5sCcuWVKc3J"
      },
      "id": "X5sCcuWVKc3J",
      "execution_count": 356,
      "outputs": []
    },
    {
      "cell_type": "code",
      "source": [
        "# Creating list of features items that will be used as column\n",
        "feature_items = []\n",
        "for i in cols:\n",
        "  for j in range(len(user_to_feature.columns)-1):\n",
        "    feature_items.append(df[i][j])"
      ],
      "metadata": {
        "id": "GxTdbDHrKcz1"
      },
      "id": "GxTdbDHrKcz1",
      "execution_count": 357,
      "outputs": []
    },
    {
      "cell_type": "code",
      "source": [
        "user_feature['feature'] = feature_items\n",
        "user_to_feature = user_feature\n",
        "user_to_feature['feature_count'] = 1"
      ],
      "metadata": {
        "id": "hukEzkZlKpWn"
      },
      "id": "hukEzkZlKpWn",
      "execution_count": 358,
      "outputs": []
    },
    {
      "cell_type": "code",
      "source": [
        "# 10 total features for each product\n",
        "product_to_feature.head(10)"
      ],
      "metadata": {
        "colab": {
          "base_uri": "https://localhost:8080/",
          "height": 427
        },
        "id": "tI9OX-5KKpUP",
        "outputId": "facb92fc-e18e-4f8b-f9a1-1cfbdf7cd10e"
      },
      "id": "tI9OX-5KKpUP",
      "execution_count": 359,
      "outputs": [
        {
          "output_type": "execute_result",
          "data": {
            "text/plain": [
              "                         product_id                           feature  \\\n",
              "0  372645c7439f9661fbbacfd129aa92ec                    bed_bath_table   \n",
              "1  372645c7439f9661fbbacfd129aa92ec  da8622b14eb17ae2831f4ac5b9dab84a   \n",
              "2  372645c7439f9661fbbacfd129aa92ec                    (3.073, 3.866]   \n",
              "3  372645c7439f9661fbbacfd129aa92ec                    (1.813, 2.719]   \n",
              "4  372645c7439f9661fbbacfd129aa92ec                        (4.0, 5.0]   \n",
              "5  372645c7439f9661fbbacfd129aa92ec                        (4.0, 5.0]   \n",
              "6  372645c7439f9661fbbacfd129aa92ec                     (74.9, 135.0]   \n",
              "7  372645c7439f9661fbbacfd129aa92ec                        piracicaba   \n",
              "8  372645c7439f9661fbbacfd129aa92ec                                SP   \n",
              "9  5099f7000472b634fea8304448d20825                     health_beauty   \n",
              "\n",
              "   feature_count  \n",
              "0              1  \n",
              "1              1  \n",
              "2              1  \n",
              "3              1  \n",
              "4              1  \n",
              "5              1  \n",
              "6              1  \n",
              "7              1  \n",
              "8              1  \n",
              "9              1  "
            ],
            "text/html": [
              "\n",
              "  <div id=\"df-541e915c-8920-496a-954b-a8a5515f3e1a\">\n",
              "    <div class=\"colab-df-container\">\n",
              "      <div>\n",
              "<style scoped>\n",
              "    .dataframe tbody tr th:only-of-type {\n",
              "        vertical-align: middle;\n",
              "    }\n",
              "\n",
              "    .dataframe tbody tr th {\n",
              "        vertical-align: top;\n",
              "    }\n",
              "\n",
              "    .dataframe thead th {\n",
              "        text-align: right;\n",
              "    }\n",
              "</style>\n",
              "<table border=\"1\" class=\"dataframe\">\n",
              "  <thead>\n",
              "    <tr style=\"text-align: right;\">\n",
              "      <th></th>\n",
              "      <th>product_id</th>\n",
              "      <th>feature</th>\n",
              "      <th>feature_count</th>\n",
              "    </tr>\n",
              "  </thead>\n",
              "  <tbody>\n",
              "    <tr>\n",
              "      <th>0</th>\n",
              "      <td>372645c7439f9661fbbacfd129aa92ec</td>\n",
              "      <td>bed_bath_table</td>\n",
              "      <td>1</td>\n",
              "    </tr>\n",
              "    <tr>\n",
              "      <th>1</th>\n",
              "      <td>372645c7439f9661fbbacfd129aa92ec</td>\n",
              "      <td>da8622b14eb17ae2831f4ac5b9dab84a</td>\n",
              "      <td>1</td>\n",
              "    </tr>\n",
              "    <tr>\n",
              "      <th>2</th>\n",
              "      <td>372645c7439f9661fbbacfd129aa92ec</td>\n",
              "      <td>(3.073, 3.866]</td>\n",
              "      <td>1</td>\n",
              "    </tr>\n",
              "    <tr>\n",
              "      <th>3</th>\n",
              "      <td>372645c7439f9661fbbacfd129aa92ec</td>\n",
              "      <td>(1.813, 2.719]</td>\n",
              "      <td>1</td>\n",
              "    </tr>\n",
              "    <tr>\n",
              "      <th>4</th>\n",
              "      <td>372645c7439f9661fbbacfd129aa92ec</td>\n",
              "      <td>(4.0, 5.0]</td>\n",
              "      <td>1</td>\n",
              "    </tr>\n",
              "    <tr>\n",
              "      <th>5</th>\n",
              "      <td>372645c7439f9661fbbacfd129aa92ec</td>\n",
              "      <td>(4.0, 5.0]</td>\n",
              "      <td>1</td>\n",
              "    </tr>\n",
              "    <tr>\n",
              "      <th>6</th>\n",
              "      <td>372645c7439f9661fbbacfd129aa92ec</td>\n",
              "      <td>(74.9, 135.0]</td>\n",
              "      <td>1</td>\n",
              "    </tr>\n",
              "    <tr>\n",
              "      <th>7</th>\n",
              "      <td>372645c7439f9661fbbacfd129aa92ec</td>\n",
              "      <td>piracicaba</td>\n",
              "      <td>1</td>\n",
              "    </tr>\n",
              "    <tr>\n",
              "      <th>8</th>\n",
              "      <td>372645c7439f9661fbbacfd129aa92ec</td>\n",
              "      <td>SP</td>\n",
              "      <td>1</td>\n",
              "    </tr>\n",
              "    <tr>\n",
              "      <th>9</th>\n",
              "      <td>5099f7000472b634fea8304448d20825</td>\n",
              "      <td>health_beauty</td>\n",
              "      <td>1</td>\n",
              "    </tr>\n",
              "  </tbody>\n",
              "</table>\n",
              "</div>\n",
              "      <button class=\"colab-df-convert\" onclick=\"convertToInteractive('df-541e915c-8920-496a-954b-a8a5515f3e1a')\"\n",
              "              title=\"Convert this dataframe to an interactive table.\"\n",
              "              style=\"display:none;\">\n",
              "        \n",
              "  <svg xmlns=\"http://www.w3.org/2000/svg\" height=\"24px\"viewBox=\"0 0 24 24\"\n",
              "       width=\"24px\">\n",
              "    <path d=\"M0 0h24v24H0V0z\" fill=\"none\"/>\n",
              "    <path d=\"M18.56 5.44l.94 2.06.94-2.06 2.06-.94-2.06-.94-.94-2.06-.94 2.06-2.06.94zm-11 1L8.5 8.5l.94-2.06 2.06-.94-2.06-.94L8.5 2.5l-.94 2.06-2.06.94zm10 10l.94 2.06.94-2.06 2.06-.94-2.06-.94-.94-2.06-.94 2.06-2.06.94z\"/><path d=\"M17.41 7.96l-1.37-1.37c-.4-.4-.92-.59-1.43-.59-.52 0-1.04.2-1.43.59L10.3 9.45l-7.72 7.72c-.78.78-.78 2.05 0 2.83L4 21.41c.39.39.9.59 1.41.59.51 0 1.02-.2 1.41-.59l7.78-7.78 2.81-2.81c.8-.78.8-2.07 0-2.86zM5.41 20L4 18.59l7.72-7.72 1.47 1.35L5.41 20z\"/>\n",
              "  </svg>\n",
              "      </button>\n",
              "      \n",
              "  <style>\n",
              "    .colab-df-container {\n",
              "      display:flex;\n",
              "      flex-wrap:wrap;\n",
              "      gap: 12px;\n",
              "    }\n",
              "\n",
              "    .colab-df-convert {\n",
              "      background-color: #E8F0FE;\n",
              "      border: none;\n",
              "      border-radius: 50%;\n",
              "      cursor: pointer;\n",
              "      display: none;\n",
              "      fill: #1967D2;\n",
              "      height: 32px;\n",
              "      padding: 0 0 0 0;\n",
              "      width: 32px;\n",
              "    }\n",
              "\n",
              "    .colab-df-convert:hover {\n",
              "      background-color: #E2EBFA;\n",
              "      box-shadow: 0px 1px 2px rgba(60, 64, 67, 0.3), 0px 1px 3px 1px rgba(60, 64, 67, 0.15);\n",
              "      fill: #174EA6;\n",
              "    }\n",
              "\n",
              "    [theme=dark] .colab-df-convert {\n",
              "      background-color: #3B4455;\n",
              "      fill: #D2E3FC;\n",
              "    }\n",
              "\n",
              "    [theme=dark] .colab-df-convert:hover {\n",
              "      background-color: #434B5C;\n",
              "      box-shadow: 0px 1px 3px 1px rgba(0, 0, 0, 0.15);\n",
              "      filter: drop-shadow(0px 1px 2px rgba(0, 0, 0, 0.3));\n",
              "      fill: #FFFFFF;\n",
              "    }\n",
              "  </style>\n",
              "\n",
              "      <script>\n",
              "        const buttonEl =\n",
              "          document.querySelector('#df-541e915c-8920-496a-954b-a8a5515f3e1a button.colab-df-convert');\n",
              "        buttonEl.style.display =\n",
              "          google.colab.kernel.accessAllowed ? 'block' : 'none';\n",
              "\n",
              "        async function convertToInteractive(key) {\n",
              "          const element = document.querySelector('#df-541e915c-8920-496a-954b-a8a5515f3e1a');\n",
              "          const dataTable =\n",
              "            await google.colab.kernel.invokeFunction('convertToInteractive',\n",
              "                                                     [key], {});\n",
              "          if (!dataTable) return;\n",
              "\n",
              "          const docLinkHtml = 'Like what you see? Visit the ' +\n",
              "            '<a target=\"_blank\" href=https://colab.research.google.com/notebooks/data_table.ipynb>data table notebook</a>'\n",
              "            + ' to learn more about interactive tables.';\n",
              "          element.innerHTML = '';\n",
              "          dataTable['output_type'] = 'display_data';\n",
              "          await google.colab.output.renderOutput(dataTable, element);\n",
              "          const docLink = document.createElement('div');\n",
              "          docLink.innerHTML = docLinkHtml;\n",
              "          element.appendChild(docLink);\n",
              "        }\n",
              "      </script>\n",
              "    </div>\n",
              "  </div>\n",
              "  "
            ]
          },
          "metadata": {},
          "execution_count": 359
        }
      ]
    },
    {
      "cell_type": "code",
      "source": [
        "# two features for each user\n",
        "user_to_feature.head(2)"
      ],
      "metadata": {
        "colab": {
          "base_uri": "https://localhost:8080/",
          "height": 112
        },
        "id": "vfftoMFyKpRK",
        "outputId": "4269cede-3877-4cec-dd97-dc139060f53f"
      },
      "id": "vfftoMFyKpRK",
      "execution_count": 360,
      "outputs": [
        {
          "output_type": "execute_result",
          "data": {
            "text/plain": [
              "                 customer_unique_id feature  feature_count\n",
              "0  7c396fd4830fd04220f754e42b4e5bff      SP              1\n",
              "1  7c396fd4830fd04220f754e42b4e5bff      13              1"
            ],
            "text/html": [
              "\n",
              "  <div id=\"df-c9479081-46b0-4cd7-910b-09940acbc2f6\">\n",
              "    <div class=\"colab-df-container\">\n",
              "      <div>\n",
              "<style scoped>\n",
              "    .dataframe tbody tr th:only-of-type {\n",
              "        vertical-align: middle;\n",
              "    }\n",
              "\n",
              "    .dataframe tbody tr th {\n",
              "        vertical-align: top;\n",
              "    }\n",
              "\n",
              "    .dataframe thead th {\n",
              "        text-align: right;\n",
              "    }\n",
              "</style>\n",
              "<table border=\"1\" class=\"dataframe\">\n",
              "  <thead>\n",
              "    <tr style=\"text-align: right;\">\n",
              "      <th></th>\n",
              "      <th>customer_unique_id</th>\n",
              "      <th>feature</th>\n",
              "      <th>feature_count</th>\n",
              "    </tr>\n",
              "  </thead>\n",
              "  <tbody>\n",
              "    <tr>\n",
              "      <th>0</th>\n",
              "      <td>7c396fd4830fd04220f754e42b4e5bff</td>\n",
              "      <td>SP</td>\n",
              "      <td>1</td>\n",
              "    </tr>\n",
              "    <tr>\n",
              "      <th>1</th>\n",
              "      <td>7c396fd4830fd04220f754e42b4e5bff</td>\n",
              "      <td>13</td>\n",
              "      <td>1</td>\n",
              "    </tr>\n",
              "  </tbody>\n",
              "</table>\n",
              "</div>\n",
              "      <button class=\"colab-df-convert\" onclick=\"convertToInteractive('df-c9479081-46b0-4cd7-910b-09940acbc2f6')\"\n",
              "              title=\"Convert this dataframe to an interactive table.\"\n",
              "              style=\"display:none;\">\n",
              "        \n",
              "  <svg xmlns=\"http://www.w3.org/2000/svg\" height=\"24px\"viewBox=\"0 0 24 24\"\n",
              "       width=\"24px\">\n",
              "    <path d=\"M0 0h24v24H0V0z\" fill=\"none\"/>\n",
              "    <path d=\"M18.56 5.44l.94 2.06.94-2.06 2.06-.94-2.06-.94-.94-2.06-.94 2.06-2.06.94zm-11 1L8.5 8.5l.94-2.06 2.06-.94-2.06-.94L8.5 2.5l-.94 2.06-2.06.94zm10 10l.94 2.06.94-2.06 2.06-.94-2.06-.94-.94-2.06-.94 2.06-2.06.94z\"/><path d=\"M17.41 7.96l-1.37-1.37c-.4-.4-.92-.59-1.43-.59-.52 0-1.04.2-1.43.59L10.3 9.45l-7.72 7.72c-.78.78-.78 2.05 0 2.83L4 21.41c.39.39.9.59 1.41.59.51 0 1.02-.2 1.41-.59l7.78-7.78 2.81-2.81c.8-.78.8-2.07 0-2.86zM5.41 20L4 18.59l7.72-7.72 1.47 1.35L5.41 20z\"/>\n",
              "  </svg>\n",
              "      </button>\n",
              "      \n",
              "  <style>\n",
              "    .colab-df-container {\n",
              "      display:flex;\n",
              "      flex-wrap:wrap;\n",
              "      gap: 12px;\n",
              "    }\n",
              "\n",
              "    .colab-df-convert {\n",
              "      background-color: #E8F0FE;\n",
              "      border: none;\n",
              "      border-radius: 50%;\n",
              "      cursor: pointer;\n",
              "      display: none;\n",
              "      fill: #1967D2;\n",
              "      height: 32px;\n",
              "      padding: 0 0 0 0;\n",
              "      width: 32px;\n",
              "    }\n",
              "\n",
              "    .colab-df-convert:hover {\n",
              "      background-color: #E2EBFA;\n",
              "      box-shadow: 0px 1px 2px rgba(60, 64, 67, 0.3), 0px 1px 3px 1px rgba(60, 64, 67, 0.15);\n",
              "      fill: #174EA6;\n",
              "    }\n",
              "\n",
              "    [theme=dark] .colab-df-convert {\n",
              "      background-color: #3B4455;\n",
              "      fill: #D2E3FC;\n",
              "    }\n",
              "\n",
              "    [theme=dark] .colab-df-convert:hover {\n",
              "      background-color: #434B5C;\n",
              "      box-shadow: 0px 1px 3px 1px rgba(0, 0, 0, 0.15);\n",
              "      filter: drop-shadow(0px 1px 2px rgba(0, 0, 0, 0.3));\n",
              "      fill: #FFFFFF;\n",
              "    }\n",
              "  </style>\n",
              "\n",
              "      <script>\n",
              "        const buttonEl =\n",
              "          document.querySelector('#df-c9479081-46b0-4cd7-910b-09940acbc2f6 button.colab-df-convert');\n",
              "        buttonEl.style.display =\n",
              "          google.colab.kernel.accessAllowed ? 'block' : 'none';\n",
              "\n",
              "        async function convertToInteractive(key) {\n",
              "          const element = document.querySelector('#df-c9479081-46b0-4cd7-910b-09940acbc2f6');\n",
              "          const dataTable =\n",
              "            await google.colab.kernel.invokeFunction('convertToInteractive',\n",
              "                                                     [key], {});\n",
              "          if (!dataTable) return;\n",
              "\n",
              "          const docLinkHtml = 'Like what you see? Visit the ' +\n",
              "            '<a target=\"_blank\" href=https://colab.research.google.com/notebooks/data_table.ipynb>data table notebook</a>'\n",
              "            + ' to learn more about interactive tables.';\n",
              "          element.innerHTML = '';\n",
              "          dataTable['output_type'] = 'display_data';\n",
              "          await google.colab.output.renderOutput(dataTable, element);\n",
              "          const docLink = document.createElement('div');\n",
              "          docLink.innerHTML = docLinkHtml;\n",
              "          element.appendChild(docLink);\n",
              "        }\n",
              "      </script>\n",
              "    </div>\n",
              "  </div>\n",
              "  "
            ]
          },
          "metadata": {},
          "execution_count": 360
        }
      ]
    },
    {
      "cell_type": "code",
      "source": [
        "# count for each user for the products they purchased\n",
        "user_to_product_rating_train.head()"
      ],
      "metadata": {
        "colab": {
          "base_uri": "https://localhost:8080/",
          "height": 270
        },
        "id": "yMMsZm1oKpOS",
        "outputId": "c4960094-e12e-4abe-e95c-048e6598acf5"
      },
      "id": "yMMsZm1oKpOS",
      "execution_count": 361,
      "outputs": [
        {
          "output_type": "execute_result",
          "data": {
            "text/plain": [
              "                 customer_unique_id                        product_id  \\\n",
              "0  0000366f3b9a7992bf8c76cfdf3221e2  372645c7439f9661fbbacfd129aa92ec   \n",
              "1  0000b849f77a49e4a4ce2b2a4ca5be3f  5099f7000472b634fea8304448d20825   \n",
              "2  0000f46a3911fa3c0805444483337064  64b488de448a5324c4134ea39c28a34b   \n",
              "3  0000f6ccb0745a6a4b88665a16c9f078  2345a354a6f2033609bbf62bf5be9ef6   \n",
              "4  0004aac84e0df4da2b147fca70cf8255  c72e18b3fe2739b8d24ebf3102450f37   \n",
              "\n",
              "   product_count  \n",
              "0              1  \n",
              "1              1  \n",
              "2              1  \n",
              "3              1  \n",
              "4              1  "
            ],
            "text/html": [
              "\n",
              "  <div id=\"df-158a09b8-47d8-419b-98fe-4cfeed0e56b1\">\n",
              "    <div class=\"colab-df-container\">\n",
              "      <div>\n",
              "<style scoped>\n",
              "    .dataframe tbody tr th:only-of-type {\n",
              "        vertical-align: middle;\n",
              "    }\n",
              "\n",
              "    .dataframe tbody tr th {\n",
              "        vertical-align: top;\n",
              "    }\n",
              "\n",
              "    .dataframe thead th {\n",
              "        text-align: right;\n",
              "    }\n",
              "</style>\n",
              "<table border=\"1\" class=\"dataframe\">\n",
              "  <thead>\n",
              "    <tr style=\"text-align: right;\">\n",
              "      <th></th>\n",
              "      <th>customer_unique_id</th>\n",
              "      <th>product_id</th>\n",
              "      <th>product_count</th>\n",
              "    </tr>\n",
              "  </thead>\n",
              "  <tbody>\n",
              "    <tr>\n",
              "      <th>0</th>\n",
              "      <td>0000366f3b9a7992bf8c76cfdf3221e2</td>\n",
              "      <td>372645c7439f9661fbbacfd129aa92ec</td>\n",
              "      <td>1</td>\n",
              "    </tr>\n",
              "    <tr>\n",
              "      <th>1</th>\n",
              "      <td>0000b849f77a49e4a4ce2b2a4ca5be3f</td>\n",
              "      <td>5099f7000472b634fea8304448d20825</td>\n",
              "      <td>1</td>\n",
              "    </tr>\n",
              "    <tr>\n",
              "      <th>2</th>\n",
              "      <td>0000f46a3911fa3c0805444483337064</td>\n",
              "      <td>64b488de448a5324c4134ea39c28a34b</td>\n",
              "      <td>1</td>\n",
              "    </tr>\n",
              "    <tr>\n",
              "      <th>3</th>\n",
              "      <td>0000f6ccb0745a6a4b88665a16c9f078</td>\n",
              "      <td>2345a354a6f2033609bbf62bf5be9ef6</td>\n",
              "      <td>1</td>\n",
              "    </tr>\n",
              "    <tr>\n",
              "      <th>4</th>\n",
              "      <td>0004aac84e0df4da2b147fca70cf8255</td>\n",
              "      <td>c72e18b3fe2739b8d24ebf3102450f37</td>\n",
              "      <td>1</td>\n",
              "    </tr>\n",
              "  </tbody>\n",
              "</table>\n",
              "</div>\n",
              "      <button class=\"colab-df-convert\" onclick=\"convertToInteractive('df-158a09b8-47d8-419b-98fe-4cfeed0e56b1')\"\n",
              "              title=\"Convert this dataframe to an interactive table.\"\n",
              "              style=\"display:none;\">\n",
              "        \n",
              "  <svg xmlns=\"http://www.w3.org/2000/svg\" height=\"24px\"viewBox=\"0 0 24 24\"\n",
              "       width=\"24px\">\n",
              "    <path d=\"M0 0h24v24H0V0z\" fill=\"none\"/>\n",
              "    <path d=\"M18.56 5.44l.94 2.06.94-2.06 2.06-.94-2.06-.94-.94-2.06-.94 2.06-2.06.94zm-11 1L8.5 8.5l.94-2.06 2.06-.94-2.06-.94L8.5 2.5l-.94 2.06-2.06.94zm10 10l.94 2.06.94-2.06 2.06-.94-2.06-.94-.94-2.06-.94 2.06-2.06.94z\"/><path d=\"M17.41 7.96l-1.37-1.37c-.4-.4-.92-.59-1.43-.59-.52 0-1.04.2-1.43.59L10.3 9.45l-7.72 7.72c-.78.78-.78 2.05 0 2.83L4 21.41c.39.39.9.59 1.41.59.51 0 1.02-.2 1.41-.59l7.78-7.78 2.81-2.81c.8-.78.8-2.07 0-2.86zM5.41 20L4 18.59l7.72-7.72 1.47 1.35L5.41 20z\"/>\n",
              "  </svg>\n",
              "      </button>\n",
              "      \n",
              "  <style>\n",
              "    .colab-df-container {\n",
              "      display:flex;\n",
              "      flex-wrap:wrap;\n",
              "      gap: 12px;\n",
              "    }\n",
              "\n",
              "    .colab-df-convert {\n",
              "      background-color: #E8F0FE;\n",
              "      border: none;\n",
              "      border-radius: 50%;\n",
              "      cursor: pointer;\n",
              "      display: none;\n",
              "      fill: #1967D2;\n",
              "      height: 32px;\n",
              "      padding: 0 0 0 0;\n",
              "      width: 32px;\n",
              "    }\n",
              "\n",
              "    .colab-df-convert:hover {\n",
              "      background-color: #E2EBFA;\n",
              "      box-shadow: 0px 1px 2px rgba(60, 64, 67, 0.3), 0px 1px 3px 1px rgba(60, 64, 67, 0.15);\n",
              "      fill: #174EA6;\n",
              "    }\n",
              "\n",
              "    [theme=dark] .colab-df-convert {\n",
              "      background-color: #3B4455;\n",
              "      fill: #D2E3FC;\n",
              "    }\n",
              "\n",
              "    [theme=dark] .colab-df-convert:hover {\n",
              "      background-color: #434B5C;\n",
              "      box-shadow: 0px 1px 3px 1px rgba(0, 0, 0, 0.15);\n",
              "      filter: drop-shadow(0px 1px 2px rgba(0, 0, 0, 0.3));\n",
              "      fill: #FFFFFF;\n",
              "    }\n",
              "  </style>\n",
              "\n",
              "      <script>\n",
              "        const buttonEl =\n",
              "          document.querySelector('#df-158a09b8-47d8-419b-98fe-4cfeed0e56b1 button.colab-df-convert');\n",
              "        buttonEl.style.display =\n",
              "          google.colab.kernel.accessAllowed ? 'block' : 'none';\n",
              "\n",
              "        async function convertToInteractive(key) {\n",
              "          const element = document.querySelector('#df-158a09b8-47d8-419b-98fe-4cfeed0e56b1');\n",
              "          const dataTable =\n",
              "            await google.colab.kernel.invokeFunction('convertToInteractive',\n",
              "                                                     [key], {});\n",
              "          if (!dataTable) return;\n",
              "\n",
              "          const docLinkHtml = 'Like what you see? Visit the ' +\n",
              "            '<a target=\"_blank\" href=https://colab.research.google.com/notebooks/data_table.ipynb>data table notebook</a>'\n",
              "            + ' to learn more about interactive tables.';\n",
              "          element.innerHTML = '';\n",
              "          dataTable['output_type'] = 'display_data';\n",
              "          await google.colab.output.renderOutput(dataTable, element);\n",
              "          const docLink = document.createElement('div');\n",
              "          docLink.innerHTML = docLinkHtml;\n",
              "          element.appendChild(docLink);\n",
              "        }\n",
              "      </script>\n",
              "    </div>\n",
              "  </div>\n",
              "  "
            ]
          },
          "metadata": {},
          "execution_count": 361
        }
      ]
    },
    {
      "cell_type": "code",
      "source": [
        "user_to_product_rating_test.head()"
      ],
      "metadata": {
        "colab": {
          "base_uri": "https://localhost:8080/",
          "height": 270
        },
        "id": "6apZ2RPJKyrv",
        "outputId": "a4322802-d6d5-4514-fcef-890c787e0542"
      },
      "id": "6apZ2RPJKyrv",
      "execution_count": 362,
      "outputs": [
        {
          "output_type": "execute_result",
          "data": {
            "text/plain": [
              "                 customer_unique_id                        product_id  \\\n",
              "0  000bfa1d2f1a41876493be685390d6d3  bb15f9ba2ec6e36ab6c9e88d17430d64   \n",
              "1  000d460961d6dbfa3ec6c9f5805769e1  53075a78fc601d6eb47e8ad2d142b7a8   \n",
              "2  00172711b30d52eea8b313a7f2cced02  8f71fe1e1b5bbb6773e7276b5c37ef65   \n",
              "3  001926cef41060fae572e2e7b30bd2a4  5d66715cc928aadd0074f61332698593   \n",
              "4  0019e8c501c85848ac0966d45226fa1d  1dfb36d969d347f56f43590ec42c7b8c   \n",
              "\n",
              "   product_count  \n",
              "0              1  \n",
              "1              1  \n",
              "2              1  \n",
              "3              2  \n",
              "4              1  "
            ],
            "text/html": [
              "\n",
              "  <div id=\"df-f29da235-6695-4e2f-92f1-e3aab3379218\">\n",
              "    <div class=\"colab-df-container\">\n",
              "      <div>\n",
              "<style scoped>\n",
              "    .dataframe tbody tr th:only-of-type {\n",
              "        vertical-align: middle;\n",
              "    }\n",
              "\n",
              "    .dataframe tbody tr th {\n",
              "        vertical-align: top;\n",
              "    }\n",
              "\n",
              "    .dataframe thead th {\n",
              "        text-align: right;\n",
              "    }\n",
              "</style>\n",
              "<table border=\"1\" class=\"dataframe\">\n",
              "  <thead>\n",
              "    <tr style=\"text-align: right;\">\n",
              "      <th></th>\n",
              "      <th>customer_unique_id</th>\n",
              "      <th>product_id</th>\n",
              "      <th>product_count</th>\n",
              "    </tr>\n",
              "  </thead>\n",
              "  <tbody>\n",
              "    <tr>\n",
              "      <th>0</th>\n",
              "      <td>000bfa1d2f1a41876493be685390d6d3</td>\n",
              "      <td>bb15f9ba2ec6e36ab6c9e88d17430d64</td>\n",
              "      <td>1</td>\n",
              "    </tr>\n",
              "    <tr>\n",
              "      <th>1</th>\n",
              "      <td>000d460961d6dbfa3ec6c9f5805769e1</td>\n",
              "      <td>53075a78fc601d6eb47e8ad2d142b7a8</td>\n",
              "      <td>1</td>\n",
              "    </tr>\n",
              "    <tr>\n",
              "      <th>2</th>\n",
              "      <td>00172711b30d52eea8b313a7f2cced02</td>\n",
              "      <td>8f71fe1e1b5bbb6773e7276b5c37ef65</td>\n",
              "      <td>1</td>\n",
              "    </tr>\n",
              "    <tr>\n",
              "      <th>3</th>\n",
              "      <td>001926cef41060fae572e2e7b30bd2a4</td>\n",
              "      <td>5d66715cc928aadd0074f61332698593</td>\n",
              "      <td>2</td>\n",
              "    </tr>\n",
              "    <tr>\n",
              "      <th>4</th>\n",
              "      <td>0019e8c501c85848ac0966d45226fa1d</td>\n",
              "      <td>1dfb36d969d347f56f43590ec42c7b8c</td>\n",
              "      <td>1</td>\n",
              "    </tr>\n",
              "  </tbody>\n",
              "</table>\n",
              "</div>\n",
              "      <button class=\"colab-df-convert\" onclick=\"convertToInteractive('df-f29da235-6695-4e2f-92f1-e3aab3379218')\"\n",
              "              title=\"Convert this dataframe to an interactive table.\"\n",
              "              style=\"display:none;\">\n",
              "        \n",
              "  <svg xmlns=\"http://www.w3.org/2000/svg\" height=\"24px\"viewBox=\"0 0 24 24\"\n",
              "       width=\"24px\">\n",
              "    <path d=\"M0 0h24v24H0V0z\" fill=\"none\"/>\n",
              "    <path d=\"M18.56 5.44l.94 2.06.94-2.06 2.06-.94-2.06-.94-.94-2.06-.94 2.06-2.06.94zm-11 1L8.5 8.5l.94-2.06 2.06-.94-2.06-.94L8.5 2.5l-.94 2.06-2.06.94zm10 10l.94 2.06.94-2.06 2.06-.94-2.06-.94-.94-2.06-.94 2.06-2.06.94z\"/><path d=\"M17.41 7.96l-1.37-1.37c-.4-.4-.92-.59-1.43-.59-.52 0-1.04.2-1.43.59L10.3 9.45l-7.72 7.72c-.78.78-.78 2.05 0 2.83L4 21.41c.39.39.9.59 1.41.59.51 0 1.02-.2 1.41-.59l7.78-7.78 2.81-2.81c.8-.78.8-2.07 0-2.86zM5.41 20L4 18.59l7.72-7.72 1.47 1.35L5.41 20z\"/>\n",
              "  </svg>\n",
              "      </button>\n",
              "      \n",
              "  <style>\n",
              "    .colab-df-container {\n",
              "      display:flex;\n",
              "      flex-wrap:wrap;\n",
              "      gap: 12px;\n",
              "    }\n",
              "\n",
              "    .colab-df-convert {\n",
              "      background-color: #E8F0FE;\n",
              "      border: none;\n",
              "      border-radius: 50%;\n",
              "      cursor: pointer;\n",
              "      display: none;\n",
              "      fill: #1967D2;\n",
              "      height: 32px;\n",
              "      padding: 0 0 0 0;\n",
              "      width: 32px;\n",
              "    }\n",
              "\n",
              "    .colab-df-convert:hover {\n",
              "      background-color: #E2EBFA;\n",
              "      box-shadow: 0px 1px 2px rgba(60, 64, 67, 0.3), 0px 1px 3px 1px rgba(60, 64, 67, 0.15);\n",
              "      fill: #174EA6;\n",
              "    }\n",
              "\n",
              "    [theme=dark] .colab-df-convert {\n",
              "      background-color: #3B4455;\n",
              "      fill: #D2E3FC;\n",
              "    }\n",
              "\n",
              "    [theme=dark] .colab-df-convert:hover {\n",
              "      background-color: #434B5C;\n",
              "      box-shadow: 0px 1px 3px 1px rgba(0, 0, 0, 0.15);\n",
              "      filter: drop-shadow(0px 1px 2px rgba(0, 0, 0, 0.3));\n",
              "      fill: #FFFFFF;\n",
              "    }\n",
              "  </style>\n",
              "\n",
              "      <script>\n",
              "        const buttonEl =\n",
              "          document.querySelector('#df-f29da235-6695-4e2f-92f1-e3aab3379218 button.colab-df-convert');\n",
              "        buttonEl.style.display =\n",
              "          google.colab.kernel.accessAllowed ? 'block' : 'none';\n",
              "\n",
              "        async function convertToInteractive(key) {\n",
              "          const element = document.querySelector('#df-f29da235-6695-4e2f-92f1-e3aab3379218');\n",
              "          const dataTable =\n",
              "            await google.colab.kernel.invokeFunction('convertToInteractive',\n",
              "                                                     [key], {});\n",
              "          if (!dataTable) return;\n",
              "\n",
              "          const docLinkHtml = 'Like what you see? Visit the ' +\n",
              "            '<a target=\"_blank\" href=https://colab.research.google.com/notebooks/data_table.ipynb>data table notebook</a>'\n",
              "            + ' to learn more about interactive tables.';\n",
              "          element.innerHTML = '';\n",
              "          dataTable['output_type'] = 'display_data';\n",
              "          await google.colab.output.renderOutput(dataTable, element);\n",
              "          const docLink = document.createElement('div');\n",
              "          docLink.innerHTML = docLinkHtml;\n",
              "          element.appendChild(docLink);\n",
              "        }\n",
              "      </script>\n",
              "    </div>\n",
              "  </div>\n",
              "  "
            ]
          },
          "metadata": {},
          "execution_count": 362
        }
      ]
    },
    {
      "cell_type": "code",
      "source": [
        "#Created a function that will return the sparse matrix\n",
        "def generate_matrix(df, df_row, df_col, df_value, row_index, col_index):\n",
        "    \n",
        "    row = df[df_row].apply(lambda x: row_index[x]).values\n",
        "    col = df[df_col].apply(lambda x: col_index[x]).values\n",
        "    value = df[df_value].values\n",
        "\n",
        "    return sparse.coo_matrix((value, (row, col)), shape = (len(row_index), len(col_index)))"
      ],
      "metadata": {
        "id": "qyzBfGtRKyl6"
      },
      "id": "qyzBfGtRKyl6",
      "execution_count": 367,
      "outputs": []
    },
    {
      "cell_type": "code",
      "source": [
        "# generate user_item_interaction_matrix for train data\n",
        "user_to_product_interaction_train = generate_matrix(user_to_product_rating_train, \"customer_unique_id\", \"product_id\", \"product_count\", user_to_index_mapping, item_to_index_mapping)\n",
        "\n",
        "# generate user_item_interaction_matrix for test data\n",
        "user_to_product_interaction_test = generate_matrix(user_to_product_rating_test, \"customer_unique_id\", \"product_id\", \"product_count\", user_to_index_mapping, item_to_index_mapping)\n",
        "\n",
        "# generate item_to_feature interaction\n",
        "product_to_feature_interaction = generate_matrix(product_to_feature, \"product_id\", \"feature\",  \"feature_count\", item_to_index_mapping, item_feature_to_index_mapping)\n",
        "\n",
        "user_to_feature_interaction = generate_matrix(user_to_feature, \"customer_unique_id\", \"feature\", \"feature_count\", user_to_index_mapping, user_feature_to_index_mapping)"
      ],
      "metadata": {
        "id": "XRn-L3PbKycv"
      },
      "id": "XRn-L3PbKycv",
      "execution_count": 368,
      "outputs": []
    },
    {
      "cell_type": "markdown",
      "source": [
        "## Model with Collaborative Filtering & Product content"
      ],
      "metadata": {
        "id": "2GS-vHbqu8Tq"
      },
      "id": "2GS-vHbqu8Tq"
    },
    {
      "cell_type": "code",
      "source": [
        "# Initializing LightFM Model\n",
        "model_with_features = LightFM(loss = \"warp\")\n",
        "\n",
        "model_with_features.fit(user_to_product_interaction_train, user_features = None, item_features = product_to_feature_interaction, sample_weight = None, epochs = 1,  num_threads = 4, verbose = False)\n",
        "\n",
        "auc_with_features = auc_score(model = model_with_features, test_interactions = user_to_product_interaction_test, train_interactions = user_to_product_interaction_train, user_features = None, item_features = product_to_feature_interaction, num_threads = 4, check_intersections = False)\n",
        "\n",
        "print(\"Average AUC of model having item-feature interaction = \", round(auc_with_features.mean(), 4))"
      ],
      "metadata": {
        "colab": {
          "base_uri": "https://localhost:8080/"
        },
        "id": "L7LttiiGHUFS",
        "outputId": "c9767b50-4f85-4c37-dc2c-e6c464fc648b"
      },
      "id": "L7LttiiGHUFS",
      "execution_count": 371,
      "outputs": [
        {
          "output_type": "stream",
          "name": "stdout",
          "text": [
            "Average AUC of model having item-feature interaction =  0.7869\n"
          ]
        }
      ]
    },
    {
      "cell_type": "markdown",
      "source": [
        "## Model with hybrid collaborative filtering and content based including user features"
      ],
      "metadata": {
        "id": "GN8nacNsL0aG"
      },
      "id": "GN8nacNsL0aG"
    },
    {
      "cell_type": "code",
      "source": [
        "model_with_features_and_users = LightFM(loss = \"warp\")\n",
        "\n",
        "# Fitting the model with hybrid collaborative filtering and content based (product & features)\n",
        "model_with_features_and_users.fit(user_to_product_interaction_train, user_features = user_to_feature_interaction, item_features = product_to_feature_interaction, sample_weight = None, epochs = 1, num_threads = 4,verbose = False)\n",
        "\n",
        "# Testing the model and calculating the AUC Score\n",
        "auc_with_features = auc_score(model = model_with_features_and_users, test_interactions = user_to_product_interaction_test, train_interactions = user_to_product_interaction_train, user_features = user_to_feature_interaction, item_features = product_to_feature_interaction, num_threads = 4, check_intersections = False)\n",
        "\n",
        "print(\"Average AUC of model having item-feature & user-feature interaction = \",round(auc_with_features.mean(), 4))"
      ],
      "metadata": {
        "colab": {
          "base_uri": "https://localhost:8080/"
        },
        "id": "p6gyAmCOIP8L",
        "outputId": "3f70643f-030a-49ac-b7d9-7423153455d3"
      },
      "id": "p6gyAmCOIP8L",
      "execution_count": 372,
      "outputs": [
        {
          "output_type": "stream",
          "name": "stdout",
          "text": [
            "Average AUC of model having item-feature & user-feature interaction =  0.9594\n"
          ]
        }
      ]
    },
    {
      "cell_type": "markdown",
      "source": [
        "### Combining train and test data for individual user recommendations"
      ],
      "metadata": {
        "id": "-lPPlmJTMPzG"
      },
      "id": "-lPPlmJTMPzG"
    },
    {
      "cell_type": "code",
      "source": [
        "def combined_train_test(train, test):\n",
        "\n",
        "    #Creating train dictionary\n",
        "    train_dict = {}\n",
        "    for row, col, train_value in zip(train.row, train.col, train.data):\n",
        "        train_dict[(row, col)] = train_value\n",
        "        \n",
        "    #Adding the test data\n",
        "    for row, col, test_value in zip(test.row, test.col, test.data):\n",
        "        train_dict[(row, col)] = max(test_value, train_dict.get((row, col), 0))\n",
        "        \n",
        "    #Aggregating with train data    \n",
        "    row_temp = []\n",
        "    col_temp = []\n",
        "    data_temp = []\n",
        "    for row, col in train_dict:\n",
        "        row_temp.append(row)\n",
        "        col_temp.append(col)\n",
        "        data_temp.append(train_dict[(row, col)])\n",
        "\n",
        "    #Converting dictonary to np array for creating sparse matrix    \n",
        "    row_element = np.array(row_temp)\n",
        "    col_element = np.array(col_temp)\n",
        "    data_element = np.array(data_temp)\n",
        "    \n",
        "    return sparse.coo_matrix((data_element, (row_element, col_element)), shape = (train.shape[0], train.shape[1]))"
      ],
      "metadata": {
        "id": "NnqNU9QOLvDj"
      },
      "id": "NnqNU9QOLvDj",
      "execution_count": 373,
      "outputs": []
    },
    {
      "cell_type": "code",
      "source": [
        "# Creating user-product interaction matrix\n",
        "user_to_product_interaction = combined_train_test(user_to_product_interaction_train, user_to_product_interaction_test)"
      ],
      "metadata": {
        "id": "eYilsInTLvA7"
      },
      "id": "eYilsInTLvA7",
      "execution_count": 374,
      "outputs": []
    },
    {
      "cell_type": "code",
      "source": [
        "# Making the final model with combined data\n",
        "initial_model_1 = LightFM(loss = \"warp\")\n",
        "\n",
        "# Fitting the commbined data with collaborative filtering output\n",
        "initial_model_1.fit(user_to_product_interaction, user_features = None, item_features = product_to_feature_interaction, sample_weight = None, epochs = 1, num_threads = 4, verbose = False)"
      ],
      "metadata": {
        "colab": {
          "base_uri": "https://localhost:8080/"
        },
        "id": "T3CxQ5RtLu94",
        "outputId": "1c321991-0042-4eb8-ca82-bfc042db25ce"
      },
      "id": "T3CxQ5RtLu94",
      "execution_count": 376,
      "outputs": [
        {
          "output_type": "execute_result",
          "data": {
            "text/plain": [
              "<lightfm.lightfm.LightFM at 0x7fee1e271350>"
            ]
          },
          "metadata": {},
          "execution_count": 376
        }
      ]
    },
    {
      "cell_type": "markdown",
      "source": [
        "### Fitting model with user-features"
      ],
      "metadata": {
        "id": "6nbvyBuoMmLW"
      },
      "id": "6nbvyBuoMmLW"
    },
    {
      "cell_type": "code",
      "source": [
        "# Making the final model with combined data\n",
        "initial_model_2 = LightFM(loss = \"warp\")\n",
        "\n",
        "# Fitting the commbined data with collaborative filtering output\n",
        "initial_model_2.fit(user_to_product_interaction, user_features = user_to_feature_interaction, item_features = product_to_feature_interaction, sample_weight = None, epochs = 1, num_threads = 4, verbose = False)"
      ],
      "metadata": {
        "colab": {
          "base_uri": "https://localhost:8080/"
        },
        "id": "2XU11YOyLu6-",
        "outputId": "e8e32c0e-5955-42c7-dc86-0d37fa96a75f"
      },
      "id": "2XU11YOyLu6-",
      "execution_count": 377,
      "outputs": [
        {
          "output_type": "execute_result",
          "data": {
            "text/plain": [
              "<lightfm.lightfm.LightFM at 0x7fee1e251b90>"
            ]
          },
          "metadata": {},
          "execution_count": 377
        }
      ]
    },
    {
      "cell_type": "code",
      "source": [
        "# Created Class Recommendation Sampling that Sample a user and then provide recommendation for that user\n",
        "class recommendation_sampling:\n",
        "    \n",
        "    def __init__(self, model, items = items, user_to_product_interaction_matrix = user_to_product_interaction, user2index_map = user_to_index_mapping):\n",
        "        \n",
        "        self.user_to_product_interaction_matrix = user_to_product_interaction_matrix\n",
        "        self.model = model\n",
        "        self.items = items\n",
        "        self.user2index_map = user2index_map\n",
        "    \n",
        "    # Created a function that will provide recommendation for the user\n",
        "    def recommendation_for_user(self, user, user_features = None):\n",
        "        \n",
        "        #Fetching the user\n",
        "        userindex = self.user2index_map.get(user, None)\n",
        "        \n",
        "        if userindex == None:\n",
        "            return None\n",
        "        \n",
        "        users = [userindex]\n",
        "        \n",
        "        # Products that are already bought by the user\n",
        "        known_positives = self.items[self.user_to_product_interaction_matrix.tocsr()[userindex].indices]\n",
        "        \n",
        "        # Accuracy of the Model\n",
        "        scores = self.model.predict(user_ids = users[0], item_ids = np.arange(self.user_to_product_interaction_matrix.shape[1]), user_features = user_features, item_features = product_to_feature_interaction)\n",
        "\n",
        "        # Top Items recommendation of the users\n",
        "        top_items = self.items[np.argsort(-scores)]\n",
        "        \n",
        "        temp = known_positives[:1][0]\n",
        "        temp1 = known_positives[1:2][0]\n",
        "        temp2 = known_positives[2:3][0]\n",
        "        temp3 = top_items[:1][0]\n",
        "        temp4 = top_items[1:2][0]\n",
        "        temp5 = top_items[2:3][0]\n",
        "\n",
        "        # Final Output\n",
        "        # Creating a Pretty Table that will have columns for users, items bought, category and recommended items and their category\n",
        "        \n",
        "        x = PrettyTable()\n",
        "        x.hrules = 1\n",
        "        x.field_names = [\"Users\", \"Items Bought\", \"Bought-Item Category\", \"Top Items\", \"Top-Items Category\"]\n",
        "        x.add_row([user, temp, product_to_feature['feature'][product_to_feature['product_id'] == temp].iloc[0], temp3, product_to_feature['feature'][product_to_feature['product_id'] == temp3].iloc[0] ])\n",
        "        \n",
        "        x.add_row([\"\", temp1, product_to_feature['feature'][product_to_feature['product_id'] == temp].iloc[0], temp4, product_to_feature['feature'][product_to_feature['product_id'] == temp4].iloc[0] ])\n",
        "        x.add_row([\" \", temp2, product_to_feature['feature'][product_to_feature['product_id'] == temp2].iloc[0], temp5, product_to_feature['feature'][product_to_feature['product_id'] == temp5].iloc[0] ])\n",
        "\n",
        "        print(x)"
      ],
      "metadata": {
        "id": "px-v38byLu3T"
      },
      "id": "px-v38byLu3T",
      "execution_count": 389,
      "outputs": []
    },
    {
      "cell_type": "code",
      "source": [
        "# Initial model without user features\n",
        "recom = recommendation_sampling(model = initial_model_1)\n",
        "print(recom.recommendation_for_user('c8ed31310fc440a3f8031b177f9842c3'))"
      ],
      "metadata": {
        "colab": {
          "base_uri": "https://localhost:8080/"
        },
        "id": "eNityOWWRFqq",
        "outputId": "a88940ed-dc61-418e-e5f7-914db5a424f8"
      },
      "id": "eNityOWWRFqq",
      "execution_count": 390,
      "outputs": [
        {
          "output_type": "stream",
          "name": "stdout",
          "text": [
            "+----------------------------------+----------------------------------+---------------------------------+----------------------------------+-----------------------+\n",
            "|              Users               |           Items Bought           |       Bought-Item Category      |            Top Items             |   Top-Items Category  |\n",
            "+----------------------------------+----------------------------------+---------------------------------+----------------------------------+-----------------------+\n",
            "| c8ed31310fc440a3f8031b177f9842c3 | 4a5c3967bfd3629fe07ef4d0cc8c3818 | construction_tools_construction | 78efe838c04bbc568be034082200ac20 |    furniture_decor    |\n",
            "+----------------------------------+----------------------------------+---------------------------------+----------------------------------+-----------------------+\n",
            "|                                  | 21b524c4c060169fa75ccf08c7da4627 | construction_tools_construction | dbb67791e405873b259e4656bf971246 | computers_accessories |\n",
            "+----------------------------------+----------------------------------+---------------------------------+----------------------------------+-----------------------+\n",
            "|                                  | 5dae498eff2d80057f56122235a36aff | construction_tools_construction | 6c706bd66d6df5b9eaa716699943efd0 |    furniture_decor    |\n",
            "+----------------------------------+----------------------------------+---------------------------------+----------------------------------+-----------------------+\n",
            "None\n"
          ]
        }
      ]
    },
    {
      "cell_type": "code",
      "source": [
        "# Initial model with user features having clustering\n",
        "recom = recommendation_sampling(model = initial_model_2)\n",
        "print(recom.recommendation_for_user('c8ed31310fc440a3f8031b177f9842c3', user_features = user_to_feature_interaction))"
      ],
      "metadata": {
        "colab": {
          "base_uri": "https://localhost:8080/"
        },
        "id": "01xaVwzRM_fg",
        "outputId": "b4cfa7c7-351a-4500-f843-6efe5972a6d6"
      },
      "id": "01xaVwzRM_fg",
      "execution_count": 391,
      "outputs": [
        {
          "output_type": "stream",
          "name": "stdout",
          "text": [
            "+----------------------------------+----------------------------------+---------------------------------+----------------------------------+--------------------+\n",
            "|              Users               |           Items Bought           |       Bought-Item Category      |            Top Items             | Top-Items Category |\n",
            "+----------------------------------+----------------------------------+---------------------------------+----------------------------------+--------------------+\n",
            "| c8ed31310fc440a3f8031b177f9842c3 | 4a5c3967bfd3629fe07ef4d0cc8c3818 | construction_tools_construction | 7ce94ab189134e2d3c05f496d635419c |    electronics     |\n",
            "+----------------------------------+----------------------------------+---------------------------------+----------------------------------+--------------------+\n",
            "|                                  | 21b524c4c060169fa75ccf08c7da4627 | construction_tools_construction | 4fe644d766c7566dbc46fb851363cb3b |        art         |\n",
            "+----------------------------------+----------------------------------+---------------------------------+----------------------------------+--------------------+\n",
            "|                                  | 5dae498eff2d80057f56122235a36aff | construction_tools_construction | 8ed094bfe076c568f6bb10feada3f75d |  office_furniture  |\n",
            "+----------------------------------+----------------------------------+---------------------------------+----------------------------------+--------------------+\n",
            "None\n"
          ]
        }
      ]
    },
    {
      "cell_type": "markdown",
      "source": [
        "## Hypertuning Parameter"
      ],
      "metadata": {
        "id": "E4qdtBoRUZQw"
      },
      "id": "E4qdtBoRUZQw"
    },
    {
      "cell_type": "code",
      "source": [
        "def hyperparameters():\n",
        "\n",
        "    #Defing hyperparametes to test the model\n",
        "    while True:\n",
        "        yield {\n",
        "            \"no_components\": np.random.randint(16, 64),\n",
        "            \"learning_schedule\": np.random.choice([\"adagrad\", \"adadelta\"]),\n",
        "            \"loss\": np.random.choice([\"bpr\", \"warp\", \"warp-kos\"]),\n",
        "            \"learning_rate\": np.random.exponential(0.05),\n",
        "            \"item_alpha\": np.random.exponential(1e-8),\n",
        "            \"user_alpha\": np.random.exponential(1e-8),\n",
        "            \"max_sampled\": np.random.randint(5, 15),\n",
        "            \"num_epochs\": np.random.randint(5, 50),\n",
        "        }"
      ],
      "metadata": {
        "id": "KqLrd2-ZOSbU"
      },
      "id": "KqLrd2-ZOSbU",
      "execution_count": 392,
      "outputs": []
    },
    {
      "cell_type": "code",
      "source": [
        "#Created function for searching that will give the best accuracy along with the parameters\n",
        "def random_searching(test, train, user_features, item_features, num_samples = 10):\n",
        "\n",
        "    #Implementing different parameters and calculating accuracy\n",
        "    for hyperparams in itertools.islice(hyperparameters(), num_samples):\n",
        "        num_epochs = hyperparams.pop(\"num_epochs\")\n",
        "\n",
        "        #Defining the model with the hyperparameter\n",
        "        model = LightFM(**hyperparams)\n",
        "\n",
        "        #Fitting the model with the model defined earlier \n",
        "        model.fit(train, user_features = user_features, item_features = item_features, epochs = num_epochs, num_threads = 1)\n",
        "\n",
        "        # Calculating the score of the model\n",
        "        score = auc_score(model = model, test_interactions = test, train_interactions = train, user_features = user_features, item_features = item_features, num_threads = 4, check_intersections=False).mean()\n",
        "\n",
        "        hyperparams[\"num_epochs\"] = num_epochs\n",
        "\n",
        "        yield (score, hyperparams, model)"
      ],
      "metadata": {
        "id": "dd_uXDFjs-rp"
      },
      "id": "dd_uXDFjs-rp",
      "execution_count": null,
      "outputs": []
    },
    {
      "cell_type": "markdown",
      "source": [
        "### Without User Features"
      ],
      "metadata": {
        "id": "ZUJscdbuU5v3"
      },
      "id": "ZUJscdbuU5v3"
    },
    {
      "cell_type": "code",
      "source": [
        "if __name__ == \"__main__\":\n",
        "    \n",
        "    # Executing the parameter searching and storing the accuracy, parameters and model\n",
        "    (score, hyperparams1, model) = max(random_searching(user_to_product_interaction_test, user_to_product_interaction_train, user_features = None, item_features = product_to_feature_interaction), key = lambda x: x[0])\n",
        "    \n",
        "    print(\"Best Accuracy achieved = \", score, \"having parameters :\", hyperparams1)"
      ],
      "metadata": {
        "colab": {
          "base_uri": "https://localhost:8080/"
        },
        "id": "vP-a_oI4Uh6h",
        "outputId": "6be0b97d-14f2-4125-a094-fac854ac26f1"
      },
      "id": "vP-a_oI4Uh6h",
      "execution_count": 393,
      "outputs": [
        {
          "output_type": "stream",
          "name": "stdout",
          "text": [
            "Best Accuracy achieved =  0.79793185 having parameters : {'no_components': 61, 'learning_schedule': 'adagrad', 'loss': 'warp', 'learning_rate': 0.0869168706485536, 'item_alpha': 2.3123933300190788e-09, 'user_alpha': 4.667578646903484e-09, 'max_sampled': 14, 'num_epochs': 10}\n"
          ]
        }
      ]
    },
    {
      "cell_type": "code",
      "source": [
        "# Making Final Model with combined data and hyperparameters\n",
        "model_hyperparams1 = {key: value for key, value in hyperparams1.items() if key not in 'num_epochs'}\n",
        "\n",
        "# Model without Clustering\n",
        "final_model_1 = LightFM(**(model_hyperparams1), random_state = 3)\n",
        "\n",
        "# Fitting the commbined data with collaborative filtering output\n",
        "final_model_1.fit(user_to_product_interaction, user_features = None, item_features = product_to_feature_interaction, sample_weight = None, epochs = 5, num_threads = 4, verbose = False)"
      ],
      "metadata": {
        "colab": {
          "base_uri": "https://localhost:8080/"
        },
        "id": "0kPQ23ZoUkbj",
        "outputId": "9ea52217-2162-4a2d-baaa-a8bf16ad842a"
      },
      "id": "0kPQ23ZoUkbj",
      "execution_count": 394,
      "outputs": [
        {
          "output_type": "execute_result",
          "data": {
            "text/plain": [
              "<lightfm.lightfm.LightFM at 0x7fee1dc48c90>"
            ]
          },
          "metadata": {},
          "execution_count": 394
        }
      ]
    },
    {
      "cell_type": "markdown",
      "source": [
        "### With user features"
      ],
      "metadata": {
        "id": "jFyo_KliVCHS"
      },
      "id": "jFyo_KliVCHS"
    },
    {
      "cell_type": "code",
      "source": [
        "if __name__ == \"__main__\":\n",
        "    \n",
        "    # Executing the parameter searching and storing the accuracy, parameters and model\n",
        "    (score, hyperparams2, model) = max(random_searching(user_to_product_interaction_test, user_to_product_interaction_train, user_to_feature_interaction, product_to_feature_interaction),  key = lambda x: x[0])\n",
        "    \n",
        "    print(\"Best Accuracy achieved \", score, \"having parameters :\", hyperparams2)"
      ],
      "metadata": {
        "colab": {
          "base_uri": "https://localhost:8080/"
        },
        "id": "lEHympOHU44s",
        "outputId": "d3b8a86c-9724-4c44-d41e-eda970047714"
      },
      "id": "lEHympOHU44s",
      "execution_count": 395,
      "outputs": [
        {
          "output_type": "stream",
          "name": "stdout",
          "text": [
            "Best Accuracy achieved  0.96380305 having parameters : {'no_components': 26, 'learning_schedule': 'adagrad', 'loss': 'warp-kos', 'learning_rate': 0.039141929634450935, 'item_alpha': 1.133628110446077e-08, 'user_alpha': 8.078068360184037e-09, 'max_sampled': 10, 'num_epochs': 13}\n"
          ]
        }
      ]
    },
    {
      "cell_type": "code",
      "source": [
        "# Making final model with combined data\n",
        "model_hyperparams2 = {key: value for key, value in hyperparams2.items() if key not in 'num_epochs'}\n",
        "\n",
        "# Model with Clustering\n",
        "final_model_2 = LightFM(**model_hyperparams2, random_state = 3)\n",
        "\n",
        "# Fitting the commbined data with collaborative filtering output\n",
        "final_model_2.fit(user_to_product_interaction, user_features=user_to_feature_interaction, item_features=product_to_feature_interaction,  sample_weight = None,  epochs = hyperparams2.pop('num_epochs'), num_threads = 4, verbose = False)"
      ],
      "metadata": {
        "colab": {
          "base_uri": "https://localhost:8080/"
        },
        "id": "dqi3HvdMVUPC",
        "outputId": "68c68699-4a69-4a43-b0a7-cda7ad75549b"
      },
      "id": "dqi3HvdMVUPC",
      "execution_count": 396,
      "outputs": [
        {
          "output_type": "execute_result",
          "data": {
            "text/plain": [
              "<lightfm.lightfm.LightFM at 0x7fee1dc48610>"
            ]
          },
          "metadata": {},
          "execution_count": 396
        }
      ]
    },
    {
      "cell_type": "code",
      "source": [
        "recom = recommendation_sampling(model = final_model_1)\n",
        "print(recom.recommendation_for_user('c8ed31310fc440a3f8031b177f9842c3'))"
      ],
      "metadata": {
        "colab": {
          "base_uri": "https://localhost:8080/"
        },
        "id": "LNOAVBKjVUIs",
        "outputId": "b39d4e73-37b4-4683-9506-4d9a459e0e0f"
      },
      "id": "LNOAVBKjVUIs",
      "execution_count": 397,
      "outputs": [
        {
          "output_type": "stream",
          "name": "stdout",
          "text": [
            "+----------------------------------+----------------------------------+---------------------------------+----------------------------------+---------------------------------+\n",
            "|              Users               |           Items Bought           |       Bought-Item Category      |            Top Items             |        Top-Items Category       |\n",
            "+----------------------------------+----------------------------------+---------------------------------+----------------------------------+---------------------------------+\n",
            "| c8ed31310fc440a3f8031b177f9842c3 | 4a5c3967bfd3629fe07ef4d0cc8c3818 | construction_tools_construction | 5096e827f6152df3974343e735a52dc9 | construction_tools_construction |\n",
            "+----------------------------------+----------------------------------+---------------------------------+----------------------------------+---------------------------------+\n",
            "|                                  | 21b524c4c060169fa75ccf08c7da4627 | construction_tools_construction | badbf5d003888b6338ea8774b4ac9717 | construction_tools_construction |\n",
            "+----------------------------------+----------------------------------+---------------------------------+----------------------------------+---------------------------------+\n",
            "|                                  | 5dae498eff2d80057f56122235a36aff | construction_tools_construction | 3e935c981d34489d33ea5c721ab2e14c |               food              |\n",
            "+----------------------------------+----------------------------------+---------------------------------+----------------------------------+---------------------------------+\n",
            "None\n"
          ]
        }
      ]
    },
    {
      "cell_type": "code",
      "source": [
        "recom = recommendation_sampling(model = final_model_2)\n",
        "print(recom.recommendation_for_user('c8ed31310fc440a3f8031b177f9842c3', user_features=user_to_feature_interaction))"
      ],
      "metadata": {
        "colab": {
          "base_uri": "https://localhost:8080/"
        },
        "id": "b0FnAMAaVUEq",
        "outputId": "c2776ce4-b72d-4bc9-fae2-98f0f5947ae2"
      },
      "id": "b0FnAMAaVUEq",
      "execution_count": 398,
      "outputs": [
        {
          "output_type": "stream",
          "name": "stdout",
          "text": [
            "+----------------------------------+----------------------------------+---------------------------------+----------------------------------+--------------------+\n",
            "|              Users               |           Items Bought           |       Bought-Item Category      |            Top Items             | Top-Items Category |\n",
            "+----------------------------------+----------------------------------+---------------------------------+----------------------------------+--------------------+\n",
            "| c8ed31310fc440a3f8031b177f9842c3 | 4a5c3967bfd3629fe07ef4d0cc8c3818 | construction_tools_construction | 89321f94e35fc6d7903d36f74e351d40 |        food        |\n",
            "+----------------------------------+----------------------------------+---------------------------------+----------------------------------+--------------------+\n",
            "|                                  | 21b524c4c060169fa75ccf08c7da4627 | construction_tools_construction | e5eadf9be70a4a9fa514019542fc330a |  home_appliances   |\n",
            "+----------------------------------+----------------------------------+---------------------------------+----------------------------------+--------------------+\n",
            "|                                  | 5dae498eff2d80057f56122235a36aff | construction_tools_construction | 0aabfb375647d9738ad0f7b4ea3653b1 |   consoles_games   |\n",
            "+----------------------------------+----------------------------------+---------------------------------+----------------------------------+--------------------+\n",
            "None\n"
          ]
        }
      ]
    }
  ],
  "metadata": {
    "kernelspec": {
      "display_name": "Python 3",
      "language": "python",
      "name": "python3"
    },
    "language_info": {
      "codemirror_mode": {
        "name": "ipython",
        "version": 3
      },
      "file_extension": ".py",
      "mimetype": "text/x-python",
      "name": "python",
      "nbconvert_exporter": "python",
      "pygments_lexer": "ipython3",
      "version": "3.8.8"
    },
    "colab": {
      "name": "Feature_Engineering_for_Recommendation.ipynb",
      "provenance": [],
      "collapsed_sections": [
        "66586e1b",
        "10d9b382"
      ]
    }
  },
  "nbformat": 4,
  "nbformat_minor": 5
}